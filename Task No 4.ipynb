{
 "cells": [
  {
   "cell_type": "code",
   "execution_count": 1,
   "id": "f2e9ac87",
   "metadata": {},
   "outputs": [],
   "source": [
    "# q1: try to print a prime number in between 1 to 1000\n",
    "# q2: try to write a function which is equivalent to print function in python\n",
    "# q3: try to write a function which a replica of list append, extend and pop function\n",
    "# q4: try to write a lambda function which can return a concatenation of all the string that we will pass\n",
    "# q5: try to write a lambda function which can return list of squire of all the data between 1-100\n",
    "# q6: try to write a 10 different different example of lambda function with a choice of your taks\n",
    "# q7: try to write a function which can perform a read operatiion from .txt file"
   ]
  },
  {
   "cell_type": "code",
   "execution_count": 7,
   "id": "a531b754",
   "metadata": {},
   "outputs": [
    {
     "name": "stdout",
     "output_type": "stream",
     "text": [
      "2 3 5 7 11 13 17 19 23 29 31 37 41 43 47 53 59 61 67 71 73 79 83 89 97 101 103 107 109 113 127 131 137 139 149 151 157 163 167 173 179 181 191 193 197 199 211 223 227 229 233 239 241 251 257 263 269 271 277 281 283 293 307 311 313 317 331 337 347 349 353 359 367 373 379 383 389 397 401 409 419 421 431 433 439 443 449 457 461 463 467 479 487 491 499 503 509 521 523 541 547 557 563 569 571 577 587 593 599 601 607 613 617 619 631 641 643 647 653 659 661 673 677 683 691 701 709 719 727 733 739 743 751 757 761 769 773 787 797 809 811 821 823 827 829 839 853 857 859 863 877 881 883 887 907 911 919 929 937 941 947 953 967 971 977 983 991 997 "
     ]
    }
   ],
   "source": [
    "# Ans 1\n",
    "\n",
    "def print_primes():\n",
    "    \n",
    "    for num in range(2,1000):\n",
    "        # define a flag variable\n",
    "        flag = True\n",
    "\n",
    "        # prime numbers are greater than 1\n",
    "        if num > 1:\n",
    "            # check for factors\n",
    "            for i in range(2, (num//2)+1):\n",
    "                if (num % i) == 0:\n",
    "                    # if factor is found, set flag to True means number is not prime\n",
    "                    flag = False\n",
    "                    continue\n",
    "\n",
    "        # check if flag is True\n",
    "        if flag:\n",
    "            print(num, end=' ')\n",
    "        \n",
    "print_primes()"
   ]
  },
  {
   "cell_type": "code",
   "execution_count": null,
   "id": "66a2be8c",
   "metadata": {},
   "outputs": [],
   "source": []
  },
  {
   "cell_type": "code",
   "execution_count": 79,
   "id": "f0e18c99",
   "metadata": {},
   "outputs": [
    {
     "name": "stdout",
     "output_type": "stream",
     "text": [
      "Hello Abhishek"
     ]
    }
   ],
   "source": [
    "#Q2 \n",
    "\n",
    "def printfun(st):\n",
    "    import sys\n",
    "    sys.stdout.write(st)\n",
    "    \n",
    "printfun(\"Hello Abhishek\")"
   ]
  },
  {
   "cell_type": "code",
   "execution_count": 43,
   "id": "b57bfcb4",
   "metadata": {},
   "outputs": [
    {
     "name": "stdout",
     "output_type": "stream",
     "text": [
      "Hello"
     ]
    }
   ],
   "source": []
  },
  {
   "cell_type": "code",
   "execution_count": 46,
   "id": "2764c24c",
   "metadata": {},
   "outputs": [
    {
     "data": {
      "text/plain": [
       "[2, 3, 4, 5, 6, 7]"
      ]
     },
     "execution_count": 46,
     "metadata": {},
     "output_type": "execute_result"
    }
   ],
   "source": [
    "# q3: try to write a function which a replica of list append, extend and pop function\n",
    "\n",
    "# append function ??\n",
    "\n",
    "def appendfun(l,val):\n",
    "    l[len(l):] = [val]\n",
    "    return l\n",
    "\n",
    "l = [2,3,4,5,6]\n",
    "appendfun(l,7)"
   ]
  },
  {
   "cell_type": "code",
   "execution_count": 48,
   "id": "100fd23b",
   "metadata": {},
   "outputs": [
    {
     "data": {
      "text/plain": [
       "5"
      ]
     },
     "execution_count": 48,
     "metadata": {},
     "output_type": "execute_result"
    }
   ],
   "source": [
    "# pop function\n",
    "\n",
    "def pop(l,ind=-1):\n",
    "    \n",
    "    temp = l[ind]\n",
    "    #temp1 = l[:len(l)-1]\n",
    "\n",
    "    return temp\n",
    "\n",
    "l = [2,3,4,5,6]\n",
    "pop(l,3)"
   ]
  },
  {
   "cell_type": "code",
   "execution_count": 38,
   "id": "f9d3886a",
   "metadata": {},
   "outputs": [],
   "source": [
    "# extend function\n",
    "\n",
    "def extend(l,l2):\n",
    "    for i in l2:\n",
    "        l.append(i)\n",
    "        \n",
    "l = [2,3,4,5,6]\n",
    "l2 = [7,8,9]\n",
    "extend(l,l2)"
   ]
  },
  {
   "cell_type": "code",
   "execution_count": 39,
   "id": "4f388e11",
   "metadata": {},
   "outputs": [
    {
     "data": {
      "text/plain": [
       "[2, 3, 4, 5, 6, 7, 8, 9]"
      ]
     },
     "execution_count": 39,
     "metadata": {},
     "output_type": "execute_result"
    }
   ],
   "source": [
    "l"
   ]
  },
  {
   "cell_type": "code",
   "execution_count": 2,
   "id": "d879fa80",
   "metadata": {},
   "outputs": [
    {
     "data": {
      "text/plain": [
       "'hiHElloAbhishek'"
      ]
     },
     "execution_count": 2,
     "metadata": {},
     "output_type": "execute_result"
    }
   ],
   "source": [
    "\"\".join([\"hi\",'HEllo','Abhishek'])"
   ]
  },
  {
   "cell_type": "code",
   "execution_count": 62,
   "id": "6eba2a7d",
   "metadata": {},
   "outputs": [
    {
     "data": {
      "text/plain": [
       "'hiHElloAbhishek'"
      ]
     },
     "execution_count": 62,
     "metadata": {},
     "output_type": "execute_result"
    }
   ],
   "source": [
    "#q4: try to write a lambda function which can return a concatenation of all the string that we will pass\n",
    "\n",
    "res = lambda *l : ''.join(l)\n",
    "\n",
    "res(\"hi\",'HEllo','Abhishek')"
   ]
  },
  {
   "cell_type": "code",
   "execution_count": 75,
   "id": "cd2e5e2d",
   "metadata": {},
   "outputs": [
    {
     "name": "stdout",
     "output_type": "stream",
     "text": [
      "[1, 4, 9, 16, 25, 36, 49, 64, 81, 100, 121, 144, 169, 196, 225, 256, 289, 324, 361, 400, 441, 484, 529, 576, 625, 676, 729, 784, 841, 900, 961, 1024, 1089, 1156, 1225, 1296, 1369, 1444, 1521, 1600, 1681, 1764, 1849, 1936, 2025, 2116, 2209, 2304, 2401, 2500, 2601, 2704, 2809, 2916, 3025, 3136, 3249, 3364, 3481, 3600, 3721, 3844, 3969, 4096, 4225, 4356, 4489, 4624, 4761, 4900, 5041, 5184, 5329, 5476, 5625, 5776, 5929, 6084, 6241, 6400, 6561, 6724, 6889, 7056, 7225, 7396, 7569, 7744, 7921, 8100, 8281, 8464, 8649, 8836, 9025, 9216, 9409, 9604, 9801, 10000] "
     ]
    }
   ],
   "source": [
    "# q5 try to write a lambda function which can return list of squire of all the data between 1-100\n",
    "\n",
    "sqrs= lambda l:[i*i for i in l]\n",
    "print(sqrs(range(1,101)), end=\" \")"
   ]
  },
  {
   "cell_type": "code",
   "execution_count": null,
   "id": "f03b7af9",
   "metadata": {},
   "outputs": [],
   "source": []
  },
  {
   "cell_type": "code",
   "execution_count": 76,
   "id": "a73e912b",
   "metadata": {},
   "outputs": [],
   "source": [
    "# q6: try to write a 10 different different example of lambda function with a choice of your taks"
   ]
  },
  {
   "cell_type": "code",
   "execution_count": 80,
   "id": "41a28c8f",
   "metadata": {},
   "outputs": [
    {
     "name": "stdout",
     "output_type": "stream",
     "text": [
      "hello there\n"
     ]
    }
   ],
   "source": [
    "#1\n",
    "printer = lambda st: print(st)\n",
    "printer(\"hello there\")"
   ]
  },
  {
   "cell_type": "code",
   "execution_count": 82,
   "id": "f2614098",
   "metadata": {},
   "outputs": [
    {
     "data": {
      "text/plain": [
       "9"
      ]
     },
     "execution_count": 82,
     "metadata": {},
     "output_type": "execute_result"
    }
   ],
   "source": [
    "#2\n",
    "add = lambda a,b: a+b\n",
    "    \n",
    "add(3,6)"
   ]
  },
  {
   "cell_type": "code",
   "execution_count": 115,
   "id": "356cdb28",
   "metadata": {},
   "outputs": [
    {
     "name": "stdout",
     "output_type": "stream",
     "text": [
      "[2, 2, 4, 6, 8, 8, 98]\n"
     ]
    }
   ],
   "source": [
    "#3\n",
    "\n",
    "l = [2,2,3,4,5,6,7,8,8,9,98]\n",
    "l1 = list(filter(lambda x : x%2==0, l))\n",
    "\n",
    "print(l1)"
   ]
  },
  {
   "cell_type": "code",
   "execution_count": 101,
   "id": "2b394a46",
   "metadata": {},
   "outputs": [
    {
     "data": {
      "text/plain": [
       "'Male'"
      ]
     },
     "execution_count": 101,
     "metadata": {},
     "output_type": "execute_result"
    }
   ],
   "source": [
    "#4\n",
    "\n",
    "res = lambda x : 'Male' if x== \"Father\" or x== \"son\" else 'Female' \n",
    "res('son')"
   ]
  },
  {
   "cell_type": "code",
   "execution_count": 110,
   "id": "b7f6a549",
   "metadata": {},
   "outputs": [
    {
     "data": {
      "text/plain": [
       "[23, 225, 34]"
      ]
     },
     "execution_count": 110,
     "metadata": {},
     "output_type": "execute_result"
    }
   ],
   "source": [
    "#5\n",
    "\n",
    "list(filter(lambda x: x >20 , [12,23,14,225,34,15]))"
   ]
  },
  {
   "cell_type": "code",
   "execution_count": null,
   "id": "64ea2598",
   "metadata": {},
   "outputs": [],
   "source": []
  },
  {
   "cell_type": "code",
   "execution_count": 116,
   "id": "03177870",
   "metadata": {},
   "outputs": [
    {
     "data": {
      "text/plain": [
       "18"
      ]
     },
     "execution_count": 116,
     "metadata": {},
     "output_type": "execute_result"
    }
   ],
   "source": [
    "#6\n",
    "\n",
    "multiply = lambda x,y: x*y\n",
    "\n",
    "multiply(3,6)"
   ]
  },
  {
   "cell_type": "code",
   "execution_count": 118,
   "id": "6671a196",
   "metadata": {},
   "outputs": [
    {
     "name": "stdout",
     "output_type": "stream",
     "text": [
      "any number 567456\n",
      "number [5, 6, 7, 4, 5, 6]\n"
     ]
    }
   ],
   "source": [
    "#7\n",
    "\n",
    "number = list(map(int, input(\"any number \")))\n",
    "\n",
    "print(\"number\", number)"
   ]
  },
  {
   "cell_type": "code",
   "execution_count": null,
   "id": "509f0735",
   "metadata": {},
   "outputs": [],
   "source": []
  },
  {
   "cell_type": "code",
   "execution_count": 122,
   "id": "8e4a8b14",
   "metadata": {},
   "outputs": [
    {
     "data": {
      "text/plain": [
       "['My', 'name', 'is', 'Abhishek']"
      ]
     },
     "execution_count": 122,
     "metadata": {},
     "output_type": "execute_result"
    }
   ],
   "source": [
    "#8\n",
    "\n",
    "st = lambda s: s.split()\n",
    "\n",
    "st(\"My name is Abhishek\")"
   ]
  },
  {
   "cell_type": "code",
   "execution_count": null,
   "id": "39bb2700",
   "metadata": {},
   "outputs": [],
   "source": []
  },
  {
   "cell_type": "code",
   "execution_count": null,
   "id": "c471d2f7",
   "metadata": {},
   "outputs": [],
   "source": []
  },
  {
   "cell_type": "code",
   "execution_count": 92,
   "id": "968413a2",
   "metadata": {},
   "outputs": [
    {
     "name": "stdout",
     "output_type": "stream",
     "text": [
      "Hello\n",
      "This is Abhishek \n",
      "I'm doing good \n",
      "What about you ?\n",
      "\n"
     ]
    }
   ],
   "source": [
    "# q7: try to write a function which can perform a read operatiion from .txt file\n",
    "\n",
    "# Opening a file\n",
    "file = open('myfile.txt', 'w')\n",
    "\n",
    "L = [\"This is Abhishek \\n\", \"I'm doing good \\n\", \"What about you ?\\n\"]\n",
    "s = \"Hello\\n\"\n",
    "  \n",
    "# Writing a string to file\n",
    "file.write(s)\n",
    "  \n",
    "# Writing multiple strings at a time\n",
    "file.writelines(L)\n",
    "  \n",
    "# Closing file\n",
    "file.close()\n",
    "  \n",
    "# Reading the file \n",
    "file = open('myfile.txt', 'r')\n",
    "print(file.read())\n",
    "file.close()"
   ]
  },
  {
   "cell_type": "code",
   "execution_count": null,
   "id": "ed02f6b4",
   "metadata": {},
   "outputs": [],
   "source": []
  }
 ],
 "metadata": {
  "kernelspec": {
   "display_name": "Python 3",
   "language": "python",
   "name": "python3"
  },
  "language_info": {
   "codemirror_mode": {
    "name": "ipython",
    "version": 3
   },
   "file_extension": ".py",
   "mimetype": "text/x-python",
   "name": "python",
   "nbconvert_exporter": "python",
   "pygments_lexer": "ipython3",
   "version": "3.8.8"
  }
 },
 "nbformat": 4,
 "nbformat_minor": 5
}

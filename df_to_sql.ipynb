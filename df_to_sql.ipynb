{
 "cells": [
  {
   "cell_type": "code",
   "execution_count": 3,
   "id": "ab01cf35",
   "metadata": {},
   "outputs": [],
   "source": [
    "import pandas as pd"
   ]
  },
  {
   "cell_type": "code",
   "execution_count": 1,
   "id": "1f551d35",
   "metadata": {},
   "outputs": [],
   "source": [
    "from sqlalchemy import create_engine"
   ]
  },
  {
   "cell_type": "code",
   "execution_count": 2,
   "id": "c526a765",
   "metadata": {},
   "outputs": [],
   "source": [
    "engine = create_engine('sqlite://', echo=False)"
   ]
  },
  {
   "cell_type": "code",
   "execution_count": 4,
   "id": "d9eaf5f2",
   "metadata": {},
   "outputs": [],
   "source": [
    "df = pd.DataFrame({'name':['Abhishek', 'Divyesh', 'Vikrant']})"
   ]
  },
  {
   "cell_type": "code",
   "execution_count": 5,
   "id": "952b7bf3",
   "metadata": {},
   "outputs": [
    {
     "data": {
      "text/html": [
       "<div>\n",
       "<style scoped>\n",
       "    .dataframe tbody tr th:only-of-type {\n",
       "        vertical-align: middle;\n",
       "    }\n",
       "\n",
       "    .dataframe tbody tr th {\n",
       "        vertical-align: top;\n",
       "    }\n",
       "\n",
       "    .dataframe thead th {\n",
       "        text-align: right;\n",
       "    }\n",
       "</style>\n",
       "<table border=\"1\" class=\"dataframe\">\n",
       "  <thead>\n",
       "    <tr style=\"text-align: right;\">\n",
       "      <th></th>\n",
       "      <th>name</th>\n",
       "    </tr>\n",
       "  </thead>\n",
       "  <tbody>\n",
       "    <tr>\n",
       "      <th>0</th>\n",
       "      <td>Abhishek</td>\n",
       "    </tr>\n",
       "    <tr>\n",
       "      <th>1</th>\n",
       "      <td>Divyesh</td>\n",
       "    </tr>\n",
       "    <tr>\n",
       "      <th>2</th>\n",
       "      <td>Vikrant</td>\n",
       "    </tr>\n",
       "  </tbody>\n",
       "</table>\n",
       "</div>"
      ],
      "text/plain": [
       "       name\n",
       "0  Abhishek\n",
       "1   Divyesh\n",
       "2   Vikrant"
      ]
     },
     "execution_count": 5,
     "metadata": {},
     "output_type": "execute_result"
    }
   ],
   "source": [
    "df"
   ]
  },
  {
   "cell_type": "code",
   "execution_count": 6,
   "id": "3ad420f1",
   "metadata": {},
   "outputs": [],
   "source": [
    "df.to_sql('users', con=engine)"
   ]
  },
  {
   "cell_type": "code",
   "execution_count": 7,
   "id": "391c97a9",
   "metadata": {},
   "outputs": [
    {
     "data": {
      "text/plain": [
       "[(0, 'Abhishek'), (1, 'Divyesh'), (2, 'Vikrant')]"
      ]
     },
     "execution_count": 7,
     "metadata": {},
     "output_type": "execute_result"
    }
   ],
   "source": [
    "engine.execute(\"SELECT * FROM users\").fetchall()"
   ]
  },
  {
   "cell_type": "code",
   "execution_count": 8,
   "id": "cf53d486",
   "metadata": {},
   "outputs": [
    {
     "name": "stdout",
     "output_type": "stream",
     "text": [
      "(0, 'Abhishek')\n",
      "(1, 'Divyesh')\n",
      "(2, 'Vikrant')\n"
     ]
    }
   ],
   "source": [
    "for i in engine.execute(\"SELECT * FROM users\").fetchall():\n",
    "    print(i)"
   ]
  },
  {
   "cell_type": "code",
   "execution_count": null,
   "id": "c63b799f",
   "metadata": {},
   "outputs": [],
   "source": []
  },
  {
   "cell_type": "code",
   "execution_count": 11,
   "id": "1df27fda",
   "metadata": {},
   "outputs": [
    {
     "data": {
      "text/html": [
       "<div>\n",
       "<style scoped>\n",
       "    .dataframe tbody tr th:only-of-type {\n",
       "        vertical-align: middle;\n",
       "    }\n",
       "\n",
       "    .dataframe tbody tr th {\n",
       "        vertical-align: top;\n",
       "    }\n",
       "\n",
       "    .dataframe thead th {\n",
       "        text-align: right;\n",
       "    }\n",
       "</style>\n",
       "<table border=\"1\" class=\"dataframe\">\n",
       "  <thead>\n",
       "    <tr style=\"text-align: right;\">\n",
       "      <th></th>\n",
       "      <th>name</th>\n",
       "    </tr>\n",
       "  </thead>\n",
       "  <tbody>\n",
       "    <tr>\n",
       "      <th>0</th>\n",
       "      <td>Panday</td>\n",
       "    </tr>\n",
       "    <tr>\n",
       "      <th>1</th>\n",
       "      <td>Suryansh</td>\n",
       "    </tr>\n",
       "  </tbody>\n",
       "</table>\n",
       "</div>"
      ],
      "text/plain": [
       "       name\n",
       "0    Panday\n",
       "1  Suryansh"
      ]
     },
     "execution_count": 11,
     "metadata": {},
     "output_type": "execute_result"
    }
   ],
   "source": [
    "df1 = pd.DataFrame({'name':['Panday','Suryansh']})\n",
    "df1"
   ]
  },
  {
   "cell_type": "code",
   "execution_count": 13,
   "id": "9a57bed6",
   "metadata": {},
   "outputs": [],
   "source": [
    "with engine.begin() as connection:\n",
    "    df1.to_sql('users', con=connection, if_exists='append')"
   ]
  },
  {
   "cell_type": "code",
   "execution_count": 15,
   "id": "cc19080f",
   "metadata": {},
   "outputs": [
    {
     "data": {
      "text/plain": [
       "[(0, 'Abhishek'),\n",
       " (1, 'Divyesh'),\n",
       " (2, 'Vikrant'),\n",
       " (0, 'Panday'),\n",
       " (1, 'Suryansh')]"
      ]
     },
     "execution_count": 15,
     "metadata": {},
     "output_type": "execute_result"
    }
   ],
   "source": [
    "engine.execute(\"SELECT * FROM users\").fetchall()"
   ]
  },
  {
   "cell_type": "code",
   "execution_count": null,
   "id": "72c6acd1",
   "metadata": {},
   "outputs": [],
   "source": []
  },
  {
   "cell_type": "code",
   "execution_count": null,
   "id": "eff7b7c8",
   "metadata": {},
   "outputs": [],
   "source": []
  },
  {
   "cell_type": "markdown",
   "id": "53ca8e30",
   "metadata": {},
   "source": [
    "Examples\n",
    "--------\n",
    "Create an in-memory SQLite database.\n",
    "\n",
    ">>> from sqlalchemy import create_engine\n",
    ">>> engine = create_engine('sqlite://', echo=False)\n",
    "\n",
    "Create a table from scratch with 3 rows.\n",
    "\n",
    ">>> df = pd.DataFrame({'name' : ['User 1', 'User 2', 'User 3']})\n",
    ">>> df\n",
    "     name\n",
    "0  User 1\n",
    "1  User 2\n",
    "2  User 3\n",
    "\n",
    ">>> df.to_sql('users', con=engine)\n",
    ">>> engine.execute(\"SELECT * FROM users\").fetchall()\n",
    "[(0, 'User 1'), (1, 'User 2'), (2, 'User 3')]\n",
    "\n",
    "An `sqlalchemy.engine.Connection` can also be passed to `con`:\n",
    "\n",
    ">>> with engine.begin() as connection:\n",
    "...     df1 = pd.DataFrame({'name' : ['User 4', 'User 5']})\n",
    "...     df1.to_sql('users', con=connection, if_exists='append')\n",
    "\n",
    "This is allowed to support operations that require that the same\n",
    "DBAPI connection is used for the entire operation.\n",
    "\n",
    ">>> df2 = pd.DataFrame({'name' : ['User 6', 'User 7']})\n",
    ">>> df2.to_sql('users', con=engine, if_exists='append')\n",
    ">>> engine.execute(\"SELECT * FROM users\").fetchall()\n",
    "[(0, 'User 1'), (1, 'User 2'), (2, 'User 3'),\n",
    " (0, 'User 4'), (1, 'User 5'), (0, 'User 6'),\n",
    " (1, 'User 7')]\n",
    "\n",
    "Overwrite the table with just ``df2``.\n",
    "\n",
    ">>> df2.to_sql('users', con=engine, if_exists='replace',\n",
    "...            index_label='id')\n",
    ">>> engine.execute(\"SELECT * FROM users\").fetchall()\n",
    "[(0, 'User 6'), (1, 'User 7')]\n",
    "\n",
    "Specify the dtype (especially useful for integers with missing values).\n",
    "Notice that while pandas is forced to store the data as floating point,\n",
    "the database supports nullable integers. When fetching the data with\n",
    "Python, we get back integer scalars.\n",
    "\n",
    ">>> df = pd.DataFrame({\"A\": [1, None, 2]})\n",
    ">>> df\n",
    "     A\n",
    "0  1.0\n",
    "1  NaN\n",
    "2  2.0\n",
    "\n",
    ">>> from sqlalchemy.types import Integer\n",
    ">>> df.to_sql('integers', con=engine, index=False,\n",
    "...           dtype={\"A\": Integer()})\n",
    "\n",
    ">>> engine.execute(\"SELECT * FROM integers\").fetchall()\n",
    "[(1,), (None,), (2,)]\n",
    "File:      c:\\programdata\\anaconda3\\lib\\site-packages\\pandas\\core\\generic.py\n",
    "Type:      method"
   ]
  },
  {
   "cell_type": "code",
   "execution_count": null,
   "id": "d6ccc299",
   "metadata": {},
   "outputs": [],
   "source": []
  }
 ],
 "metadata": {
  "kernelspec": {
   "display_name": "Python 3",
   "language": "python",
   "name": "python3"
  },
  "language_info": {
   "codemirror_mode": {
    "name": "ipython",
    "version": 3
   },
   "file_extension": ".py",
   "mimetype": "text/x-python",
   "name": "python",
   "nbconvert_exporter": "python",
   "pygments_lexer": "ipython3",
   "version": "3.8.8"
  }
 },
 "nbformat": 4,
 "nbformat_minor": 5
}

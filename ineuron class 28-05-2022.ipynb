{
 "cells": [
  {
   "cell_type": "code",
   "execution_count": 1,
   "id": "6e52ed6f",
   "metadata": {},
   "outputs": [],
   "source": [
    "t = (3,23,45,67,2,4,5,6)"
   ]
  },
  {
   "cell_type": "code",
   "execution_count": 2,
   "id": "b0fa20d5",
   "metadata": {},
   "outputs": [
    {
     "data": {
      "text/plain": [
       "3"
      ]
     },
     "execution_count": 2,
     "metadata": {},
     "output_type": "execute_result"
    }
   ],
   "source": [
    "t[0]"
   ]
  },
  {
   "cell_type": "code",
   "execution_count": 5,
   "id": "dc53fd1f",
   "metadata": {},
   "outputs": [
    {
     "name": "stdout",
     "output_type": "stream",
     "text": [
      "0 3\n",
      "1 23\n",
      "2 45\n",
      "3 67\n",
      "4 2\n",
      "5 4\n",
      "6 5\n",
      "7 6\n"
     ]
    }
   ],
   "source": [
    "for i in range(len(t)):\n",
    "    print(i,t[i])"
   ]
  },
  {
   "cell_type": "code",
   "execution_count": 6,
   "id": "d8cf94c8",
   "metadata": {},
   "outputs": [
    {
     "data": {
      "text/plain": [
       "range(0, 8)"
      ]
     },
     "execution_count": 6,
     "metadata": {},
     "output_type": "execute_result"
    }
   ],
   "source": [
    "s = \"ineuron\"\n",
    "range(len(t))"
   ]
  },
  {
   "cell_type": "code",
   "execution_count": 11,
   "id": "aeb60033",
   "metadata": {},
   "outputs": [
    {
     "name": "stdout",
     "output_type": "stream",
     "text": [
      "6 n\n",
      "5 o\n",
      "4 r\n",
      "3 u\n",
      "2 e\n",
      "1 n\n",
      "0 i\n"
     ]
    }
   ],
   "source": [
    "for i in range(len(s)-1,-1,-1):\n",
    "    print(i,s[i])"
   ]
  },
  {
   "cell_type": "code",
   "execution_count": 12,
   "id": "47b6824c",
   "metadata": {},
   "outputs": [],
   "source": [
    "d = {'key1':'sudh','contact':'sudhanshu@ineuron.ai','position':'xyz'}"
   ]
  },
  {
   "cell_type": "code",
   "execution_count": 13,
   "id": "28a12bc4",
   "metadata": {},
   "outputs": [
    {
     "data": {
      "text/plain": [
       "{'key1': 'sudh', 'contact': 'sudhanshu@ineuron.ai', 'position': 'xyz'}"
      ]
     },
     "execution_count": 13,
     "metadata": {},
     "output_type": "execute_result"
    }
   ],
   "source": [
    "d"
   ]
  },
  {
   "cell_type": "code",
   "execution_count": 28,
   "id": "7a5cb9c3",
   "metadata": {},
   "outputs": [],
   "source": [
    "l = ['sudh','kumar',3234545,'sudhanshu@ineuron.ai',345,3452345]"
   ]
  },
  {
   "cell_type": "code",
   "execution_count": 31,
   "id": "98600ffb",
   "metadata": {},
   "outputs": [],
   "source": [
    "l1 = []\n",
    "for i in l:\n",
    "    if type(i)==int:\n",
    "        l1.append(i)"
   ]
  },
  {
   "cell_type": "code",
   "execution_count": 32,
   "id": "06d311e3",
   "metadata": {},
   "outputs": [
    {
     "data": {
      "text/plain": [
       "[3234545, 345, 3452345]"
      ]
     },
     "execution_count": 32,
     "metadata": {},
     "output_type": "execute_result"
    }
   ],
   "source": [
    "l1"
   ]
  },
  {
   "cell_type": "code",
   "execution_count": 33,
   "id": "51c9affe",
   "metadata": {},
   "outputs": [],
   "source": [
    "d = {1:345345,'name':'sudh','email_id':'sudhanshu@ineuron.ai',234:'jhfghf',234:'2345'}"
   ]
  },
  {
   "cell_type": "code",
   "execution_count": 36,
   "id": "ac98e527",
   "metadata": {},
   "outputs": [
    {
     "name": "stdout",
     "output_type": "stream",
     "text": [
      "1 : 345345\n",
      "234 : 2345\n"
     ]
    }
   ],
   "source": [
    "for i in d:\n",
    "    if type(i)==int:\n",
    "        print(i,':',d[i])\n"
   ]
  },
  {
   "cell_type": "code",
   "execution_count": 41,
   "id": "2623895f",
   "metadata": {},
   "outputs": [
    {
     "name": "stdout",
     "output_type": "stream",
     "text": [
      "b : 2\n",
      "c : 2\n",
      "a : 4\n",
      "d : 2\n"
     ]
    }
   ],
   "source": [
    "# what i have done\n",
    "s = 'aaaabbccdd'\n",
    "li = list(set(s))\n",
    "li\n",
    "for i in li:\n",
    "    print(i,':',s.count(i))"
   ]
  },
  {
   "cell_type": "code",
   "execution_count": 43,
   "id": "e6c1432c",
   "metadata": {},
   "outputs": [
    {
     "name": "stdout",
     "output_type": "stream",
     "text": [
      "b : 2\n",
      "c : 2\n",
      "a : 4\n",
      "d : 2\n"
     ]
    }
   ],
   "source": [
    "#improved one\n",
    "for i in set(s):\n",
    "    print(i,\":\",s.count(i))"
   ]
  },
  {
   "cell_type": "code",
   "execution_count": 46,
   "id": "40895ca8",
   "metadata": {},
   "outputs": [
    {
     "name": "stdout",
     "output_type": "stream",
     "text": [
      "2 <class 'int'>\n",
      "5 <class 'int'>\n",
      "4 <class 'int'>\n",
      "8 <class 'int'>\n",
      "6 <class 'int'>\n",
      "8 <class 'int'>\n",
      "9 <class 'int'>\n",
      "3 <class 'int'>\n",
      "9 <class 'int'>\n",
      "8 <class 'int'>\n",
      "4 <class 'int'>\n",
      "5 <class 'int'>\n",
      "8 <class 'int'>\n",
      "7 <class 'int'>\n"
     ]
    }
   ],
   "source": [
    "i = 25486893984587\n",
    "for j in str(i):            #type casting\n",
    "    print(j, type(i))"
   ]
  },
  {
   "cell_type": "code",
   "execution_count": 47,
   "id": "d855357e",
   "metadata": {},
   "outputs": [],
   "source": [
    "t = ('sudh','kumar',[1,2,3,4,5],(3,4,5,6),{'key1':'sudh','key2':'kumar'})"
   ]
  },
  {
   "cell_type": "code",
   "execution_count": 48,
   "id": "0721c200",
   "metadata": {},
   "outputs": [
    {
     "name": "stdout",
     "output_type": "stream",
     "text": [
      "[1, 2, 3, 4, 5] 3\n",
      "(3, 4, 5, 6) 3\n"
     ]
    }
   ],
   "source": [
    "for i in t:\n",
    "    if type(i)==int or type(i) == tuple:\n",
    "        for j in i:\n",
    "            if j == 3:\n",
    "                print(i,j)"
   ]
  },
  {
   "cell_type": "code",
   "execution_count": 49,
   "id": "2b4a9aa4",
   "metadata": {},
   "outputs": [
    {
     "ename": "SyntaxError",
     "evalue": "invalid syntax (<ipython-input-49-962fc5799cf9>, line 1)",
     "output_type": "error",
     "traceback": [
      "\u001b[1;36m  File \u001b[1;32m\"<ipython-input-49-962fc5799cf9>\"\u001b[1;36m, line \u001b[1;32m1\u001b[0m\n\u001b[1;33m    q1: try to extract all the list entity\u001b[0m\n\u001b[1;37m        ^\u001b[0m\n\u001b[1;31mSyntaxError\u001b[0m\u001b[1;31m:\u001b[0m invalid syntax\n"
     ]
    }
   ],
   "source": [
    "q1: try to extract all the list entity\n",
    "q2: try to extract all the dict entity\n",
    "q3: try to extract all the tuples entity\n",
    "q4: try extract all the numerical data it may be a part of dict key and values\n",
    "q7: try to give summation of all the numerical data\n",
    "q8: try to filter out all the "
   ]
  },
  {
   "cell_type": "code",
   "execution_count": null,
   "id": "db027441",
   "metadata": {},
   "outputs": [],
   "source": []
  }
 ],
 "metadata": {
  "kernelspec": {
   "display_name": "Python 3",
   "language": "python",
   "name": "python3"
  },
  "language_info": {
   "codemirror_mode": {
    "name": "ipython",
    "version": 3
   },
   "file_extension": ".py",
   "mimetype": "text/x-python",
   "name": "python",
   "nbconvert_exporter": "python",
   "pygments_lexer": "ipython3",
   "version": "3.8.8"
  }
 },
 "nbformat": 4,
 "nbformat_minor": 5
}

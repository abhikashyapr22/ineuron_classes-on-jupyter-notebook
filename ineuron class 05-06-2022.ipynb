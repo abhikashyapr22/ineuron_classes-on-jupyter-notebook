{
 "cells": [
  {
   "cell_type": "code",
   "execution_count": 7,
   "id": "d9313492",
   "metadata": {},
   "outputs": [],
   "source": [
    "def test(a, b) :\n",
    "    \"\"\"this is my function for concatenation or addition\"\"\"    # this how we create docstring\n",
    "    return a+b"
   ]
  },
  {
   "cell_type": "code",
   "execution_count": 2,
   "id": "800855af",
   "metadata": {},
   "outputs": [
    {
     "data": {
      "text/plain": [
       "'sudhkumar'"
      ]
     },
     "execution_count": 2,
     "metadata": {},
     "output_type": "execute_result"
    }
   ],
   "source": [
    "test(\"sudh\",\"kumar\")"
   ]
  },
  {
   "cell_type": "code",
   "execution_count": 3,
   "id": "204d9a8f",
   "metadata": {},
   "outputs": [
    {
     "data": {
      "text/plain": [
       "15"
      ]
     },
     "execution_count": 3,
     "metadata": {},
     "output_type": "execute_result"
    }
   ],
   "source": [
    "test(9,6)"
   ]
  },
  {
   "cell_type": "code",
   "execution_count": 4,
   "id": "f6979f30",
   "metadata": {},
   "outputs": [
    {
     "data": {
      "text/plain": [
       "48"
      ]
     },
     "execution_count": 4,
     "metadata": {},
     "output_type": "execute_result"
    }
   ],
   "source": [
    "test(45,3)"
   ]
  },
  {
   "cell_type": "code",
   "execution_count": 5,
   "id": "0c57050b",
   "metadata": {},
   "outputs": [],
   "source": [
    "# def test1(a, b) :\n",
    "#     return a-b"
   ]
  },
  {
   "cell_type": "code",
   "execution_count": 6,
   "id": "5052e41b",
   "metadata": {},
   "outputs": [
    {
     "data": {
      "text/plain": [
       "48"
      ]
     },
     "execution_count": 6,
     "metadata": {},
     "output_type": "execute_result"
    }
   ],
   "source": [
    "# test1(b=3,a=45)"
   ]
  },
  {
   "cell_type": "code",
   "execution_count": 8,
   "id": "5438a7a7",
   "metadata": {},
   "outputs": [],
   "source": [
    "def test1(a,b,c,d,e):\n",
    "    return \"ok\"\n",
    "  "
   ]
  },
  {
   "cell_type": "code",
   "execution_count": 9,
   "id": "aa7d2d7e",
   "metadata": {},
   "outputs": [],
   "source": [
    "def test(*a):\n",
    "    return a"
   ]
  },
  {
   "cell_type": "code",
   "execution_count": 10,
   "id": "cc61d071",
   "metadata": {},
   "outputs": [
    {
     "data": {
      "text/plain": [
       "(12, 34)"
      ]
     },
     "execution_count": 10,
     "metadata": {},
     "output_type": "execute_result"
    }
   ],
   "source": [
    "test(12,34)"
   ]
  },
  {
   "cell_type": "code",
   "execution_count": null,
   "id": "c83cab51",
   "metadata": {},
   "outputs": [],
   "source": []
  },
  {
   "cell_type": "code",
   "execution_count": 11,
   "id": "efea5977",
   "metadata": {},
   "outputs": [],
   "source": [
    "# Todays task :\n",
    "#     q1 : Try to print a prime number in between 1 to 1000\n",
    "#     q2 : Try to write a function which  is equivalent  to print function in python\n",
    "#     q3 : Try to write a function which is a replica of list append , extend and pop function \n",
    "#     q4 : Try to write a lambda function which can return a concatination of all the string that we will pass\n",
    "#     q5 : Try to write a lambda function which can return list of square of all the data between 1-100 \n",
    "#     q6 : Try to write a 10 Different different example of lambda function with a choice of your taks \n",
    "#     q7 : Try to wwrite a funtion whihc can perform a read operation from .txt file \n",
    "        \n",
    "#         shivan@ineuron.ai\n",
    "#         sudhashu@ineuron.ai"
   ]
  },
  {
   "cell_type": "code",
   "execution_count": null,
   "id": "28572c88",
   "metadata": {},
   "outputs": [],
   "source": []
  }
 ],
 "metadata": {
  "kernelspec": {
   "display_name": "Python 3",
   "language": "python",
   "name": "python3"
  },
  "language_info": {
   "codemirror_mode": {
    "name": "ipython",
    "version": 3
   },
   "file_extension": ".py",
   "mimetype": "text/x-python",
   "name": "python",
   "nbconvert_exporter": "python",
   "pygments_lexer": "ipython3",
   "version": "3.8.8"
  }
 },
 "nbformat": 4,
 "nbformat_minor": 5
}

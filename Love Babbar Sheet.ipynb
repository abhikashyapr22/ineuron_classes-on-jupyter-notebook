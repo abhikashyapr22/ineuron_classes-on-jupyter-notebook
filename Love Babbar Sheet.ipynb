{
 "cells": [
  {
   "cell_type": "code",
   "execution_count": 3,
   "id": "ed6f3677",
   "metadata": {},
   "outputs": [],
   "source": [
    "#Reverse the array"
   ]
  },
  {
   "cell_type": "code",
   "execution_count": 7,
   "id": "72378e82",
   "metadata": {},
   "outputs": [
    {
     "name": "stdout",
     "output_type": "stream",
     "text": [
      "9 4 7 6 4 4 8 7 6 52 3 "
     ]
    }
   ],
   "source": [
    "def rev_arr(arr):\n",
    "    for i in range(len(arr)):\n",
    "        print(arr[len(arr)-1-i],end=\" \")\n",
    "        \n",
    "rev_arr([3,52,6,7,8,4,4,6,7,4,9])"
   ]
  },
  {
   "cell_type": "code",
   "execution_count": 14,
   "id": "9cea3e71",
   "metadata": {},
   "outputs": [],
   "source": [
    "arr = [3,52,6,7,8,4,4,6,7,4,9]"
   ]
  },
  {
   "cell_type": "code",
   "execution_count": 16,
   "id": "43acf53d",
   "metadata": {},
   "outputs": [
    {
     "data": {
      "text/plain": [
       "[3, 52, 6, 7, 8, 4, 4, 6, 7, 4, 9]"
      ]
     },
     "execution_count": 16,
     "metadata": {},
     "output_type": "execute_result"
    }
   ],
   "source": [
    "arr"
   ]
  },
  {
   "cell_type": "code",
   "execution_count": 15,
   "id": "23f4227c",
   "metadata": {},
   "outputs": [
    {
     "data": {
      "text/plain": [
       "[9, 4, 7, 6, 4, 4, 8, 7, 6, 52, 3]"
      ]
     },
     "execution_count": 15,
     "metadata": {},
     "output_type": "execute_result"
    }
   ],
   "source": [
    "arr[::-1]"
   ]
  },
  {
   "cell_type": "code",
   "execution_count": 12,
   "id": "cdc874fe",
   "metadata": {},
   "outputs": [
    {
     "name": "stdout",
     "output_type": "stream",
     "text": [
      "None\n"
     ]
    }
   ],
   "source": []
  },
  {
   "cell_type": "code",
   "execution_count": 17,
   "id": "2ef69000",
   "metadata": {},
   "outputs": [],
   "source": [
    "# Find the maximum and minimum element in an array"
   ]
  },
  {
   "cell_type": "code",
   "execution_count": 19,
   "id": "6f1e4169",
   "metadata": {},
   "outputs": [
    {
     "data": {
      "text/plain": [
       "52"
      ]
     },
     "execution_count": 19,
     "metadata": {},
     "output_type": "execute_result"
    }
   ],
   "source": [
    "max(arr)"
   ]
  },
  {
   "cell_type": "code",
   "execution_count": 20,
   "id": "de358dc8",
   "metadata": {},
   "outputs": [
    {
     "data": {
      "text/plain": [
       "3"
      ]
     },
     "execution_count": 20,
     "metadata": {},
     "output_type": "execute_result"
    }
   ],
   "source": [
    "min(arr)"
   ]
  },
  {
   "cell_type": "code",
   "execution_count": 21,
   "id": "9d135726",
   "metadata": {},
   "outputs": [
    {
     "name": "stdout",
     "output_type": "stream",
     "text": [
      "3\n"
     ]
    }
   ],
   "source": [
    "mn = 22286892695\n",
    "\n",
    "for i in arr:\n",
    "    if i < mn:\n",
    "        mn = i\n",
    "        \n",
    "print(mn)"
   ]
  },
  {
   "cell_type": "markdown",
   "id": "1e6a3c15",
   "metadata": {},
   "source": []
  },
  {
   "cell_type": "code",
   "execution_count": 22,
   "id": "a4c315c7",
   "metadata": {},
   "outputs": [
    {
     "name": "stdout",
     "output_type": "stream",
     "text": [
      "52\n"
     ]
    }
   ],
   "source": [
    "mx = -547875896\n",
    "\n",
    "for i in arr:\n",
    "    if i > mx:\n",
    "        mx = i\n",
    "        \n",
    "print(mx)"
   ]
  },
  {
   "cell_type": "code",
   "execution_count": 25,
   "id": "2df71e04",
   "metadata": {},
   "outputs": [
    {
     "name": "stdout",
     "output_type": "stream",
     "text": [
      "[3, 4, 4, 4, 6, 6, 7, 7, 8, 9, 52]\n"
     ]
    }
   ],
   "source": [
    "# Kth max and min element of the array\n",
    "\n",
    "for i in range(len(arr)):\n",
    "    for j in range(i+1, len(arr)):\n",
    "        if arr[i] > arr[j]:\n",
    "            temp = arr[i]\n",
    "            arr[i] = arr[j]\n",
    "            arr[j] = temp\n",
    "            \n",
    "            \n",
    "print(arr)"
   ]
  },
  {
   "cell_type": "code",
   "execution_count": 26,
   "id": "992cf739",
   "metadata": {},
   "outputs": [
    {
     "name": "stdout",
     "output_type": "stream",
     "text": [
      "[52, 9, 8, 7, 7, 6, 6, 4, 4, 4, 3]\n"
     ]
    }
   ],
   "source": [
    "for i in range(len(arr)):\n",
    "    for j in range(i+1, len(arr)):\n",
    "        if arr[i] < arr[j]:\n",
    "            temp = arr[i]\n",
    "            arr[i] = arr[j]\n",
    "            arr[j] = temp\n",
    "                                                                                                                                           \n",
    "            \n",
    "print(arr)"
   ]
  },
  {
   "cell_type": "code",
   "execution_count": 27,
   "id": "55e23268",
   "metadata": {},
   "outputs": [],
   "source": [
    "order = list(set(arr))"
   ]
  },
  {
   "cell_type": "code",
   "execution_count": 28,
   "id": "9275b1a9",
   "metadata": {},
   "outputs": [
    {
     "data": {
      "text/plain": [
       "[3, 4, 6, 7, 8, 9, 52]"
      ]
     },
     "execution_count": 28,
     "metadata": {},
     "output_type": "execute_result"
    }
   ],
   "source": [
    "order"
   ]
  },
  {
   "cell_type": "code",
   "execution_count": 29,
   "id": "0a018646",
   "metadata": {},
   "outputs": [
    {
     "data": {
      "text/plain": [
       "9"
      ]
     },
     "execution_count": 29,
     "metadata": {},
     "output_type": "execute_result"
    }
   ],
   "source": [
    "order[-2]"
   ]
  },
  {
   "cell_type": "code",
   "execution_count": 32,
   "id": "3a39dbd8",
   "metadata": {},
   "outputs": [],
   "source": [
    "lt = [1,2,5,5,5,7,8,54,3,3,3,34,78,9,34,3,4,65,67,854,32,7,7]"
   ]
  },
  {
   "cell_type": "code",
   "execution_count": 33,
   "id": "776a698e",
   "metadata": {},
   "outputs": [
    {
     "data": {
      "text/plain": [
       "{1, 2, 3, 4, 5, 7, 8, 9, 32, 34, 54, 65, 67, 78, 854}"
      ]
     },
     "execution_count": 33,
     "metadata": {},
     "output_type": "execute_result"
    }
   ],
   "source": [
    "set(lt)"
   ]
  },
  {
   "cell_type": "markdown",
   "id": "f757d10c",
   "metadata": {},
   "source": [
    "# set property\n",
    "\n",
    "arrange array in increasing order and unique numbrer so can be used to find the nth min and max numbers"
   ]
  },
  {
   "cell_type": "code",
   "execution_count": null,
   "id": "fc4a9120",
   "metadata": {},
   "outputs": [],
   "source": []
  },
  {
   "cell_type": "code",
   "execution_count": 34,
   "id": "1ba5030d",
   "metadata": {},
   "outputs": [],
   "source": [
    "ar = [1,2,0,2,0,1,0,2,0,1,0,2,2,1,1,2,2,2,0,0]"
   ]
  },
  {
   "cell_type": "code",
   "execution_count": 35,
   "id": "1da2f46e",
   "metadata": {},
   "outputs": [
    {
     "data": {
      "text/plain": [
       "[0, 0, 0, 0, 0, 0, 0, 1, 1, 1, 1, 1, 2, 2, 2, 2, 2, 2, 2, 2]"
      ]
     },
     "execution_count": 35,
     "metadata": {},
     "output_type": "execute_result"
    }
   ],
   "source": [
    "sorted(ar)"
   ]
  },
  {
   "cell_type": "code",
   "execution_count": 36,
   "id": "9361c759",
   "metadata": {},
   "outputs": [
    {
     "data": {
      "text/plain": [
       "[2, 2, 2, 2, 2, 2, 2, 2, 1, 1, 1, 1, 1, 0, 0, 0, 0, 0, 0, 0]"
      ]
     },
     "execution_count": 36,
     "metadata": {},
     "output_type": "execute_result"
    }
   ],
   "source": [
    "sorted(ar,reverse=True)"
   ]
  },
  {
   "cell_type": "code",
   "execution_count": 39,
   "id": "3cf07667",
   "metadata": {},
   "outputs": [],
   "source": [
    "# reversed(ar)"
   ]
  },
  {
   "cell_type": "code",
   "execution_count": null,
   "id": "09943dc0",
   "metadata": {},
   "outputs": [],
   "source": []
  },
  {
   "cell_type": "markdown",
   "id": "38636276",
   "metadata": {},
   "source": []
  },
  {
   "cell_type": "code",
   "execution_count": 8,
   "id": "16a11a7c",
   "metadata": {},
   "outputs": [],
   "source": [
    "# Move all the negative elements to one side of the array\n",
    "\n",
    "def move_arr(ar):\n",
    "    ut = []\n",
    "    for i in ar:\n",
    "        if i < 0:\n",
    "            ut.append(i)\n",
    "            ar.remove(i)\n",
    "            \n",
    "    ar = ar + ut\n",
    "    print(ar)"
   ]
  },
  {
   "cell_type": "code",
   "execution_count": 9,
   "id": "830cb226",
   "metadata": {},
   "outputs": [
    {
     "name": "stdout",
     "output_type": "stream",
     "text": [
      "[3, 4, 2, 4, 5, 5, -6, -1, -4, -6]\n"
     ]
    }
   ],
   "source": [
    "move_arr([-1,3,4,5-3,4,-4,-6,5,5,-6])"
   ]
  },
  {
   "cell_type": "code",
   "execution_count": 14,
   "id": "ef10e95d",
   "metadata": {},
   "outputs": [],
   "source": [
    "def updated(ar):\n",
    "    for i in range(len(ar)):\n",
    "        if ar[i] < 0:\n",
    "            el = ar.pop(i)\n",
    "            ar.insert(0,el)\n",
    "            \n",
    "    print(ar)"
   ]
  },
  {
   "cell_type": "code",
   "execution_count": 15,
   "id": "7b6a2742",
   "metadata": {},
   "outputs": [
    {
     "name": "stdout",
     "output_type": "stream",
     "text": [
      "[-6, -6, -4, -1, 3, 4, 2, 4, 5, 5]\n"
     ]
    }
   ],
   "source": [
    "updated([-1,3,4,5-3,4,-4,-6,5,5,-6])"
   ]
  },
  {
   "cell_type": "code",
   "execution_count": 31,
   "id": "b228b5c2",
   "metadata": {},
   "outputs": [],
   "source": [
    "# find the union and intersection of the two sorted arrays\n",
    "\n",
    "class un_int:\n",
    "    def __init__(self, ar1,ar2):\n",
    "        self.ar1 = ar1\n",
    "        self.ar2 = ar2\n",
    "        \n",
    "    def union(self):\n",
    "        for i in self.ar1:\n",
    "            if i in self.ar2:\n",
    "                self.ar2.remove(i)\n",
    "\n",
    "        print(ar1+ar2)\n",
    "\n",
    "\n",
    "    def intersection(self):\n",
    "        for i in self.ar1:\n",
    "            if i not in self.ar2:\n",
    "                self.ar1.remove(i)\n",
    "\n",
    "        print(ar1)"
   ]
  },
  {
   "cell_type": "code",
   "execution_count": 32,
   "id": "b8392515",
   "metadata": {},
   "outputs": [],
   "source": [
    "ar1 = [1,23,4,5,6,3,5,4]\n",
    "ar2 = [4,46,7,8,5,4,23,7,8,9,9,5]"
   ]
  },
  {
   "cell_type": "code",
   "execution_count": 33,
   "id": "dccbd5a7",
   "metadata": {},
   "outputs": [],
   "source": [
    "task = un_int(ar1,ar2)"
   ]
  },
  {
   "cell_type": "code",
   "execution_count": 34,
   "id": "c43e9f90",
   "metadata": {},
   "outputs": [
    {
     "name": "stdout",
     "output_type": "stream",
     "text": [
      "[23, 4, 5, 3, 5, 4]\n"
     ]
    }
   ],
   "source": [
    "task.intersection()"
   ]
  },
  {
   "cell_type": "code",
   "execution_count": 35,
   "id": "b8d9ad86",
   "metadata": {},
   "outputs": [
    {
     "name": "stdout",
     "output_type": "stream",
     "text": [
      "[23, 4, 5, 3, 5, 4, 46, 7, 8, 7, 8, 9, 9]\n"
     ]
    }
   ],
   "source": [
    "task.union()"
   ]
  },
  {
   "cell_type": "code",
   "execution_count": null,
   "id": "7e7490ce",
   "metadata": {},
   "outputs": [],
   "source": [
    " "
   ]
  }
 ],
 "metadata": {
  "kernelspec": {
   "display_name": "Python 3",
   "language": "python",
   "name": "python3"
  },
  "language_info": {
   "codemirror_mode": {
    "name": "ipython",
    "version": 3
   },
   "file_extension": ".py",
   "mimetype": "text/x-python",
   "name": "python",
   "nbconvert_exporter": "python",
   "pygments_lexer": "ipython3",
   "version": "3.8.8"
  }
 },
 "nbformat": 4,
 "nbformat_minor": 5
}

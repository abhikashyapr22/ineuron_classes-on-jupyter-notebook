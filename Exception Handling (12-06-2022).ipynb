{
 "cells": [
  {
   "cell_type": "code",
   "execution_count": 1,
   "id": "0e5ab190",
   "metadata": {},
   "outputs": [
    {
     "name": "stdout",
     "output_type": "stream",
     "text": [
      "30\n"
     ]
    }
   ],
   "source": [
    "a = 10\n",
    "b = 20\n",
    "c = a+b\n",
    "print(c)"
   ]
  },
  {
   "cell_type": "code",
   "execution_count": 2,
   "id": "ee717acb",
   "metadata": {},
   "outputs": [
    {
     "ename": "SyntaxError",
     "evalue": "unexpected EOF while parsing (<ipython-input-2-4892396dd26d>, line 4)",
     "output_type": "error",
     "traceback": [
      "\u001b[1;36m  File \u001b[1;32m\"<ipython-input-2-4892396dd26d>\"\u001b[1;36m, line \u001b[1;32m4\u001b[0m\n\u001b[1;33m    print(c\u001b[0m\n\u001b[1;37m           ^\u001b[0m\n\u001b[1;31mSyntaxError\u001b[0m\u001b[1;31m:\u001b[0m unexpected EOF while parsing\n"
     ]
    }
   ],
   "source": [
    "a = 10\n",
    "b = 20\n",
    "c = a+b\n",
    "print(c   # will give compile error (syntax error)"
   ]
  },
  {
   "cell_type": "code",
   "execution_count": 3,
   "id": "5e20c7c3",
   "metadata": {},
   "outputs": [
    {
     "ename": "TypeError",
     "evalue": "unsupported operand type(s) for +: 'int' and 'str'",
     "output_type": "error",
     "traceback": [
      "\u001b[1;31m---------------------------------------------------------------------------\u001b[0m",
      "\u001b[1;31mTypeError\u001b[0m                                 Traceback (most recent call last)",
      "\u001b[1;32m<ipython-input-3-7ce1112fbfac>\u001b[0m in \u001b[0;36m<module>\u001b[1;34m\u001b[0m\n\u001b[0;32m      1\u001b[0m \u001b[0ma\u001b[0m \u001b[1;33m=\u001b[0m \u001b[1;36m10\u001b[0m\u001b[1;33m\u001b[0m\u001b[1;33m\u001b[0m\u001b[0m\n\u001b[0;32m      2\u001b[0m \u001b[0mb\u001b[0m \u001b[1;33m=\u001b[0m \u001b[1;34m\"s\"\u001b[0m\u001b[1;33m\u001b[0m\u001b[1;33m\u001b[0m\u001b[0m\n\u001b[1;32m----> 3\u001b[1;33m \u001b[0mc\u001b[0m \u001b[1;33m=\u001b[0m \u001b[0ma\u001b[0m\u001b[1;33m+\u001b[0m\u001b[0mb\u001b[0m   \u001b[1;31m# raise\u001b[0m\u001b[1;33m\u001b[0m\u001b[1;33m\u001b[0m\u001b[0m\n\u001b[0m\u001b[0;32m      4\u001b[0m \u001b[0mprint\u001b[0m\u001b[1;33m(\u001b[0m\u001b[0mc\u001b[0m\u001b[1;33m)\u001b[0m\u001b[1;33m\u001b[0m\u001b[1;33m\u001b[0m\u001b[0m\n",
      "\u001b[1;31mTypeError\u001b[0m: unsupported operand type(s) for +: 'int' and 'str'"
     ]
    }
   ],
   "source": [
    "a = 10\n",
    "b = \"s\"\n",
    "c = a+b   # raise interpreter error/ runtime error\n",
    "print(c)"
   ]
  },
  {
   "cell_type": "markdown",
   "id": "ec6f969b",
   "metadata": {},
   "source": [
    "# why do we need exception handling ?\n",
    "\n",
    "Exceptions are runtime error.\n",
    "Exception handling very useful in bigger project, because of error by some part other part should not be affected.\n",
    "Further execution should not be affected"
   ]
  },
  {
   "cell_type": "code",
   "execution_count": 4,
   "id": "70328a3f",
   "metadata": {},
   "outputs": [
    {
     "name": "stdout",
     "output_type": "stream",
     "text": [
      "enter first number5\n",
      "enter second number0\n"
     ]
    },
    {
     "ename": "ZeroDivisionError",
     "evalue": "division by zero",
     "output_type": "error",
     "traceback": [
      "\u001b[1;31m---------------------------------------------------------------------------\u001b[0m",
      "\u001b[1;31mZeroDivisionError\u001b[0m                         Traceback (most recent call last)",
      "\u001b[1;32m<ipython-input-4-752cfc8e89be>\u001b[0m in \u001b[0;36m<module>\u001b[1;34m\u001b[0m\n\u001b[0;32m      2\u001b[0m \u001b[0mb\u001b[0m \u001b[1;33m=\u001b[0m \u001b[0mint\u001b[0m\u001b[1;33m(\u001b[0m\u001b[0minput\u001b[0m\u001b[1;33m(\u001b[0m\u001b[1;34m\"enter second number\"\u001b[0m\u001b[1;33m)\u001b[0m\u001b[1;33m)\u001b[0m\u001b[1;33m\u001b[0m\u001b[1;33m\u001b[0m\u001b[0m\n\u001b[0;32m      3\u001b[0m \u001b[1;33m\u001b[0m\u001b[0m\n\u001b[1;32m----> 4\u001b[1;33m \u001b[0mc\u001b[0m \u001b[1;33m=\u001b[0m \u001b[0ma\u001b[0m\u001b[1;33m/\u001b[0m\u001b[0mb\u001b[0m\u001b[1;33m\u001b[0m\u001b[1;33m\u001b[0m\u001b[0m\n\u001b[0m\u001b[0;32m      5\u001b[0m \u001b[0mprint\u001b[0m\u001b[1;33m(\u001b[0m\u001b[0mc\u001b[0m\u001b[1;33m)\u001b[0m\u001b[1;33m\u001b[0m\u001b[1;33m\u001b[0m\u001b[0m\n",
      "\u001b[1;31mZeroDivisionError\u001b[0m: division by zero"
     ]
    }
   ],
   "source": [
    "a = int(input(\"enter first number\"))\n",
    "b = int(input(\"enter second number\"))\n",
    "\n",
    "c = a/b\n",
    "print(c)\n",
    "\n",
    "d = a*b\n",
    "print(d)"
   ]
  },
  {
   "cell_type": "markdown",
   "id": "67ff8ff8",
   "metadata": {},
   "source": [
    "# Main keywords\n",
    "try\n",
    "except\n",
    "else\n",
    "raise\n",
    "finally"
   ]
  },
  {
   "cell_type": "code",
   "execution_count": 7,
   "id": "adc3b62d",
   "metadata": {},
   "outputs": [
    {
     "name": "stdout",
     "output_type": "stream",
     "text": [
      "enter first number10\n",
      "enter second number0\n",
      "b should not be zero\n"
     ]
    }
   ],
   "source": [
    "a = int(input(\"enter first number\"))\n",
    "b = int(input(\"enter second number\"))\n",
    "\n",
    "try:\n",
    "    c = a/b\n",
    "    print(c)\n",
    "except:\n",
    "    print(\"b should not be zero\")"
   ]
  },
  {
   "cell_type": "code",
   "execution_count": 11,
   "id": "08973c96",
   "metadata": {},
   "outputs": [
    {
     "name": "stdout",
     "output_type": "stream",
     "text": [
      "enter first number 113\n",
      "enter second number 345\n",
      "0.32753623188405795\n",
      "Multiplication of a and b = 38985\n"
     ]
    }
   ],
   "source": [
    "a = int(input(\"enter first number \"))\n",
    "b = int(input(\"enter second number \"))\n",
    "\n",
    "try:\n",
    "    c = a/b\n",
    "    print(c)\n",
    "except:\n",
    "    print(\"b should not be zero\")\n",
    "    \n",
    "d = a*b\n",
    "print(\"Multiplication of a and b =\", d)"
   ]
  },
  {
   "cell_type": "code",
   "execution_count": 12,
   "id": "eba6faf1",
   "metadata": {},
   "outputs": [],
   "source": [
    "# exception hierarchy in python\n",
    "\n",
    "#https://www.tutorialspoint.com/object_oriented_python/object_oriented_python_exception_classes.htm"
   ]
  },
  {
   "cell_type": "markdown",
   "id": "7c85da8b",
   "metadata": {},
   "source": [
    "# we can't handle syntax error by exception handling"
   ]
  },
  {
   "cell_type": "code",
   "execution_count": 13,
   "id": "418d9efc",
   "metadata": {},
   "outputs": [
    {
     "ename": "SyntaxError",
     "evalue": "unmatched ')' (<ipython-input-13-592cd6d7aff5>, line 6)",
     "output_type": "error",
     "traceback": [
      "\u001b[1;36m  File \u001b[1;32m\"<ipython-input-13-592cd6d7aff5>\"\u001b[1;36m, line \u001b[1;32m6\u001b[0m\n\u001b[1;33m    print(c))\u001b[0m\n\u001b[1;37m            ^\u001b[0m\n\u001b[1;31mSyntaxError\u001b[0m\u001b[1;31m:\u001b[0m unmatched ')'\n"
     ]
    }
   ],
   "source": [
    "\n",
    "\n",
    "a = int(input(\"enter first number\"))\n",
    "b = int(input(\"enter second number\"))\n",
    "\n",
    "try:\n",
    "    c = a/b\n",
    "    print(c))\n",
    "except:\n",
    "    print(\"b should not be zero\")"
   ]
  },
  {
   "cell_type": "markdown",
   "id": "6c719086",
   "metadata": {},
   "source": [
    "# Exercise\n"
   ]
  },
  {
   "cell_type": "code",
   "execution_count": 14,
   "id": "424cf3e5",
   "metadata": {},
   "outputs": [],
   "source": [
    "# Write a program to ask the user to input 2 integers and calculate and print their division. Make sure your program behaves as follows:\n",
    "\n",
    "# If the user enters a non integer value then ask him to enter only integers\n",
    "# If denominator is 0 , then ask him to input non-zero denominator\n",
    "# Repeat the process until correct input is given\n",
    "\n",
    "# Only if the inputs are correct then display their division and terminate the code"
   ]
  },
  {
   "cell_type": "code",
   "execution_count": 11,
   "id": "681e8fd5",
   "metadata": {},
   "outputs": [
    {
     "name": "stdout",
     "output_type": "stream",
     "text": [
      "enter first number 564\n",
      "enter second number 0\n",
      "b should be non-zero\n",
      "enter first number hgfjh\n",
      "Please enter integers only\n",
      "enter first number 564\n",
      "enter second number 67\n",
      "8.417910447761194\n"
     ]
    }
   ],
   "source": [
    "#flag = True\n",
    "\n",
    "while True: # flag\n",
    "    try: \n",
    "        a = int(input(\"enter first number \"))\n",
    "        b = int(input(\"enter second number \"))\n",
    "        \n",
    "        c = a/b\n",
    "        print(c)\n",
    "        break\n",
    "        #flag = False\n",
    "    except ValueError: \n",
    "            print(\"Please enter integers only\")\n",
    "            \n",
    "    except ZeroDivisionError:\n",
    "        print(\"b should be non-zero\")"
   ]
  },
  {
   "cell_type": "code",
   "execution_count": 9,
   "id": "fe35de48",
   "metadata": {},
   "outputs": [],
   "source": [
    "#we can use multiple except block\n",
    "#exe info -- for getting moe details about error\n",
    "#raise\n",
    "#custom error"
   ]
  },
  {
   "cell_type": "code",
   "execution_count": null,
   "id": "223e4ede",
   "metadata": {},
   "outputs": [],
   "source": [
    "# child class should come at first place then  parent class (arithmatic class)\n"
   ]
  },
  {
   "cell_type": "code",
   "execution_count": 12,
   "id": "0f0a338d",
   "metadata": {},
   "outputs": [
    {
     "name": "stdout",
     "output_type": "stream",
     "text": [
      "enter first number 455\n",
      "enter second number 0\n",
      "division by zero\n",
      "enter first number 657\n",
      "enter second number 67\n",
      "9.805970149253731\n"
     ]
    }
   ],
   "source": [
    "while True:\n",
    "    try: \n",
    "        a = int(input(\"enter first number \"))\n",
    "        b = int(input(\"enter second number \"))\n",
    "        \n",
    "        c = a/b\n",
    "        print(c)\n",
    "        break\n",
    "    except ValueError as e: # give erroe without writing this\n",
    "            print(e)\n",
    "            \n",
    "    except ZeroDivisionError as e:\n",
    "        print(e)"
   ]
  },
  {
   "cell_type": "code",
   "execution_count": 15,
   "id": "da290258",
   "metadata": {},
   "outputs": [
    {
     "name": "stdout",
     "output_type": "stream",
     "text": [
      "enter first number 546\n",
      "enter second number 0\n",
      "(<class 'ZeroDivisionError'>, ZeroDivisionError('division by zero'), <traceback object at 0x000001B31F36E6C0>)\n",
      "enter first number 456\n",
      "enter second number 5637\n",
      "div 0.0808940926024481\n"
     ]
    }
   ],
   "source": [
    "import sys\n",
    "\n",
    "while True:\n",
    "    try: \n",
    "        a = int(input(\"enter first number \"))\n",
    "        b = int(input(\"enter second number \"))\n",
    "        \n",
    "        c = a/b\n",
    "        print(\"div\", c)\n",
    "        break\n",
    "    except:\n",
    "       print(sys.exc_info())\n",
    "        "
   ]
  },
  {
   "cell_type": "code",
   "execution_count": 14,
   "id": "d0910b7b",
   "metadata": {},
   "outputs": [
    {
     "name": "stdout",
     "output_type": "stream",
     "text": [
      "enter first number 546\n",
      "enter second number 0\n",
      "exception class : <class 'ZeroDivisionError'>\n",
      "exception message : division by zero\n",
      "line number : 8\n",
      "enter first number 457\n",
      "enter second number 5468\n",
      "div 0.08357717629846378\n"
     ]
    }
   ],
   "source": [
    "import sys\n",
    "\n",
    "while True:\n",
    "    try: \n",
    "        a = int(input(\"enter first number \"))\n",
    "        b = int(input(\"enter second number \"))\n",
    "        \n",
    "        c = a/b\n",
    "        print(\"div\", c)\n",
    "        break\n",
    "    except:\n",
    "        a,b,c = sys.exc_info()\n",
    "        print(\"exception class :\",a)\n",
    "        print(\"exception message :\",b)\n",
    "        print(\"line number :\",c.tb_lineno)"
   ]
  },
  {
   "cell_type": "code",
   "execution_count": 16,
   "id": "9a7d8aba",
   "metadata": {},
   "outputs": [
    {
     "ename": "ModuleNotFoundError",
     "evalue": "No module named 'traceback.format'; 'traceback' is not a package",
     "output_type": "error",
     "traceback": [
      "\u001b[1;31m---------------------------------------------------------------------------\u001b[0m",
      "\u001b[1;31mModuleNotFoundError\u001b[0m                       Traceback (most recent call last)",
      "\u001b[1;32m<ipython-input-16-af9e9d26ce2a>\u001b[0m in \u001b[0;36m<module>\u001b[1;34m\u001b[0m\n\u001b[1;32m----> 1\u001b[1;33m \u001b[1;32mimport\u001b[0m \u001b[0mtraceback\u001b[0m\u001b[1;33m.\u001b[0m\u001b[0mformat\u001b[0m\u001b[1;33m\u001b[0m\u001b[1;33m\u001b[0m\u001b[0m\n\u001b[0m",
      "\u001b[1;31mModuleNotFoundError\u001b[0m: No module named 'traceback.format'; 'traceback' is not a package"
     ]
    }
   ],
   "source": []
  },
  {
   "cell_type": "code",
   "execution_count": 35,
   "id": "4eeb4873",
   "metadata": {},
   "outputs": [
    {
     "name": "stdout",
     "output_type": "stream",
     "text": [
      "enter first number 34\n",
      "enter second number 0\n",
      "Traceback (most recent call last):\n",
      "  File \"<ipython-input-35-b71057952f1d>\", line 8, in <module>\n",
      "    c = a/b\n",
      "ZeroDivisionError: division by zero\n",
      "\n",
      "enter first number 345\n",
      "enter second number 45\n",
      "div 7.666666666666667\n"
     ]
    }
   ],
   "source": [
    "import traceback\n",
    "\n",
    "while True:\n",
    "    try: \n",
    "        a = int(input(\"enter first number \"))\n",
    "        b = int(input(\"enter second number \"))\n",
    "        \n",
    "        c = a/b\n",
    "        print(\"div\", c)\n",
    "        break\n",
    "    except:\n",
    "       print(traceback.format_exc())"
   ]
  },
  {
   "cell_type": "code",
   "execution_count": 33,
   "id": "1ba17914",
   "metadata": {},
   "outputs": [],
   "source": [
    "import traceback"
   ]
  },
  {
   "cell_type": "markdown",
   "id": "ade42e44",
   "metadata": {},
   "source": [
    "# raise exeption\n"
   ]
  },
  {
   "cell_type": "code",
   "execution_count": 19,
   "id": "43dbc604",
   "metadata": {},
   "outputs": [
    {
     "name": "stdout",
     "output_type": "stream",
     "text": [
      "enter first number 0\n",
      "enter second number 20\n",
      "0.0\n"
     ]
    }
   ],
   "source": [
    "a = int(input(\"enter first number \"))\n",
    "b = int(input(\"enter second number \"))\n",
    "\n",
    "c = a/b # since don't want values to be zero so want to raise exception\n",
    "print(c)"
   ]
  },
  {
   "cell_type": "code",
   "execution_count": 22,
   "id": "e5ad867d",
   "metadata": {},
   "outputs": [
    {
     "name": "stdout",
     "output_type": "stream",
     "text": [
      "enter first number 56\n",
      "enter second number 0\n",
      "Please enter non-zero denominator\n",
      "enter first number 67\n",
      "enter second number yh\n",
      "please enter int only\n",
      "enter first number \n",
      "please enter int only\n",
      "enter first number 5467\n",
      "enter second number 657\n",
      "div is 8.321156773211568\n"
     ]
    }
   ],
   "source": [
    "while True:\n",
    "    try: \n",
    "        a = int(input(\"enter first number \"))\n",
    "        b = int(input(\"enter second number \"))\n",
    "        if a<0 or b<0: \n",
    "            raise Exception(\"Negative numbers not allowed\")\n",
    "        c = a/b \n",
    "        print(\"div is\", c)\n",
    "        break\n",
    "    except ValueError:\n",
    "        print(\"Please enter int only\")\n",
    "    except ZeroDivisionError:\n",
    "        print(\"Please enter non-zero denominator\")\n",
    "    except Exception as e:\n",
    "        print(e)"
   ]
  },
  {
   "cell_type": "code",
   "execution_count": null,
   "id": "cb53601b",
   "metadata": {},
   "outputs": [],
   "source": []
  },
  {
   "cell_type": "markdown",
   "id": "41e0ef6d",
   "metadata": {},
   "source": [
    "# at custom line\n",
    "\n",
    "if we import the Exception class... ? "
   ]
  },
  {
   "cell_type": "code",
   "execution_count": 23,
   "id": "521546e9",
   "metadata": {},
   "outputs": [],
   "source": [
    "class NegativeNumberException(Exception):\n",
    "    pass"
   ]
  },
  {
   "cell_type": "code",
   "execution_count": 25,
   "id": "b0871538",
   "metadata": {},
   "outputs": [
    {
     "name": "stdout",
     "output_type": "stream",
     "text": [
      "enter first number -45\n",
      "enter second number -546\n",
      "Negative numbers not allowed\n",
      "enter first number 56\n",
      "enter second number 56\n",
      "div is 1.0\n"
     ]
    }
   ],
   "source": [
    "while True:\n",
    "    try: \n",
    "        a = int(input(\"enter first number \"))\n",
    "        b = int(input(\"enter second number \"))\n",
    "        if a<0 or b<0: \n",
    "            raise NegativeNumberException(\"Negative numbers not allowed\")\n",
    "        c = a/b \n",
    "        print(\"div is\", c)\n",
    "        break\n",
    "    except ValueError:\n",
    "        print(\"Please enter int only\")\n",
    "    except ZeroDivisionError:\n",
    "        print(\"Please enter non-zero denominator\")\n",
    "    except Exception as e:\n",
    "        print(e)"
   ]
  },
  {
   "cell_type": "code",
   "execution_count": null,
   "id": "59121855",
   "metadata": {},
   "outputs": [],
   "source": []
  },
  {
   "cell_type": "markdown",
   "id": "ae4c5abc",
   "metadata": {},
   "source": [
    "# final block\n",
    "this code will run in any condition"
   ]
  },
  {
   "cell_type": "code",
   "execution_count": null,
   "id": "dbf78dee",
   "metadata": {},
   "outputs": [],
   "source": [
    "# we have create one database and forgot to close the connection\n",
    "\n",
    "#2 cloud service "
   ]
  },
  {
   "cell_type": "code",
   "execution_count": 29,
   "id": "c5c2ca33",
   "metadata": {},
   "outputs": [
    {
     "name": "stdout",
     "output_type": "stream",
     "text": [
      "enter first number 456\n",
      "enter second number 0\n",
      "please dont enter zero\n",
      "done\n"
     ]
    }
   ],
   "source": [
    "try: \n",
    "    a = int(input(\"enter first number \"))\n",
    "    b = int(input(\"enter second number \"))\n",
    "        \n",
    "    c = a/b\n",
    "    print(c)\n",
    "except ZeroDivisionError:\n",
    "        print(\"please dont enter zero\")\n",
    "\n",
    "finally: print(\"Not done\")"
   ]
  },
  {
   "cell_type": "markdown",
   "id": "52cd2719",
   "metadata": {},
   "source": [
    "# else"
   ]
  },
  {
   "cell_type": "code",
   "execution_count": 31,
   "id": "81c2e8f5",
   "metadata": {},
   "outputs": [
    {
     "name": "stdout",
     "output_type": "stream",
     "text": [
      "enter first number 56\n",
      "enter second number 546\n",
      "0.10256410256410256\n",
      "Done\n"
     ]
    }
   ],
   "source": [
    "try: \n",
    "    a = int(input(\"enter first number \"))\n",
    "    b = int(input(\"enter second number \"))\n",
    "        \n",
    "    c = a/b\n",
    "    print(c)\n",
    "except ZeroDivisionError:\n",
    "        print(\"please dont enter zero\")\n",
    "\n",
    "else: print(\"Done\")"
   ]
  },
  {
   "cell_type": "code",
   "execution_count": null,
   "id": "5951e43a",
   "metadata": {},
   "outputs": [],
   "source": []
  }
 ],
 "metadata": {
  "kernelspec": {
   "display_name": "Python 3",
   "language": "python",
   "name": "python3"
  },
  "language_info": {
   "codemirror_mode": {
    "name": "ipython",
    "version": 3
   },
   "file_extension": ".py",
   "mimetype": "text/x-python",
   "name": "python",
   "nbconvert_exporter": "python",
   "pygments_lexer": "ipython3",
   "version": "3.8.8"
  }
 },
 "nbformat": 4,
 "nbformat_minor": 5
}

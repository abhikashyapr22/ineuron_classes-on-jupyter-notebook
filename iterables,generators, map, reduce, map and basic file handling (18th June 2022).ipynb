{
 "cells": [
  {
   "cell_type": "code",
   "execution_count": 1,
   "id": "aa282958",
   "metadata": {},
   "outputs": [],
   "source": [
    " l = [1,2,3,4,5,5]"
   ]
  },
  {
   "cell_type": "code",
   "execution_count": 3,
   "id": "155faa60",
   "metadata": {},
   "outputs": [
    {
     "name": "stdout",
     "output_type": "stream",
     "text": [
      "1\n",
      "2\n",
      "3\n",
      "4\n",
      "5\n",
      "5\n"
     ]
    }
   ],
   "source": [
    "for i  in l:\n",
    "    print(i)"
   ]
  },
  {
   "cell_type": "code",
   "execution_count": null,
   "id": "d9909a77",
   "metadata": {},
   "outputs": [],
   "source": []
  },
  {
   "cell_type": "markdown",
   "id": "0e695900",
   "metadata": {},
   "source": [
    "# for loop working"
   ]
  },
  {
   "cell_type": "code",
   "execution_count": 4,
   "id": "212f60a4",
   "metadata": {},
   "outputs": [],
   "source": [
    "b = iter(l)"
   ]
  },
  {
   "cell_type": "code",
   "execution_count": 5,
   "id": "b5279b36",
   "metadata": {},
   "outputs": [
    {
     "data": {
      "text/plain": [
       "1"
      ]
     },
     "execution_count": 5,
     "metadata": {},
     "output_type": "execute_result"
    }
   ],
   "source": [
    "next(b)"
   ]
  },
  {
   "cell_type": "code",
   "execution_count": null,
   "id": "84737de4",
   "metadata": {},
   "outputs": [],
   "source": []
  },
  {
   "cell_type": "markdown",
   "id": "ccc5f605",
   "metadata": {},
   "source": [
    "iterable and iterator"
   ]
  },
  {
   "cell_type": "markdown",
   "id": "b551d449",
   "metadata": {},
   "source": [
    "whatever data is iterable (ex list objects) you can convert this data into iterator. Ex for loop, for loop first call iter fucntion and than it call next again and again. Next function will give stopiteration error after elements in iterable exhausts."
   ]
  },
  {
   "cell_type": "code",
   "execution_count": 6,
   "id": "bf2a2111",
   "metadata": {},
   "outputs": [
    {
     "ename": "TypeError",
     "evalue": "'int' object is not iterable",
     "output_type": "error",
     "traceback": [
      "\u001b[1;31m---------------------------------------------------------------------------\u001b[0m",
      "\u001b[1;31mTypeError\u001b[0m                                 Traceback (most recent call last)",
      "\u001b[1;32m<ipython-input-6-e50867f8c07e>\u001b[0m in \u001b[0;36m<module>\u001b[1;34m\u001b[0m\n\u001b[1;32m----> 1\u001b[1;33m \u001b[0miter\u001b[0m\u001b[1;33m(\u001b[0m\u001b[1;36m45\u001b[0m\u001b[1;33m)\u001b[0m\u001b[1;33m\u001b[0m\u001b[1;33m\u001b[0m\u001b[0m\n\u001b[0m",
      "\u001b[1;31mTypeError\u001b[0m: 'int' object is not iterable"
     ]
    }
   ],
   "source": [
    "iter(45)"
   ]
  },
  {
   "cell_type": "code",
   "execution_count": 7,
   "id": "24a715eb",
   "metadata": {},
   "outputs": [
    {
     "ename": "TypeError",
     "evalue": "'int' object is not an iterator",
     "output_type": "error",
     "traceback": [
      "\u001b[1;31m---------------------------------------------------------------------------\u001b[0m",
      "\u001b[1;31mTypeError\u001b[0m                                 Traceback (most recent call last)",
      "\u001b[1;32m<ipython-input-7-474cc0349a7a>\u001b[0m in \u001b[0;36m<module>\u001b[1;34m\u001b[0m\n\u001b[1;32m----> 1\u001b[1;33m \u001b[0mnext\u001b[0m\u001b[1;33m(\u001b[0m\u001b[1;36m45\u001b[0m\u001b[1;33m)\u001b[0m\u001b[1;33m\u001b[0m\u001b[1;33m\u001b[0m\u001b[0m\n\u001b[0m",
      "\u001b[1;31mTypeError\u001b[0m: 'int' object is not an iterator"
     ]
    }
   ],
   "source": [
    "next(45)"
   ]
  },
  {
   "cell_type": "code",
   "execution_count": null,
   "id": "d068b3ad",
   "metadata": {},
   "outputs": [],
   "source": []
  },
  {
   "cell_type": "code",
   "execution_count": 8,
   "id": "7ed239dd",
   "metadata": {},
   "outputs": [],
   "source": [
    "s = \"sudh\""
   ]
  },
  {
   "cell_type": "code",
   "execution_count": 9,
   "id": "cbdda82e",
   "metadata": {},
   "outputs": [
    {
     "ename": "TypeError",
     "evalue": "'str' object is not an iterator",
     "output_type": "error",
     "traceback": [
      "\u001b[1;31m---------------------------------------------------------------------------\u001b[0m",
      "\u001b[1;31mTypeError\u001b[0m                                 Traceback (most recent call last)",
      "\u001b[1;32m<ipython-input-9-61c30b5fe1d5>\u001b[0m in \u001b[0;36m<module>\u001b[1;34m\u001b[0m\n\u001b[1;32m----> 1\u001b[1;33m \u001b[0mnext\u001b[0m\u001b[1;33m(\u001b[0m\u001b[0ms\u001b[0m\u001b[1;33m)\u001b[0m\u001b[1;33m\u001b[0m\u001b[1;33m\u001b[0m\u001b[0m\n\u001b[0m",
      "\u001b[1;31mTypeError\u001b[0m: 'str' object is not an iterator"
     ]
    }
   ],
   "source": [
    "next(s)"
   ]
  },
  {
   "cell_type": "code",
   "execution_count": 10,
   "id": "ec3ae779",
   "metadata": {},
   "outputs": [],
   "source": [
    "s = iter(s)"
   ]
  },
  {
   "cell_type": "code",
   "execution_count": 11,
   "id": "a178fd91",
   "metadata": {},
   "outputs": [
    {
     "data": {
      "text/plain": [
       "'s'"
      ]
     },
     "execution_count": 11,
     "metadata": {},
     "output_type": "execute_result"
    }
   ],
   "source": [
    "next(s)"
   ]
  },
  {
   "cell_type": "code",
   "execution_count": 12,
   "id": "13f23611",
   "metadata": {},
   "outputs": [
    {
     "data": {
      "text/plain": [
       "'u'"
      ]
     },
     "execution_count": 12,
     "metadata": {},
     "output_type": "execute_result"
    }
   ],
   "source": [
    "next(s)"
   ]
  },
  {
   "cell_type": "code",
   "execution_count": 13,
   "id": "e8134f6a",
   "metadata": {},
   "outputs": [
    {
     "data": {
      "text/plain": [
       "'d'"
      ]
     },
     "execution_count": 13,
     "metadata": {},
     "output_type": "execute_result"
    }
   ],
   "source": [
    "next(s)"
   ]
  },
  {
   "cell_type": "code",
   "execution_count": 14,
   "id": "b8192ed7",
   "metadata": {},
   "outputs": [
    {
     "data": {
      "text/plain": [
       "'h'"
      ]
     },
     "execution_count": 14,
     "metadata": {},
     "output_type": "execute_result"
    }
   ],
   "source": [
    "next(s)"
   ]
  },
  {
   "cell_type": "code",
   "execution_count": 15,
   "id": "c0d1677b",
   "metadata": {},
   "outputs": [
    {
     "ename": "StopIteration",
     "evalue": "",
     "output_type": "error",
     "traceback": [
      "\u001b[1;31m---------------------------------------------------------------------------\u001b[0m",
      "\u001b[1;31mStopIteration\u001b[0m                             Traceback (most recent call last)",
      "\u001b[1;32m<ipython-input-15-61c30b5fe1d5>\u001b[0m in \u001b[0;36m<module>\u001b[1;34m\u001b[0m\n\u001b[1;32m----> 1\u001b[1;33m \u001b[0mnext\u001b[0m\u001b[1;33m(\u001b[0m\u001b[0ms\u001b[0m\u001b[1;33m)\u001b[0m\u001b[1;33m\u001b[0m\u001b[1;33m\u001b[0m\u001b[0m\n\u001b[0m",
      "\u001b[1;31mStopIteration\u001b[0m: "
     ]
    }
   ],
   "source": [
    "next(s)"
   ]
  },
  {
   "cell_type": "code",
   "execution_count": null,
   "id": "d82c00a6",
   "metadata": {},
   "outputs": [],
   "source": []
  },
  {
   "cell_type": "markdown",
   "id": "0311b57e",
   "metadata": {},
   "source": [
    "for loop uses lenght function, iter fuction, and next function. Lenght function know where to stop to avoid error."
   ]
  },
  {
   "cell_type": "code",
   "execution_count": null,
   "id": "110aa7ce",
   "metadata": {},
   "outputs": [],
   "source": []
  },
  {
   "cell_type": "markdown",
   "id": "f409eb06",
   "metadata": {},
   "source": [
    "# generators\n",
    "    with the help of generators we can generate data wherever required. Generators use yield to instead of return."
   ]
  },
  {
   "cell_type": "code",
   "execution_count": 18,
   "id": "57d77ca7",
   "metadata": {},
   "outputs": [],
   "source": [
    "l1 = list(range(1,10))"
   ]
  },
  {
   "cell_type": "code",
   "execution_count": 20,
   "id": "b68a4e0f",
   "metadata": {},
   "outputs": [
    {
     "data": {
      "text/plain": [
       "[1, 2, 3, 4, 5, 6, 7, 8, 9]"
      ]
     },
     "execution_count": 20,
     "metadata": {},
     "output_type": "execute_result"
    }
   ],
   "source": [
    "l1"
   ]
  },
  {
   "cell_type": "code",
   "execution_count": null,
   "id": "b76b984b",
   "metadata": {},
   "outputs": [],
   "source": []
  },
  {
   "cell_type": "code",
   "execution_count": 29,
   "id": "dd560f45",
   "metadata": {},
   "outputs": [],
   "source": [
    "def sqr(n):\n",
    "    for i in range(1,n+1):\n",
    "        print(i**2, end=\" \")\n",
    "        \n",
    "    x = [i**2 for i in range(1,n+1)]\n",
    "    return x"
   ]
  },
  {
   "cell_type": "code",
   "execution_count": 30,
   "id": "77b4081f",
   "metadata": {},
   "outputs": [
    {
     "name": "stdout",
     "output_type": "stream",
     "text": [
      "1 4 9 16 "
     ]
    },
    {
     "data": {
      "text/plain": [
       "[1, 4, 9, 16]"
      ]
     },
     "execution_count": 30,
     "metadata": {},
     "output_type": "execute_result"
    }
   ],
   "source": [
    "sqr(4)"
   ]
  },
  {
   "cell_type": "code",
   "execution_count": 31,
   "id": "3b7e58ba",
   "metadata": {},
   "outputs": [
    {
     "data": {
      "text/plain": [
       "[0, 1, 2, 3, 4]"
      ]
     },
     "execution_count": 31,
     "metadata": {},
     "output_type": "execute_result"
    }
   ],
   "source": [
    "list(range(5))"
   ]
  },
  {
   "cell_type": "code",
   "execution_count": null,
   "id": "aa1c5b4a",
   "metadata": {},
   "outputs": [],
   "source": []
  },
  {
   "cell_type": "code",
   "execution_count": 33,
   "id": "d53eb1ab",
   "metadata": {},
   "outputs": [],
   "source": [
    "def sqr1(n):\n",
    "    x = [i**2 for i in range(1,n+1)]\n",
    "    yield x"
   ]
  },
  {
   "cell_type": "code",
   "execution_count": 34,
   "id": "d3c75014",
   "metadata": {},
   "outputs": [
    {
     "data": {
      "text/plain": [
       "<generator object sqr1 at 0x00000187296A5040>"
      ]
     },
     "execution_count": 34,
     "metadata": {},
     "output_type": "execute_result"
    }
   ],
   "source": [
    "sqr1(5)"
   ]
  },
  {
   "cell_type": "code",
   "execution_count": 35,
   "id": "7a9147b5",
   "metadata": {},
   "outputs": [
    {
     "name": "stdout",
     "output_type": "stream",
     "text": [
      "[1, 4, 9, 16]\n"
     ]
    }
   ],
   "source": [
    "for i in sqr1(4):\n",
    "    print(i)"
   ]
  },
  {
   "cell_type": "code",
   "execution_count": null,
   "id": "fdecaec5",
   "metadata": {},
   "outputs": [],
   "source": []
  },
  {
   "cell_type": "code",
   "execution_count": 36,
   "id": "aa7989fb",
   "metadata": {
    "scrolled": true
   },
   "outputs": [
    {
     "ename": "TypeError",
     "evalue": "'range' object is not an iterator",
     "output_type": "error",
     "traceback": [
      "\u001b[1;31m---------------------------------------------------------------------------\u001b[0m",
      "\u001b[1;31mTypeError\u001b[0m                                 Traceback (most recent call last)",
      "\u001b[1;32m<ipython-input-36-5878c805ea00>\u001b[0m in \u001b[0;36m<module>\u001b[1;34m\u001b[0m\n\u001b[1;32m----> 1\u001b[1;33m \u001b[0mnext\u001b[0m\u001b[1;33m(\u001b[0m\u001b[0mrange\u001b[0m\u001b[1;33m(\u001b[0m\u001b[1;36m6\u001b[0m\u001b[1;33m)\u001b[0m\u001b[1;33m)\u001b[0m\u001b[1;33m\u001b[0m\u001b[1;33m\u001b[0m\u001b[0m\n\u001b[0m",
      "\u001b[1;31mTypeError\u001b[0m: 'range' object is not an iterator"
     ]
    }
   ],
   "source": [
    "next(range(6))"
   ]
  },
  {
   "cell_type": "code",
   "execution_count": 38,
   "id": "2d725e59",
   "metadata": {},
   "outputs": [],
   "source": [
    "r = iter(range(4))"
   ]
  },
  {
   "cell_type": "code",
   "execution_count": 39,
   "id": "87a034b7",
   "metadata": {},
   "outputs": [
    {
     "data": {
      "text/plain": [
       "0"
      ]
     },
     "execution_count": 39,
     "metadata": {},
     "output_type": "execute_result"
    }
   ],
   "source": [
    "next(r)"
   ]
  },
  {
   "cell_type": "code",
   "execution_count": 40,
   "id": "9c37d28c",
   "metadata": {},
   "outputs": [
    {
     "data": {
      "text/plain": [
       "1"
      ]
     },
     "execution_count": 40,
     "metadata": {},
     "output_type": "execute_result"
    }
   ],
   "source": [
    "next(r)"
   ]
  },
  {
   "cell_type": "markdown",
   "id": "b4edc4a7",
   "metadata": {},
   "source": [
    "yield can be used where we no need to get the value in return instead we need an iterable object so that whanever required we can generate the value"
   ]
  },
  {
   "cell_type": "code",
   "execution_count": null,
   "id": "3e0a40de",
   "metadata": {},
   "outputs": [],
   "source": []
  },
  {
   "cell_type": "code",
   "execution_count": 41,
   "id": "d82701f7",
   "metadata": {},
   "outputs": [],
   "source": [
    "def gen_fib(n):\n",
    "    a = 1\n",
    "    b = 1\n",
    "    l = []\n",
    "    for i in range(n):\n",
    "        l.append(a)\n",
    "        a,b = b, a+b\n",
    "    return l"
   ]
  },
  {
   "cell_type": "code",
   "execution_count": 42,
   "id": "1607af75",
   "metadata": {},
   "outputs": [
    {
     "data": {
      "text/plain": [
       "[1, 1, 2, 3]"
      ]
     },
     "execution_count": 42,
     "metadata": {},
     "output_type": "execute_result"
    }
   ],
   "source": [
    "gen_fib(4)"
   ]
  },
  {
   "cell_type": "code",
   "execution_count": 43,
   "id": "76ea2652",
   "metadata": {},
   "outputs": [
    {
     "data": {
      "text/plain": [
       "[1, 1, 2, 3, 5, 8, 13, 21]"
      ]
     },
     "execution_count": 43,
     "metadata": {},
     "output_type": "execute_result"
    }
   ],
   "source": [
    "gen_fib(8)"
   ]
  },
  {
   "cell_type": "code",
   "execution_count": null,
   "id": "657bf358",
   "metadata": {},
   "outputs": [],
   "source": []
  },
  {
   "cell_type": "code",
   "execution_count": 45,
   "id": "4455bc02",
   "metadata": {},
   "outputs": [],
   "source": [
    "def gen_fib1(n):\n",
    "    a = 1\n",
    "    b = 1\n",
    "    for i in range(n):\n",
    "        yield a\n",
    "        a,b = b, a+b"
   ]
  },
  {
   "cell_type": "code",
   "execution_count": 46,
   "id": "e8b4d0a6",
   "metadata": {},
   "outputs": [
    {
     "name": "stdout",
     "output_type": "stream",
     "text": [
      "1\n",
      "1\n",
      "2\n",
      "3\n",
      "5\n",
      "8\n",
      "13\n",
      "21\n",
      "34\n",
      "55\n",
      "89\n",
      "144\n",
      "233\n",
      "377\n",
      "610\n",
      "987\n",
      "1597\n",
      "2584\n",
      "4181\n",
      "6765\n",
      "10946\n",
      "17711\n",
      "28657\n",
      "46368\n",
      "75025\n",
      "121393\n",
      "196418\n",
      "317811\n",
      "514229\n",
      "832040\n",
      "1346269\n",
      "2178309\n",
      "3524578\n",
      "5702887\n",
      "9227465\n",
      "14930352\n",
      "24157817\n",
      "39088169\n",
      "63245986\n",
      "102334155\n",
      "165580141\n",
      "267914296\n",
      "433494437\n",
      "701408733\n",
      "1134903170\n",
      "1836311903\n",
      "2971215073\n",
      "4807526976\n",
      "7778742049\n",
      "12586269025\n",
      "20365011074\n",
      "32951280099\n",
      "53316291173\n",
      "86267571272\n",
      "139583862445\n",
      "225851433717\n",
      "365435296162\n",
      "591286729879\n",
      "956722026041\n",
      "1548008755920\n",
      "2504730781961\n",
      "4052739537881\n",
      "6557470319842\n",
      "10610209857723\n",
      "17167680177565\n",
      "27777890035288\n",
      "44945570212853\n"
     ]
    }
   ],
   "source": [
    "for i in gen_fib1(67):\n",
    "    print(i)"
   ]
  },
  {
   "cell_type": "code",
   "execution_count": 47,
   "id": "dc5a6a0d",
   "metadata": {},
   "outputs": [],
   "source": [
    "# yield saves resources (memory, ram etc.)"
   ]
  },
  {
   "cell_type": "code",
   "execution_count": null,
   "id": "bb32f187",
   "metadata": {},
   "outputs": [],
   "source": []
  },
  {
   "cell_type": "code",
   "execution_count": null,
   "id": "f317b882",
   "metadata": {},
   "outputs": [],
   "source": []
  },
  {
   "cell_type": "markdown",
   "id": "4bdbaa7f",
   "metadata": {},
   "source": [
    "# File Handling"
   ]
  },
  {
   "cell_type": "code",
   "execution_count": 1,
   "id": "6a3476f4",
   "metadata": {},
   "outputs": [
    {
     "ename": "FileNotFoundError",
     "evalue": "[Errno 2] No such file or directory: 'abhi.txt'",
     "output_type": "error",
     "traceback": [
      "\u001b[1;31m---------------------------------------------------------------------------\u001b[0m",
      "\u001b[1;31mFileNotFoundError\u001b[0m                         Traceback (most recent call last)",
      "\u001b[1;32m<ipython-input-1-bd7fa91af173>\u001b[0m in \u001b[0;36m<module>\u001b[1;34m\u001b[0m\n\u001b[1;32m----> 1\u001b[1;33m \u001b[0mf\u001b[0m \u001b[1;33m=\u001b[0m \u001b[0mopen\u001b[0m\u001b[1;33m(\u001b[0m\u001b[1;34m\"abhi.txt\"\u001b[0m\u001b[1;33m)\u001b[0m\u001b[1;33m\u001b[0m\u001b[1;33m\u001b[0m\u001b[0m\n\u001b[0m",
      "\u001b[1;31mFileNotFoundError\u001b[0m: [Errno 2] No such file or directory: 'abhi.txt'"
     ]
    }
   ],
   "source": [
    "f = open(\"abhi.txt\")"
   ]
  },
  {
   "cell_type": "code",
   "execution_count": 2,
   "id": "561c6895",
   "metadata": {},
   "outputs": [
    {
     "name": "stdout",
     "output_type": "stream",
     "text": [
      " Volume in drive C has no label.\n",
      " Volume Serial Number is 1A7E-3A40\n",
      "\n",
      " Directory of C:\\Users\\Abhishek Kashyap\n",
      "\n",
      "01-07-2022  09:49    <DIR>          .\n",
      "01-07-2022  09:49    <DIR>          ..\n",
      "05-06-2022  17:47    <DIR>          .astropy\n",
      "10-06-2022  18:22             3,978 .bash_history\n",
      "21-05-2022  01:07    <DIR>          .conda\n",
      "26-02-2022  15:41                25 .condarc\n",
      "26-02-2022  15:40    <DIR>          .continuum\n",
      "09-06-2022  20:02                67 .gitconfig\n",
      "30-06-2022  18:42    <DIR>          .ipynb_checkpoints\n",
      "24-02-2022  01:44    <DIR>          .ipython\n",
      "26-02-2022  03:31    <DIR>          .jupyter\n",
      "09-06-2022  20:17                20 .lesshst\n",
      "26-05-2022  02:27    <DIR>          .matplotlib\n",
      "19-04-2022  17:18    <DIR>          .spss\n",
      "03-06-2022  01:36    <DIR>          .ssh\n",
      "10-06-2022  02:18             1,222 .viminfo\n",
      "21-02-2022  23:26    <DIR>          .vscode\n",
      "01-07-2022  09:48            16,915 18th June 2022.ipynb\n",
      "21-02-2022  23:53    <DIR>          3D Objects\n",
      "17-03-2022  00:08    <DIR>          anaconda3\n",
      "28-02-2022  19:55            82,021 Car_Fuel.ipynb\n",
      "21-02-2022  23:53    <DIR>          Contacts\n",
      "08-06-2022  15:59             4,551 Database Class 2.ipynb\n",
      "19-06-2022  12:49    <DIR>          Desktop\n",
      "17-06-2022  16:29    <DIR>          Documents\n",
      "30-06-2022  18:34    <DIR>          Downloads\n",
      "12-06-2022  18:22            20,284 Exception Handling (12-06-2022).ipynb\n",
      "21-02-2022  23:53    <DIR>          Favorites\n",
      "01-07-2022  09:49                 0 file_handling.txt\n",
      "16-03-2022  22:47            35,387 Fraud Detection.ipynb\n",
      "16-03-2022  21:53         7,637,714 fresh_sample.csv\n",
      "10-06-2022  02:20    <DIR>          gitProject\n",
      "05-06-2022  17:04             4,168 ineuron class 05-06-2022.ipynb\n",
      "28-05-2022  18:42             7,297 ineuron class 28-05-2022.ipynb\n",
      "29-05-2022  17:59             7,088 ineuron class 29-05-2022.ipynb\n",
      "08-06-2022  02:12            33,019 ineuron database Class.ipynb\n",
      "29-05-2022  14:38            10,101 ineuron_Task No - 3.ipynb\n",
      "27-02-2022  03:01            35,004 Iris_dataset Practice.ipynb\n",
      "21-02-2022  23:53    <DIR>          Links\n",
      "19-06-2022  15:23               588 loging _Module (19-06-2022).ipynb\n",
      "19-06-2022  14:52            11,555 Love Babbar Sheet.ipynb\n",
      "26-05-2022  23:25    <DIR>          Microsoft\n",
      "09-06-2022  19:27            38,867 mongoDB .ipynb\n",
      "21-02-2022  23:53    <DIR>          Music\n",
      "25-03-2022  22:03           664,295 my_submission_file.csv\n",
      "11-06-2022  17:33                61 myfile.txt\n",
      "08-06-2022  01:42               299 MyFirstSQLfile.csv\n",
      "01-07-2022  09:28    <DIR>          OneDrive\n",
      "27-04-2022  15:09    <DIR>          Pictures\n",
      "02-04-2022  17:19             3,171 Practice in data science Notebook.ipynb\n",
      "19-06-2022  15:36    <DIR>          PycharmProjects\n",
      "17-03-2022  01:03            59,458 sample_fraud_detection.ipynb\n",
      "21-02-2022  23:53    <DIR>          Saved Games\n",
      "21-02-2022  23:55    <DIR>          Searches\n",
      "21-03-2022  02:51        16,795,170 sub_file.csv\n",
      "25-03-2022  22:04           152,249 Swiss Re Predict Accident Risk Score.ipynb\n",
      "21-03-2022  03:22            33,042 Swisss Re Test File.ipynb\n",
      "03-06-2022  20:14            14,155 Task No - 1  and 2 Solution.ipynb\n",
      "11-06-2022  18:30            12,309 Task No 4.ipynb\n",
      "23-04-2022  10:27    <DIR>          Tracing\n",
      "02-03-2022  14:12    <DIR>          Videos\n",
      "              31 File(s)     25,684,080 bytes\n",
      "              30 Dir(s)  119,462,391,808 bytes free\n"
     ]
    }
   ],
   "source": [
    "ls  # current directory"
   ]
  },
  {
   "cell_type": "code",
   "execution_count": 3,
   "id": "2ff8f540",
   "metadata": {},
   "outputs": [],
   "source": [
    "f = open(\"Abhi.txt\",\"w\")"
   ]
  },
  {
   "cell_type": "code",
   "execution_count": 4,
   "id": "4d261e54",
   "metadata": {},
   "outputs": [
    {
     "name": "stdout",
     "output_type": "stream",
     "text": [
      " Volume in drive C has no label.\n",
      " Volume Serial Number is 1A7E-3A40\n",
      "\n",
      " Directory of C:\\Users\\Abhishek Kashyap\n",
      "\n",
      "01-07-2022  09:51    <DIR>          .\n",
      "01-07-2022  09:51    <DIR>          ..\n",
      "05-06-2022  17:47    <DIR>          .astropy\n",
      "10-06-2022  18:22             3,978 .bash_history\n",
      "21-05-2022  01:07    <DIR>          .conda\n",
      "26-02-2022  15:41                25 .condarc\n",
      "26-02-2022  15:40    <DIR>          .continuum\n",
      "09-06-2022  20:02                67 .gitconfig\n",
      "30-06-2022  18:42    <DIR>          .ipynb_checkpoints\n",
      "24-02-2022  01:44    <DIR>          .ipython\n",
      "26-02-2022  03:31    <DIR>          .jupyter\n",
      "09-06-2022  20:17                20 .lesshst\n",
      "26-05-2022  02:27    <DIR>          .matplotlib\n",
      "19-04-2022  17:18    <DIR>          .spss\n",
      "03-06-2022  01:36    <DIR>          .ssh\n",
      "10-06-2022  02:18             1,222 .viminfo\n",
      "21-02-2022  23:26    <DIR>          .vscode\n",
      "01-07-2022  09:50            22,295 18th June 2022.ipynb\n",
      "21-02-2022  23:53    <DIR>          3D Objects\n",
      "01-07-2022  09:51                 0 Abhi.txt\n",
      "17-03-2022  00:08    <DIR>          anaconda3\n",
      "28-02-2022  19:55            82,021 Car_Fuel.ipynb\n",
      "21-02-2022  23:53    <DIR>          Contacts\n",
      "08-06-2022  15:59             4,551 Database Class 2.ipynb\n",
      "19-06-2022  12:49    <DIR>          Desktop\n",
      "17-06-2022  16:29    <DIR>          Documents\n",
      "30-06-2022  18:34    <DIR>          Downloads\n",
      "12-06-2022  18:22            20,284 Exception Handling (12-06-2022).ipynb\n",
      "21-02-2022  23:53    <DIR>          Favorites\n",
      "01-07-2022  09:49                 0 file_handling.txt\n",
      "16-03-2022  22:47            35,387 Fraud Detection.ipynb\n",
      "16-03-2022  21:53         7,637,714 fresh_sample.csv\n",
      "10-06-2022  02:20    <DIR>          gitProject\n",
      "05-06-2022  17:04             4,168 ineuron class 05-06-2022.ipynb\n",
      "28-05-2022  18:42             7,297 ineuron class 28-05-2022.ipynb\n",
      "29-05-2022  17:59             7,088 ineuron class 29-05-2022.ipynb\n",
      "08-06-2022  02:12            33,019 ineuron database Class.ipynb\n",
      "29-05-2022  14:38            10,101 ineuron_Task No - 3.ipynb\n",
      "27-02-2022  03:01            35,004 Iris_dataset Practice.ipynb\n",
      "21-02-2022  23:53    <DIR>          Links\n",
      "19-06-2022  15:23               588 loging _Module (19-06-2022).ipynb\n",
      "19-06-2022  14:52            11,555 Love Babbar Sheet.ipynb\n",
      "26-05-2022  23:25    <DIR>          Microsoft\n",
      "09-06-2022  19:27            38,867 mongoDB .ipynb\n",
      "21-02-2022  23:53    <DIR>          Music\n",
      "25-03-2022  22:03           664,295 my_submission_file.csv\n",
      "11-06-2022  17:33                61 myfile.txt\n",
      "08-06-2022  01:42               299 MyFirstSQLfile.csv\n",
      "01-07-2022  09:28    <DIR>          OneDrive\n",
      "27-04-2022  15:09    <DIR>          Pictures\n",
      "02-04-2022  17:19             3,171 Practice in data science Notebook.ipynb\n",
      "19-06-2022  15:36    <DIR>          PycharmProjects\n",
      "17-03-2022  01:03            59,458 sample_fraud_detection.ipynb\n",
      "21-02-2022  23:53    <DIR>          Saved Games\n",
      "21-02-2022  23:55    <DIR>          Searches\n",
      "21-03-2022  02:51        16,795,170 sub_file.csv\n",
      "25-03-2022  22:04           152,249 Swiss Re Predict Accident Risk Score.ipynb\n",
      "21-03-2022  03:22            33,042 Swisss Re Test File.ipynb\n",
      "03-06-2022  20:14            14,155 Task No - 1  and 2 Solution.ipynb\n",
      "11-06-2022  18:30            12,309 Task No 4.ipynb\n",
      "23-04-2022  10:27    <DIR>          Tracing\n",
      "02-03-2022  14:12    <DIR>          Videos\n",
      "              32 File(s)     25,689,460 bytes\n",
      "              30 Dir(s)  119,463,739,392 bytes free\n"
     ]
    }
   ],
   "source": [
    "ls # now there is no error and you can see \"Abhi.txt\" file in the current directory"
   ]
  },
  {
   "cell_type": "code",
   "execution_count": 5,
   "id": "2b228ce4",
   "metadata": {},
   "outputs": [
    {
     "data": {
      "text/plain": [
       "36"
      ]
     },
     "execution_count": 5,
     "metadata": {},
     "output_type": "execute_result"
    }
   ],
   "source": [
    "# performing write operation\n",
    "\n",
    "f.write(\"this is my very first file operation\")"
   ]
  },
  {
   "cell_type": "code",
   "execution_count": 6,
   "id": "7ef66838",
   "metadata": {},
   "outputs": [],
   "source": [
    "f.close()"
   ]
  },
  {
   "cell_type": "code",
   "execution_count": 7,
   "id": "f03d9d08",
   "metadata": {},
   "outputs": [
    {
     "name": "stdout",
     "output_type": "stream",
     "text": [
      " Volume in drive C has no label.\n",
      " Volume Serial Number is 1A7E-3A40\n",
      "\n",
      " Directory of C:\\Users\\Abhishek Kashyap\n",
      "\n",
      "01-07-2022  09:54    <DIR>          .\n",
      "01-07-2022  09:54    <DIR>          ..\n",
      "05-06-2022  17:47    <DIR>          .astropy\n",
      "10-06-2022  18:22             3,978 .bash_history\n",
      "21-05-2022  01:07    <DIR>          .conda\n",
      "26-02-2022  15:41                25 .condarc\n",
      "26-02-2022  15:40    <DIR>          .continuum\n",
      "09-06-2022  20:02                67 .gitconfig\n",
      "30-06-2022  18:42    <DIR>          .ipynb_checkpoints\n",
      "24-02-2022  01:44    <DIR>          .ipython\n",
      "26-02-2022  03:31    <DIR>          .jupyter\n",
      "09-06-2022  20:17                20 .lesshst\n",
      "26-05-2022  02:27    <DIR>          .matplotlib\n",
      "19-04-2022  17:18    <DIR>          .spss\n",
      "03-06-2022  01:36    <DIR>          .ssh\n",
      "10-06-2022  02:18             1,222 .viminfo\n",
      "21-02-2022  23:26    <DIR>          .vscode\n",
      "01-07-2022  09:54            27,532 18th June 2022.ipynb\n",
      "21-02-2022  23:53    <DIR>          3D Objects\n",
      "01-07-2022  09:54                36 Abhi.txt\n",
      "17-03-2022  00:08    <DIR>          anaconda3\n",
      "28-02-2022  19:55            82,021 Car_Fuel.ipynb\n",
      "21-02-2022  23:53    <DIR>          Contacts\n",
      "08-06-2022  15:59             4,551 Database Class 2.ipynb\n",
      "19-06-2022  12:49    <DIR>          Desktop\n",
      "17-06-2022  16:29    <DIR>          Documents\n",
      "30-06-2022  18:34    <DIR>          Downloads\n",
      "12-06-2022  18:22            20,284 Exception Handling (12-06-2022).ipynb\n",
      "21-02-2022  23:53    <DIR>          Favorites\n",
      "01-07-2022  09:49                 0 file_handling.txt\n",
      "16-03-2022  22:47            35,387 Fraud Detection.ipynb\n",
      "16-03-2022  21:53         7,637,714 fresh_sample.csv\n",
      "10-06-2022  02:20    <DIR>          gitProject\n",
      "05-06-2022  17:04             4,168 ineuron class 05-06-2022.ipynb\n",
      "28-05-2022  18:42             7,297 ineuron class 28-05-2022.ipynb\n",
      "29-05-2022  17:59             7,088 ineuron class 29-05-2022.ipynb\n",
      "08-06-2022  02:12            33,019 ineuron database Class.ipynb\n",
      "29-05-2022  14:38            10,101 ineuron_Task No - 3.ipynb\n",
      "27-02-2022  03:01            35,004 Iris_dataset Practice.ipynb\n",
      "21-02-2022  23:53    <DIR>          Links\n",
      "19-06-2022  15:23               588 loging _Module (19-06-2022).ipynb\n",
      "19-06-2022  14:52            11,555 Love Babbar Sheet.ipynb\n",
      "26-05-2022  23:25    <DIR>          Microsoft\n",
      "09-06-2022  19:27            38,867 mongoDB .ipynb\n",
      "21-02-2022  23:53    <DIR>          Music\n",
      "25-03-2022  22:03           664,295 my_submission_file.csv\n",
      "11-06-2022  17:33                61 myfile.txt\n",
      "08-06-2022  01:42               299 MyFirstSQLfile.csv\n",
      "01-07-2022  09:28    <DIR>          OneDrive\n",
      "27-04-2022  15:09    <DIR>          Pictures\n",
      "02-04-2022  17:19             3,171 Practice in data science Notebook.ipynb\n",
      "19-06-2022  15:36    <DIR>          PycharmProjects\n",
      "17-03-2022  01:03            59,458 sample_fraud_detection.ipynb\n",
      "21-02-2022  23:53    <DIR>          Saved Games\n",
      "21-02-2022  23:55    <DIR>          Searches\n",
      "21-03-2022  02:51        16,795,170 sub_file.csv\n",
      "25-03-2022  22:04           152,249 Swiss Re Predict Accident Risk Score.ipynb\n",
      "21-03-2022  03:22            33,042 Swisss Re Test File.ipynb\n",
      "03-06-2022  20:14            14,155 Task No - 1  and 2 Solution.ipynb\n",
      "11-06-2022  18:30            12,309 Task No 4.ipynb\n",
      "23-04-2022  10:27    <DIR>          Tracing\n",
      "02-03-2022  14:12    <DIR>          Videos\n",
      "              32 File(s)     25,694,733 bytes\n",
      "              30 Dir(s)  119,462,658,048 bytes free\n"
     ]
    }
   ],
   "source": [
    "ls"
   ]
  },
  {
   "cell_type": "code",
   "execution_count": null,
   "id": "f66b6e6b",
   "metadata": {},
   "outputs": [],
   "source": []
  },
  {
   "cell_type": "code",
   "execution_count": 8,
   "id": "3ccac2ae",
   "metadata": {},
   "outputs": [],
   "source": [
    "f1 = open(\"test_file\",\"w\")"
   ]
  },
  {
   "cell_type": "code",
   "execution_count": 9,
   "id": "adfa4b01",
   "metadata": {},
   "outputs": [
    {
     "data": {
      "text/plain": [
       "32"
      ]
     },
     "execution_count": 9,
     "metadata": {},
     "output_type": "execute_result"
    }
   ],
   "source": [
    "f1.write(\"this is my second file operation\")"
   ]
  },
  {
   "cell_type": "code",
   "execution_count": 10,
   "id": "58be9ced",
   "metadata": {},
   "outputs": [],
   "source": [
    "f1.close()"
   ]
  },
  {
   "cell_type": "code",
   "execution_count": 11,
   "id": "99f27354",
   "metadata": {},
   "outputs": [],
   "source": [
    "f2 = open(\"test_file2\",\"w\")"
   ]
  },
  {
   "cell_type": "code",
   "execution_count": 12,
   "id": "761cc71e",
   "metadata": {},
   "outputs": [],
   "source": [
    "l = [1,2,3,4,5,6,7]"
   ]
  },
  {
   "cell_type": "code",
   "execution_count": 13,
   "id": "42988ee4",
   "metadata": {},
   "outputs": [
    {
     "ename": "TypeError",
     "evalue": "write() argument must be str, not list",
     "output_type": "error",
     "traceback": [
      "\u001b[1;31m---------------------------------------------------------------------------\u001b[0m",
      "\u001b[1;31mTypeError\u001b[0m                                 Traceback (most recent call last)",
      "\u001b[1;32m<ipython-input-13-d10122bbe497>\u001b[0m in \u001b[0;36m<module>\u001b[1;34m\u001b[0m\n\u001b[1;32m----> 1\u001b[1;33m \u001b[0mf2\u001b[0m\u001b[1;33m.\u001b[0m\u001b[0mwrite\u001b[0m\u001b[1;33m(\u001b[0m\u001b[0ml\u001b[0m\u001b[1;33m)\u001b[0m\u001b[1;33m\u001b[0m\u001b[1;33m\u001b[0m\u001b[0m\n\u001b[0m",
      "\u001b[1;31mTypeError\u001b[0m: write() argument must be str, not list"
     ]
    }
   ],
   "source": [
    "f2.write(l)"
   ]
  },
  {
   "cell_type": "code",
   "execution_count": 14,
   "id": "d52540f2",
   "metadata": {},
   "outputs": [
    {
     "data": {
      "text/plain": [
       "21"
      ]
     },
     "execution_count": 14,
     "metadata": {},
     "output_type": "execute_result"
    }
   ],
   "source": [
    "f2.write(str(l))  # must be convert into string"
   ]
  },
  {
   "cell_type": "code",
   "execution_count": 16,
   "id": "08d556f5",
   "metadata": {},
   "outputs": [],
   "source": [
    "f2.close() # must close the file after completion"
   ]
  },
  {
   "cell_type": "code",
   "execution_count": null,
   "id": "c2581fa1",
   "metadata": {},
   "outputs": [],
   "source": []
  },
  {
   "cell_type": "markdown",
   "id": "d2daa4ed",
   "metadata": {},
   "source": [
    "# File use case\n",
    "    work around, we should save the results in txt file to get the things handy. To vaoid opening of file again and again and to save resources"
   ]
  },
  {
   "cell_type": "code",
   "execution_count": null,
   "id": "9e16d6f7",
   "metadata": {},
   "outputs": [],
   "source": []
  },
  {
   "cell_type": "code",
   "execution_count": 17,
   "id": "8a7509db",
   "metadata": {},
   "outputs": [],
   "source": [
    "# few more ways "
   ]
  },
  {
   "cell_type": "code",
   "execution_count": 18,
   "id": "c1737cdf",
   "metadata": {},
   "outputs": [],
   "source": [
    "f3 = open(\"test.sudh\",\"w\")\n",
    "f3.write(\"write something jdhffhhf\")\n",
    "f3.close()"
   ]
  },
  {
   "cell_type": "code",
   "execution_count": 20,
   "id": "c343f82a",
   "metadata": {},
   "outputs": [],
   "source": [
    "# another way"
   ]
  },
  {
   "cell_type": "code",
   "execution_count": 22,
   "id": "64c5308e",
   "metadata": {},
   "outputs": [
    {
     "name": "stdout",
     "output_type": "stream",
     "text": [
      "Overwriting test5.txt\n"
     ]
    }
   ],
   "source": [
    "%%writefile test5.txt\n",
    "i am writing this file in a different way\n",
    "i am writing this file in a different wayi am writing this file in a different wayi am writing this file in a different way\n",
    "i am writing this file in a different way\n",
    "i am writing this file in a different way"
   ]
  },
  {
   "cell_type": "code",
   "execution_count": null,
   "id": "7f62d466",
   "metadata": {},
   "outputs": [],
   "source": []
  },
  {
   "cell_type": "code",
   "execution_count": null,
   "id": "6a7d56dc",
   "metadata": {},
   "outputs": [],
   "source": []
  },
  {
   "cell_type": "markdown",
   "id": "b5315dbb",
   "metadata": {},
   "source": [
    "performing read operation "
   ]
  },
  {
   "cell_type": "code",
   "execution_count": 25,
   "id": "6a8fa6a5",
   "metadata": {},
   "outputs": [],
   "source": [
    "#1 directly open through directory\n",
    "#2 using python "
   ]
  },
  {
   "cell_type": "code",
   "execution_count": 26,
   "id": "477476d8",
   "metadata": {},
   "outputs": [],
   "source": [
    "f = open(\"test5.txt\")"
   ]
  },
  {
   "cell_type": "code",
   "execution_count": 27,
   "id": "af49bc17",
   "metadata": {},
   "outputs": [
    {
     "data": {
      "text/plain": [
       "'i am writing this file in a different way\\ni am writing this file in a different wayi am writing this file in a different wayi am writing this file in a different way\\ni am writing this file in a different way\\ni am writing this file in a different way\\n'"
      ]
     },
     "execution_count": 27,
     "metadata": {},
     "output_type": "execute_result"
    }
   ],
   "source": [
    "f.read()"
   ]
  },
  {
   "cell_type": "code",
   "execution_count": null,
   "id": "0d74af12",
   "metadata": {},
   "outputs": [],
   "source": []
  },
  {
   "cell_type": "code",
   "execution_count": 30,
   "id": "4a86fec5",
   "metadata": {},
   "outputs": [
    {
     "data": {
      "text/plain": [
       "''"
      ]
     },
     "execution_count": 30,
     "metadata": {},
     "output_type": "execute_result"
    }
   ],
   "source": [
    "f.read()  # give blank because the pointer/cursor is at the end of the file. So need to rest the pointer to start."
   ]
  },
  {
   "cell_type": "code",
   "execution_count": 31,
   "id": "29c4b5d7",
   "metadata": {},
   "outputs": [
    {
     "data": {
      "text/plain": [
       "0"
      ]
     },
     "execution_count": 31,
     "metadata": {},
     "output_type": "execute_result"
    }
   ],
   "source": [
    "f.seek(0)"
   ]
  },
  {
   "cell_type": "code",
   "execution_count": 32,
   "id": "a4b290d5",
   "metadata": {},
   "outputs": [
    {
     "data": {
      "text/plain": [
       "'i am writing this file in a different way\\ni am writing this file in a different wayi am writing this file in a different wayi am writing this file in a different way\\ni am writing this file in a different way\\ni am writing this file in a different way\\n'"
      ]
     },
     "execution_count": 32,
     "metadata": {},
     "output_type": "execute_result"
    }
   ],
   "source": [
    "f.read()"
   ]
  },
  {
   "cell_type": "code",
   "execution_count": 33,
   "id": "be1e8fce",
   "metadata": {},
   "outputs": [
    {
     "data": {
      "text/plain": [
       "4"
      ]
     },
     "execution_count": 33,
     "metadata": {},
     "output_type": "execute_result"
    }
   ],
   "source": [
    "f.seek(4)"
   ]
  },
  {
   "cell_type": "code",
   "execution_count": 34,
   "id": "6e572bc9",
   "metadata": {},
   "outputs": [
    {
     "data": {
      "text/plain": [
       "' writing this file in a different way\\ni am writing this file in a different wayi am writing this file in a different wayi am writing this file in a different way\\ni am writing this file in a different way\\ni am writing this file in a different way\\n'"
      ]
     },
     "execution_count": 34,
     "metadata": {},
     "output_type": "execute_result"
    }
   ],
   "source": [
    "f.read() # read the data from 4th place"
   ]
  },
  {
   "cell_type": "code",
   "execution_count": null,
   "id": "99f7d81e",
   "metadata": {},
   "outputs": [],
   "source": []
  },
  {
   "cell_type": "code",
   "execution_count": 36,
   "id": "56e1f780",
   "metadata": {},
   "outputs": [
    {
     "data": {
      "text/plain": [
       "254"
      ]
     },
     "execution_count": 36,
     "metadata": {},
     "output_type": "execute_result"
    }
   ],
   "source": [
    "f.tell() # will tell the position of the pointer from beggining "
   ]
  },
  {
   "cell_type": "code",
   "execution_count": 37,
   "id": "c4ecc3a0",
   "metadata": {},
   "outputs": [
    {
     "data": {
      "text/plain": [
       "6"
      ]
     },
     "execution_count": 37,
     "metadata": {},
     "output_type": "execute_result"
    }
   ],
   "source": [
    "f.seek(6)"
   ]
  },
  {
   "cell_type": "code",
   "execution_count": 38,
   "id": "df695642",
   "metadata": {},
   "outputs": [
    {
     "data": {
      "text/plain": [
       "6"
      ]
     },
     "execution_count": 38,
     "metadata": {},
     "output_type": "execute_result"
    }
   ],
   "source": [
    "f.tell()"
   ]
  },
  {
   "cell_type": "code",
   "execution_count": 40,
   "id": "d136a517",
   "metadata": {},
   "outputs": [
    {
     "data": {
      "text/plain": [
       "'his file in a different wayi am writing this file '"
      ]
     },
     "execution_count": 40,
     "metadata": {},
     "output_type": "execute_result"
    }
   ],
   "source": [
    "f.read(50) # will read upto given length from beggining/current position"
   ]
  },
  {
   "cell_type": "code",
   "execution_count": 41,
   "id": "742b09e3",
   "metadata": {},
   "outputs": [
    {
     "data": {
      "text/plain": [
       "['in a different wayi am writing this file in a different way\\n',\n",
       " 'i am writing this file in a different way\\n',\n",
       " 'i am writing this file in a different way\\n']"
      ]
     },
     "execution_count": 41,
     "metadata": {},
     "output_type": "execute_result"
    }
   ],
   "source": [
    "f.readlines()"
   ]
  },
  {
   "cell_type": "code",
   "execution_count": null,
   "id": "82ec1c3c",
   "metadata": {},
   "outputs": [],
   "source": []
  },
  {
   "cell_type": "code",
   "execution_count": 42,
   "id": "28860f3b",
   "metadata": {},
   "outputs": [
    {
     "data": {
      "text/plain": [
       "4"
      ]
     },
     "execution_count": 42,
     "metadata": {},
     "output_type": "execute_result"
    }
   ],
   "source": [
    "f.fileno() give number of file"
   ]
  },
  {
   "cell_type": "code",
   "execution_count": 43,
   "id": "c029c9a1",
   "metadata": {},
   "outputs": [],
   "source": [
    "f.close()"
   ]
  },
  {
   "cell_type": "code",
   "execution_count": null,
   "id": "ed6f4cd6",
   "metadata": {},
   "outputs": [],
   "source": []
  },
  {
   "cell_type": "code",
   "execution_count": 44,
   "id": "8884b4fb",
   "metadata": {},
   "outputs": [],
   "source": [
    "# w open file in writing mode\n",
    "# a append the new data/info at the last \n",
    "# w+ (open file in reading and write mode) always check whether file exist or not and if file do not exist it will create one\n",
    "# a+ append a file if not available create one\n",
    "# r \n",
    "# r+ open file read and write mode and if file do not exist it will through error"
   ]
  },
  {
   "cell_type": "code",
   "execution_count": null,
   "id": "5f4eb0d4",
   "metadata": {},
   "outputs": [],
   "source": []
  },
  {
   "cell_type": "code",
   "execution_count": 45,
   "id": "9b398c6d",
   "metadata": {},
   "outputs": [],
   "source": [
    "f3 = open('test5.txt','a')"
   ]
  },
  {
   "cell_type": "code",
   "execution_count": 47,
   "id": "e85f5703",
   "metadata": {},
   "outputs": [
    {
     "data": {
      "text/plain": [
       "'a'"
      ]
     },
     "execution_count": 47,
     "metadata": {},
     "output_type": "execute_result"
    }
   ],
   "source": [
    "f3.mode"
   ]
  },
  {
   "cell_type": "code",
   "execution_count": 48,
   "id": "be4191b7",
   "metadata": {},
   "outputs": [
    {
     "data": {
      "text/plain": [
       "False"
      ]
     },
     "execution_count": 48,
     "metadata": {},
     "output_type": "execute_result"
    }
   ],
   "source": [
    "f3.closed"
   ]
  },
  {
   "cell_type": "code",
   "execution_count": 49,
   "id": "b5da6fe1",
   "metadata": {},
   "outputs": [
    {
     "data": {
      "text/plain": [
       "'test5.txt'"
      ]
     },
     "execution_count": 49,
     "metadata": {},
     "output_type": "execute_result"
    }
   ],
   "source": [
    "f3.name"
   ]
  },
  {
   "cell_type": "code",
   "execution_count": null,
   "id": "97c7d540",
   "metadata": {},
   "outputs": [],
   "source": []
  },
  {
   "cell_type": "code",
   "execution_count": 50,
   "id": "2bc2f41c",
   "metadata": {},
   "outputs": [],
   "source": [
    "#creating file in a location \n",
    "\n",
    "f4 = open(\"D:/test7.txt\",\"w\")"
   ]
  },
  {
   "cell_type": "code",
   "execution_count": null,
   "id": "6d045507",
   "metadata": {},
   "outputs": [],
   "source": []
  },
  {
   "cell_type": "markdown",
   "id": "65e288af",
   "metadata": {},
   "source": [
    "# map, filter and reduce"
   ]
  },
  {
   "cell_type": "code",
   "execution_count": 51,
   "id": "16d64f56",
   "metadata": {},
   "outputs": [],
   "source": [
    "l = [2,3,45,6,6]\n",
    "l1 = []\n",
    "\n",
    "for i in l:\n",
    "    l1.append(i**2)"
   ]
  },
  {
   "cell_type": "code",
   "execution_count": 52,
   "id": "b344c26f",
   "metadata": {},
   "outputs": [
    {
     "data": {
      "text/plain": [
       "[4, 9, 2025, 36, 36]"
      ]
     },
     "execution_count": 52,
     "metadata": {},
     "output_type": "execute_result"
    }
   ],
   "source": [
    "l1"
   ]
  },
  {
   "cell_type": "code",
   "execution_count": null,
   "id": "1dcb736a",
   "metadata": {},
   "outputs": [],
   "source": [
    "#optimised approach"
   ]
  },
  {
   "cell_type": "markdown",
   "id": "4d1187a1",
   "metadata": {},
   "source": [
    "# map()\n",
    "\n",
    "    Docstring:     \n",
    "    map(func, *iterables) --> map object\n",
    "\n",
    "    Make an iterator that computes the function using arguments from\n",
    "    each of the iterables.  Stops when the shortest iterable is exhausted."
   ]
  },
  {
   "cell_type": "code",
   "execution_count": 54,
   "id": "0d91e4b9",
   "metadata": {},
   "outputs": [],
   "source": [
    "def sq(n):\n",
    "    return n**2"
   ]
  },
  {
   "cell_type": "code",
   "execution_count": 55,
   "id": "a39e1ee6",
   "metadata": {},
   "outputs": [
    {
     "data": {
      "text/plain": [
       "[4, 9, 2025, 36, 36]"
      ]
     },
     "execution_count": 55,
     "metadata": {},
     "output_type": "execute_result"
    }
   ],
   "source": [
    "list(map(sq,l))"
   ]
  },
  {
   "cell_type": "code",
   "execution_count": null,
   "id": "e7ea8c82",
   "metadata": {},
   "outputs": [],
   "source": [
    "# mapn function  try to map every element to the given condition"
   ]
  },
  {
   "cell_type": "code",
   "execution_count": 56,
   "id": "5ed16e8b",
   "metadata": {},
   "outputs": [
    {
     "data": {
      "text/plain": [
       "[4, 9, 2025, 36, 36]"
      ]
     },
     "execution_count": 56,
     "metadata": {},
     "output_type": "execute_result"
    }
   ],
   "source": [
    "list(map(lambda x : x**2, l))"
   ]
  },
  {
   "cell_type": "code",
   "execution_count": null,
   "id": "8dcdd42a",
   "metadata": {},
   "outputs": [],
   "source": []
  },
  {
   "cell_type": "code",
   "execution_count": 57,
   "id": "13b836e1",
   "metadata": {},
   "outputs": [
    {
     "data": {
      "text/plain": [
       "['2', '3', '45', '6', '6']"
      ]
     },
     "execution_count": 57,
     "metadata": {},
     "output_type": "execute_result"
    }
   ],
   "source": [
    "list(map(lambda x : str(x),l))"
   ]
  },
  {
   "cell_type": "code",
   "execution_count": null,
   "id": "b205d9d6",
   "metadata": {},
   "outputs": [],
   "source": []
  },
  {
   "cell_type": "code",
   "execution_count": 58,
   "id": "6661585f",
   "metadata": {},
   "outputs": [
    {
     "data": {
      "text/plain": [
       "['2', '3', '45', '6', '6']"
      ]
     },
     "execution_count": 58,
     "metadata": {},
     "output_type": "execute_result"
    }
   ],
   "source": [
    "list(map(str,l))"
   ]
  },
  {
   "cell_type": "code",
   "execution_count": null,
   "id": "9942e32f",
   "metadata": {},
   "outputs": [],
   "source": []
  },
  {
   "cell_type": "markdown",
   "id": "72149176",
   "metadata": {},
   "source": [
    "# reduce\n",
    "    Reduce work with only two parameters"
   ]
  },
  {
   "cell_type": "code",
   "execution_count": 59,
   "id": "29ef18dc",
   "metadata": {},
   "outputs": [],
   "source": [
    "from functools import reduce"
   ]
  },
  {
   "cell_type": "code",
   "execution_count": 60,
   "id": "6770f01b",
   "metadata": {},
   "outputs": [],
   "source": [
    "l2 = [2,4,5,6,7,8]"
   ]
  },
  {
   "cell_type": "code",
   "execution_count": 61,
   "id": "9de38eae",
   "metadata": {},
   "outputs": [],
   "source": [
    "# try to give summation of elements of list"
   ]
  },
  {
   "cell_type": "code",
   "execution_count": 62,
   "id": "af64dcee",
   "metadata": {},
   "outputs": [
    {
     "data": {
      "text/plain": [
       "32"
      ]
     },
     "execution_count": 62,
     "metadata": {},
     "output_type": "execute_result"
    }
   ],
   "source": [
    "sum(l2)"
   ]
  },
  {
   "cell_type": "code",
   "execution_count": 64,
   "id": "40cd413d",
   "metadata": {},
   "outputs": [
    {
     "data": {
      "text/plain": [
       "32"
      ]
     },
     "execution_count": 64,
     "metadata": {},
     "output_type": "execute_result"
    }
   ],
   "source": [
    "reduce(lambda a,b : a+b, l2)"
   ]
  },
  {
   "cell_type": "code",
   "execution_count": null,
   "id": "a497871b",
   "metadata": {},
   "outputs": [],
   "source": []
  },
  {
   "cell_type": "code",
   "execution_count": 66,
   "id": "03ab900f",
   "metadata": {},
   "outputs": [],
   "source": [
    "# exception \n",
    "\n",
    "l3 = [3]"
   ]
  },
  {
   "cell_type": "code",
   "execution_count": 67,
   "id": "15fe394d",
   "metadata": {},
   "outputs": [
    {
     "data": {
      "text/plain": [
       "3"
      ]
     },
     "execution_count": 67,
     "metadata": {},
     "output_type": "execute_result"
    }
   ],
   "source": [
    "reduce(lambda a,b: a+b, l3)"
   ]
  },
  {
   "cell_type": "code",
   "execution_count": null,
   "id": "b9ccc83f",
   "metadata": {},
   "outputs": [],
   "source": []
  },
  {
   "cell_type": "code",
   "execution_count": null,
   "id": "f6274fcc",
   "metadata": {},
   "outputs": [],
   "source": []
  },
  {
   "cell_type": "markdown",
   "id": "aafc8897",
   "metadata": {},
   "source": [
    "# filter function"
   ]
  },
  {
   "cell_type": "code",
   "execution_count": 68,
   "id": "84160e58",
   "metadata": {},
   "outputs": [
    {
     "data": {
      "text/plain": [
       "[2, 3, 45, 6, 6]"
      ]
     },
     "execution_count": 68,
     "metadata": {},
     "output_type": "execute_result"
    }
   ],
   "source": [
    "l"
   ]
  },
  {
   "cell_type": "code",
   "execution_count": 70,
   "id": "d4ad872a",
   "metadata": {},
   "outputs": [
    {
     "data": {
      "text/plain": [
       "[2, 6, 6]"
      ]
     },
     "execution_count": 70,
     "metadata": {},
     "output_type": "execute_result"
    }
   ],
   "source": [
    "list(filter(lambda x: x%2==0,l))"
   ]
  },
  {
   "cell_type": "code",
   "execution_count": null,
   "id": "2cb44867",
   "metadata": {},
   "outputs": [],
   "source": []
  },
  {
   "cell_type": "code",
   "execution_count": 73,
   "id": "44740ba4",
   "metadata": {},
   "outputs": [],
   "source": [
    "def check_even(n):\n",
    "    return n%2 == 0"
   ]
  },
  {
   "cell_type": "code",
   "execution_count": 74,
   "id": "c3960670",
   "metadata": {},
   "outputs": [
    {
     "data": {
      "text/plain": [
       "[2, 6, 6]"
      ]
     },
     "execution_count": 74,
     "metadata": {},
     "output_type": "execute_result"
    }
   ],
   "source": [
    "list(filter(check_even, l))"
   ]
  },
  {
   "cell_type": "code",
   "execution_count": null,
   "id": "9ce15934",
   "metadata": {},
   "outputs": [],
   "source": []
  }
 ],
 "metadata": {
  "kernelspec": {
   "display_name": "Python 3",
   "language": "python",
   "name": "python3"
  },
  "language_info": {
   "codemirror_mode": {
    "name": "ipython",
    "version": 3
   },
   "file_extension": ".py",
   "mimetype": "text/x-python",
   "name": "python",
   "nbconvert_exporter": "python",
   "pygments_lexer": "ipython3",
   "version": "3.8.8"
  }
 },
 "nbformat": 4,
 "nbformat_minor": 5
}

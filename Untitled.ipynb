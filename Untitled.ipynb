{
 "cells": [
  {
   "cell_type": "code",
   "execution_count": 1,
   "id": "932dacf8",
   "metadata": {},
   "outputs": [],
   "source": [
    "lt = []\n",
    "a = 10"
   ]
  },
  {
   "cell_type": "code",
   "execution_count": 2,
   "id": "84183f7d",
   "metadata": {},
   "outputs": [],
   "source": [
    "lt.append(a)"
   ]
  },
  {
   "cell_type": "code",
   "execution_count": 4,
   "id": "8352f8ce",
   "metadata": {},
   "outputs": [],
   "source": [
    "for i in range(1,11):\n",
    "    lt.append(i)"
   ]
  },
  {
   "cell_type": "code",
   "execution_count": 8,
   "id": "496c45b9",
   "metadata": {},
   "outputs": [
    {
     "name": "stdout",
     "output_type": "stream",
     "text": [
      "6\n",
      "7\n",
      "8\n",
      "9\n",
      "10\n"
     ]
    }
   ],
   "source": [
    "for j in range(1,len(lt)):\n",
    "    if j <=5:\n",
    "        print(j)\n",
    "    else:\n",
    "        break\n",
    "        "
   ]
  },
  {
   "cell_type": "code",
   "execution_count": null,
   "id": "6d949228",
   "metadata": {},
   "outputs": [],
   "source": []
  }
 ],
 "metadata": {
  "kernelspec": {
   "display_name": "Python 3",
   "language": "python",
   "name": "python3"
  },
  "language_info": {
   "codemirror_mode": {
    "name": "ipython",
    "version": 3
   },
   "file_extension": ".py",
   "mimetype": "text/x-python",
   "name": "python",
   "nbconvert_exporter": "python",
   "pygments_lexer": "ipython3",
   "version": "3.8.8"
  }
 },
 "nbformat": 4,
 "nbformat_minor": 5
}

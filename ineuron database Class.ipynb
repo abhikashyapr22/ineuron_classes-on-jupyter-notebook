{
 "cells": [
  {
   "cell_type": "code",
   "execution_count": 1,
   "id": "9b7f2969",
   "metadata": {},
   "outputs": [
    {
     "name": "stdout",
     "output_type": "stream",
     "text": [
      "Requirement already satisfied: mysql-connector-python in c:\\users\\abhishek kashyap\\anaconda3\\lib\\site-packages (8.0.29)\n",
      "Collecting protobuf>=3.0.0\n",
      "  Downloading protobuf-4.21.1-cp38-cp38-win_amd64.whl (524 kB)\n",
      "Installing collected packages: protobuf\n",
      "Successfully installed protobuf-4.21.1\n"
     ]
    }
   ],
   "source": [
    "!pip install mysql-connector-python"
   ]
  },
  {
   "cell_type": "code",
   "execution_count": null,
   "id": "7a51eb2c",
   "metadata": {},
   "outputs": [],
   "source": [
    "# Establishing Connection"
   ]
  },
  {
   "cell_type": "code",
   "execution_count": 3,
   "id": "bd05cfc3",
   "metadata": {},
   "outputs": [
    {
     "name": "stdout",
     "output_type": "stream",
     "text": [
      "[('information_schema',), ('my_database',), ('mysql',), ('performance_schema',), ('personal',), ('sales',), ('sys',)]\n"
     ]
    }
   ],
   "source": [
    "import mysql.connector as connection\n",
    "\n",
    "try:\n",
    "    mydb = connection.connect(host=\"localhost\",user=\"root\", passwd=\"Abhishek@1067\",use_pure=True)\n",
    "    # check if the connection is established\n",
    "\n",
    "    query = \"SHOW DATABASES\"\n",
    "\n",
    "    cursor = mydb.cursor() #create a cursor to execute queries\n",
    "    cursor.execute(query)\n",
    "    print(cursor.fetchall())\n",
    "\n",
    "except Exception as e:\n",
    "    mydb.close()\n",
    "    print(str(e))"
   ]
  },
  {
   "cell_type": "code",
   "execution_count": 4,
   "id": "8ff787bc",
   "metadata": {},
   "outputs": [
    {
     "data": {
      "text/plain": [
       "<mysql.connector.connection.MySQLConnection at 0x243bba78820>"
      ]
     },
     "execution_count": 4,
     "metadata": {},
     "output_type": "execute_result"
    }
   ],
   "source": [
    "connection.connect(host=\"localhost\",user=\"root\", passwd=\"Abhishek@1067\",use_pure=True)"
   ]
  },
  {
   "cell_type": "code",
   "execution_count": 5,
   "id": "f6219f1a",
   "metadata": {},
   "outputs": [],
   "source": [
    "conn = connection.connect(host=\"localhost\",user=\"root\", passwd=\"Abhishek@1067\",use_pure=True)"
   ]
  },
  {
   "cell_type": "code",
   "execution_count": 11,
   "id": "99458def",
   "metadata": {},
   "outputs": [],
   "source": [
    "cur = conn.cursor()"
   ]
  },
  {
   "cell_type": "code",
   "execution_count": 12,
   "id": "a244ad3e",
   "metadata": {},
   "outputs": [],
   "source": [
    "cur.execute(\"show databases\")"
   ]
  },
  {
   "cell_type": "code",
   "execution_count": 13,
   "id": "99d45846",
   "metadata": {},
   "outputs": [
    {
     "data": {
      "text/plain": [
       "[('abhishekdb',),\n",
       " ('information_schema',),\n",
       " ('my_database',),\n",
       " ('mysql',),\n",
       " ('performance_schema',),\n",
       " ('personal',),\n",
       " ('sales',),\n",
       " ('studentrecord',),\n",
       " ('sys',)]"
      ]
     },
     "execution_count": 13,
     "metadata": {},
     "output_type": "execute_result"
    }
   ],
   "source": [
    "res = cur.fetchall()\n",
    "res"
   ]
  },
  {
   "cell_type": "code",
   "execution_count": 16,
   "id": "0095881e",
   "metadata": {},
   "outputs": [],
   "source": [
    "#cur.execute(\"create database ABhishekDB\")"
   ]
  },
  {
   "cell_type": "code",
   "execution_count": 24,
   "id": "55d89a6a",
   "metadata": {},
   "outputs": [],
   "source": [
    "import mysql.connector as connection"
   ]
  },
  {
   "cell_type": "code",
   "execution_count": 26,
   "id": "426bdc3a",
   "metadata": {},
   "outputs": [],
   "source": [
    "conn = connection.connect(host=\"localhost\",user=\"root\",passwd=\"Abhishek@1067\",use_pure=True)"
   ]
  },
  {
   "cell_type": "code",
   "execution_count": 27,
   "id": "600e2433",
   "metadata": {},
   "outputs": [],
   "source": [
    "cur = conn.cursor()"
   ]
  },
  {
   "cell_type": "code",
   "execution_count": 28,
   "id": "0b01760e",
   "metadata": {},
   "outputs": [],
   "source": [
    "cur.execute(\"create database AbhishekDatabase\")"
   ]
  },
  {
   "cell_type": "code",
   "execution_count": 32,
   "id": "3c2aa6a1",
   "metadata": {},
   "outputs": [],
   "source": [
    "cur = conn.cursor()"
   ]
  },
  {
   "cell_type": "code",
   "execution_count": 33,
   "id": "a49b7d6d",
   "metadata": {},
   "outputs": [],
   "source": [
    "cur.execute(\"show databases\")"
   ]
  },
  {
   "cell_type": "code",
   "execution_count": 34,
   "id": "694366d3",
   "metadata": {},
   "outputs": [],
   "source": [
    "res = cur.fetchall()"
   ]
  },
  {
   "cell_type": "code",
   "execution_count": 35,
   "id": "5ceff287",
   "metadata": {},
   "outputs": [
    {
     "data": {
      "text/plain": [
       "[('abhishekdatabase',),\n",
       " ('abhishekdb',),\n",
       " ('information_schema',),\n",
       " ('my_database',),\n",
       " ('mysql',),\n",
       " ('performance_schema',),\n",
       " ('personal',),\n",
       " ('sales',),\n",
       " ('studentrecord',),\n",
       " ('sys',)]"
      ]
     },
     "execution_count": 35,
     "metadata": {},
     "output_type": "execute_result"
    }
   ],
   "source": [
    "res"
   ]
  },
  {
   "cell_type": "code",
   "execution_count": 38,
   "id": "db7563fe",
   "metadata": {},
   "outputs": [],
   "source": [
    "cur = conn.cursor()"
   ]
  },
  {
   "cell_type": "code",
   "execution_count": 39,
   "id": "63c6b005",
   "metadata": {},
   "outputs": [],
   "source": [
    "cur.execute(\"show databases\")"
   ]
  },
  {
   "cell_type": "code",
   "execution_count": 40,
   "id": "74d545a7",
   "metadata": {},
   "outputs": [
    {
     "data": {
      "text/plain": [
       "[('abhishekdatabase',),\n",
       " ('abhishekdb',),\n",
       " ('information_schema',),\n",
       " ('my_database',),\n",
       " ('mysql',),\n",
       " ('performance_schema',),\n",
       " ('personal',),\n",
       " ('sales',),\n",
       " ('studentrecord',),\n",
       " ('sys',)]"
      ]
     },
     "execution_count": 40,
     "metadata": {},
     "output_type": "execute_result"
    }
   ],
   "source": [
    "cur.fetchall()"
   ]
  },
  {
   "cell_type": "code",
   "execution_count": 41,
   "id": "49a42cf2",
   "metadata": {},
   "outputs": [],
   "source": [
    "# Creating Table"
   ]
  },
  {
   "cell_type": "code",
   "execution_count": 42,
   "id": "4e4979c0",
   "metadata": {},
   "outputs": [],
   "source": [
    "mydb = connection.connect(host=\"localhost\",database=\"Abhishekdb\",user=\"root\",passwd=\"Abhishek@1067\",use_pure=True)"
   ]
  },
  {
   "cell_type": "code",
   "execution_count": 43,
   "id": "6f558e70",
   "metadata": {},
   "outputs": [
    {
     "data": {
      "text/plain": [
       "True"
      ]
     },
     "execution_count": 43,
     "metadata": {},
     "output_type": "execute_result"
    }
   ],
   "source": [
    "mydb.is_connected()"
   ]
  },
  {
   "cell_type": "code",
   "execution_count": 44,
   "id": "d2daf97c",
   "metadata": {},
   "outputs": [],
   "source": [
    "cur = mydb.cursor()\n",
    "cur.execute(\"create table Test(Roll_No INT(5), Name VARCHAR(20), BirhtDate DATE)\")"
   ]
  },
  {
   "cell_type": "code",
   "execution_count": 45,
   "id": "8d482cae",
   "metadata": {},
   "outputs": [],
   "source": [
    "# Inserting data into table"
   ]
  },
  {
   "cell_type": "code",
   "execution_count": 48,
   "id": "907c786b",
   "metadata": {},
   "outputs": [],
   "source": [
    "cur.execute(\"insert into test values(22, 'Abhishek', '1997-03-08')\")"
   ]
  },
  {
   "cell_type": "code",
   "execution_count": 49,
   "id": "f75e72de",
   "metadata": {},
   "outputs": [],
   "source": [
    "mydb.commit()"
   ]
  },
  {
   "cell_type": "code",
   "execution_count": 51,
   "id": "ad3253b0",
   "metadata": {},
   "outputs": [],
   "source": [
    "cur.execute(\"insert into test values(22, 'Abhishek', '1997-03-08')\")\n",
    "cur.execute(\"insert into test values(22, 'Abhishek', '1997-03-08')\")\n",
    "cur.execute(\"insert into test values(22, 'Abhishek', '1997-03-08')\")\n",
    "cur.execute(\"insert into test values(22, 'Abhishek', '1997-03-08')\")\n",
    "cur.execute(\"insert into test values(22, 'Abhishek', '1997-03-08')\")\n",
    "cur.execute(\"insert into test values(22, 'Abhishek', '1997-03-08')\")\n",
    "cur.execute(\"insert into test values(22, 'Abhishek', '1997-03-08')\")\n",
    "cur.execute(\"insert into test values(22, 'Abhishek', '1997-03-08')\")"
   ]
  },
  {
   "cell_type": "code",
   "execution_count": 52,
   "id": "1b0fd6d1",
   "metadata": {},
   "outputs": [],
   "source": [
    "mydb.commit()"
   ]
  },
  {
   "cell_type": "code",
   "execution_count": 53,
   "id": "35dbe57c",
   "metadata": {},
   "outputs": [],
   "source": [
    "# Selecting data from table"
   ]
  },
  {
   "cell_type": "code",
   "execution_count": 54,
   "id": "a43ab33a",
   "metadata": {},
   "outputs": [],
   "source": [
    "cur.execute(\"select * from test\")"
   ]
  },
  {
   "cell_type": "code",
   "execution_count": 55,
   "id": "a3d4a3ec",
   "metadata": {},
   "outputs": [
    {
     "data": {
      "text/plain": [
       "[(22, 'Abhishek', datetime.date(1997, 3, 8)),\n",
       " (22, 'Abhishek', datetime.date(1997, 3, 8)),\n",
       " (22, 'Abhishek', datetime.date(1997, 3, 8)),\n",
       " (22, 'Abhishek', datetime.date(1997, 3, 8)),\n",
       " (22, 'Abhishek', datetime.date(1997, 3, 8)),\n",
       " (22, 'Abhishek', datetime.date(1997, 3, 8)),\n",
       " (22, 'Abhishek', datetime.date(1997, 3, 8)),\n",
       " (22, 'Abhishek', datetime.date(1997, 3, 8)),\n",
       " (22, 'Abhishek', datetime.date(1997, 3, 8)),\n",
       " (22, 'Abhishek', datetime.date(1997, 3, 8)),\n",
       " (22, 'Abhishek', datetime.date(1997, 3, 8)),\n",
       " (22, 'Abhishek', datetime.date(1997, 3, 8))]"
      ]
     },
     "execution_count": 55,
     "metadata": {},
     "output_type": "execute_result"
    }
   ],
   "source": [
    "cur.fetchall()"
   ]
  },
  {
   "cell_type": "code",
   "execution_count": 59,
   "id": "d4a63b49",
   "metadata": {},
   "outputs": [],
   "source": [
    "cur.execute(\"select * from test\")"
   ]
  },
  {
   "cell_type": "code",
   "execution_count": 60,
   "id": "7af6f02b",
   "metadata": {},
   "outputs": [],
   "source": [
    "res = cur.fetchall()"
   ]
  },
  {
   "cell_type": "code",
   "execution_count": 64,
   "id": "e4d43fe0",
   "metadata": {},
   "outputs": [
    {
     "name": "stdout",
     "output_type": "stream",
     "text": [
      "(22, 'Abhishek', datetime.date(1997, 3, 8))\n",
      "(22, 'Abhishek', datetime.date(1997, 3, 8))\n",
      "(22, 'Abhishek', datetime.date(1997, 3, 8))\n",
      "(22, 'Abhishek', datetime.date(1997, 3, 8))\n",
      "(22, 'Abhishek', datetime.date(1997, 3, 8))\n",
      "(22, 'Abhishek', datetime.date(1997, 3, 8))\n",
      "(22, 'Abhishek', datetime.date(1997, 3, 8))\n",
      "(22, 'Abhishek', datetime.date(1997, 3, 8))\n",
      "(22, 'Abhishek', datetime.date(1997, 3, 8))\n",
      "(22, 'Abhishek', datetime.date(1997, 3, 8))\n",
      "(22, 'Abhishek', datetime.date(1997, 3, 8))\n",
      "(22, 'Abhishek', datetime.date(1997, 3, 8))\n"
     ]
    }
   ],
   "source": [
    "for i in res:\n",
    "    print(i)"
   ]
  },
  {
   "cell_type": "code",
   "execution_count": 63,
   "id": "3ac19137",
   "metadata": {},
   "outputs": [
    {
     "name": "stdout",
     "output_type": "stream",
     "text": [
      "Abhishek\n",
      "Abhishek\n",
      "Abhishek\n",
      "Abhishek\n",
      "Abhishek\n",
      "Abhishek\n",
      "Abhishek\n",
      "Abhishek\n",
      "Abhishek\n",
      "Abhishek\n",
      "Abhishek\n",
      "Abhishek\n"
     ]
    }
   ],
   "source": [
    "for i in res:\n",
    "    print(i[1])"
   ]
  },
  {
   "cell_type": "code",
   "execution_count": 65,
   "id": "e71826e8",
   "metadata": {},
   "outputs": [],
   "source": [
    "cur.execute(\"select Name, Roll_No from test\")"
   ]
  },
  {
   "cell_type": "code",
   "execution_count": 66,
   "id": "97e59329",
   "metadata": {},
   "outputs": [
    {
     "data": {
      "text/plain": [
       "[('Abhishek', 22),\n",
       " ('Abhishek', 22),\n",
       " ('Abhishek', 22),\n",
       " ('Abhishek', 22),\n",
       " ('Abhishek', 22),\n",
       " ('Abhishek', 22),\n",
       " ('Abhishek', 22),\n",
       " ('Abhishek', 22),\n",
       " ('Abhishek', 22),\n",
       " ('Abhishek', 22),\n",
       " ('Abhishek', 22),\n",
       " ('Abhishek', 22)]"
      ]
     },
     "execution_count": 66,
     "metadata": {},
     "output_type": "execute_result"
    }
   ],
   "source": [
    "cur.fetchall()"
   ]
  },
  {
   "cell_type": "code",
   "execution_count": 67,
   "id": "82697c5c",
   "metadata": {},
   "outputs": [],
   "source": [
    "# Using pandas extracting data from table"
   ]
  },
  {
   "cell_type": "code",
   "execution_count": 68,
   "id": "269e733a",
   "metadata": {},
   "outputs": [],
   "source": [
    "import pandas as pd"
   ]
  },
  {
   "cell_type": "code",
   "execution_count": 69,
   "id": "c96d2e5d",
   "metadata": {},
   "outputs": [
    {
     "data": {
      "text/plain": [
       "<mysql.connector.connection.MySQLConnection at 0x243bcd0f1c0>"
      ]
     },
     "execution_count": 69,
     "metadata": {},
     "output_type": "execute_result"
    }
   ],
   "source": [
    "mydb"
   ]
  },
  {
   "cell_type": "code",
   "execution_count": 72,
   "id": "b1cb3264",
   "metadata": {},
   "outputs": [
    {
     "data": {
      "text/html": [
       "<div>\n",
       "<style scoped>\n",
       "    .dataframe tbody tr th:only-of-type {\n",
       "        vertical-align: middle;\n",
       "    }\n",
       "\n",
       "    .dataframe tbody tr th {\n",
       "        vertical-align: top;\n",
       "    }\n",
       "\n",
       "    .dataframe thead th {\n",
       "        text-align: right;\n",
       "    }\n",
       "</style>\n",
       "<table border=\"1\" class=\"dataframe\">\n",
       "  <thead>\n",
       "    <tr style=\"text-align: right;\">\n",
       "      <th></th>\n",
       "      <th>Roll_No</th>\n",
       "      <th>Name</th>\n",
       "      <th>BirhtDate</th>\n",
       "    </tr>\n",
       "  </thead>\n",
       "  <tbody>\n",
       "    <tr>\n",
       "      <th>0</th>\n",
       "      <td>22</td>\n",
       "      <td>Abhishek</td>\n",
       "      <td>1997-03-08</td>\n",
       "    </tr>\n",
       "    <tr>\n",
       "      <th>1</th>\n",
       "      <td>22</td>\n",
       "      <td>Abhishek</td>\n",
       "      <td>1997-03-08</td>\n",
       "    </tr>\n",
       "    <tr>\n",
       "      <th>2</th>\n",
       "      <td>22</td>\n",
       "      <td>Abhishek</td>\n",
       "      <td>1997-03-08</td>\n",
       "    </tr>\n",
       "    <tr>\n",
       "      <th>3</th>\n",
       "      <td>22</td>\n",
       "      <td>Abhishek</td>\n",
       "      <td>1997-03-08</td>\n",
       "    </tr>\n",
       "    <tr>\n",
       "      <th>4</th>\n",
       "      <td>22</td>\n",
       "      <td>Abhishek</td>\n",
       "      <td>1997-03-08</td>\n",
       "    </tr>\n",
       "    <tr>\n",
       "      <th>5</th>\n",
       "      <td>22</td>\n",
       "      <td>Abhishek</td>\n",
       "      <td>1997-03-08</td>\n",
       "    </tr>\n",
       "    <tr>\n",
       "      <th>6</th>\n",
       "      <td>22</td>\n",
       "      <td>Abhishek</td>\n",
       "      <td>1997-03-08</td>\n",
       "    </tr>\n",
       "    <tr>\n",
       "      <th>7</th>\n",
       "      <td>22</td>\n",
       "      <td>Abhishek</td>\n",
       "      <td>1997-03-08</td>\n",
       "    </tr>\n",
       "    <tr>\n",
       "      <th>8</th>\n",
       "      <td>22</td>\n",
       "      <td>Abhishek</td>\n",
       "      <td>1997-03-08</td>\n",
       "    </tr>\n",
       "    <tr>\n",
       "      <th>9</th>\n",
       "      <td>22</td>\n",
       "      <td>Abhishek</td>\n",
       "      <td>1997-03-08</td>\n",
       "    </tr>\n",
       "    <tr>\n",
       "      <th>10</th>\n",
       "      <td>22</td>\n",
       "      <td>Abhishek</td>\n",
       "      <td>1997-03-08</td>\n",
       "    </tr>\n",
       "    <tr>\n",
       "      <th>11</th>\n",
       "      <td>22</td>\n",
       "      <td>Abhishek</td>\n",
       "      <td>1997-03-08</td>\n",
       "    </tr>\n",
       "  </tbody>\n",
       "</table>\n",
       "</div>"
      ],
      "text/plain": [
       "    Roll_No      Name   BirhtDate\n",
       "0        22  Abhishek  1997-03-08\n",
       "1        22  Abhishek  1997-03-08\n",
       "2        22  Abhishek  1997-03-08\n",
       "3        22  Abhishek  1997-03-08\n",
       "4        22  Abhishek  1997-03-08\n",
       "5        22  Abhishek  1997-03-08\n",
       "6        22  Abhishek  1997-03-08\n",
       "7        22  Abhishek  1997-03-08\n",
       "8        22  Abhishek  1997-03-08\n",
       "9        22  Abhishek  1997-03-08\n",
       "10       22  Abhishek  1997-03-08\n",
       "11       22  Abhishek  1997-03-08"
      ]
     },
     "execution_count": 72,
     "metadata": {},
     "output_type": "execute_result"
    }
   ],
   "source": [
    "pd.read_sql(\"select * from Abhishekdb.test\",mydb)"
   ]
  },
  {
   "cell_type": "code",
   "execution_count": 77,
   "id": "21653f23",
   "metadata": {},
   "outputs": [
    {
     "data": {
      "text/html": [
       "<div>\n",
       "<style scoped>\n",
       "    .dataframe tbody tr th:only-of-type {\n",
       "        vertical-align: middle;\n",
       "    }\n",
       "\n",
       "    .dataframe tbody tr th {\n",
       "        vertical-align: top;\n",
       "    }\n",
       "\n",
       "    .dataframe thead th {\n",
       "        text-align: right;\n",
       "    }\n",
       "</style>\n",
       "<table border=\"1\" class=\"dataframe\">\n",
       "  <thead>\n",
       "    <tr style=\"text-align: right;\">\n",
       "      <th></th>\n",
       "      <th>Name</th>\n",
       "      <th>Date_of_Birth</th>\n",
       "    </tr>\n",
       "  </thead>\n",
       "  <tbody>\n",
       "    <tr>\n",
       "      <th>0</th>\n",
       "      <td>Abhishek</td>\n",
       "      <td>1997-03-08</td>\n",
       "    </tr>\n",
       "    <tr>\n",
       "      <th>1</th>\n",
       "      <td>Abhishek</td>\n",
       "      <td>1997-03-08</td>\n",
       "    </tr>\n",
       "    <tr>\n",
       "      <th>2</th>\n",
       "      <td>Abhishek</td>\n",
       "      <td>1997-03-08</td>\n",
       "    </tr>\n",
       "    <tr>\n",
       "      <th>3</th>\n",
       "      <td>Abhishek</td>\n",
       "      <td>1997-03-08</td>\n",
       "    </tr>\n",
       "    <tr>\n",
       "      <th>4</th>\n",
       "      <td>Abhishek</td>\n",
       "      <td>1997-03-08</td>\n",
       "    </tr>\n",
       "    <tr>\n",
       "      <th>5</th>\n",
       "      <td>Abhishek</td>\n",
       "      <td>1997-03-08</td>\n",
       "    </tr>\n",
       "    <tr>\n",
       "      <th>6</th>\n",
       "      <td>Abhishek</td>\n",
       "      <td>1997-03-08</td>\n",
       "    </tr>\n",
       "    <tr>\n",
       "      <th>7</th>\n",
       "      <td>Abhishek</td>\n",
       "      <td>1997-03-08</td>\n",
       "    </tr>\n",
       "    <tr>\n",
       "      <th>8</th>\n",
       "      <td>Abhishek</td>\n",
       "      <td>1997-03-08</td>\n",
       "    </tr>\n",
       "    <tr>\n",
       "      <th>9</th>\n",
       "      <td>Abhishek</td>\n",
       "      <td>1997-03-08</td>\n",
       "    </tr>\n",
       "    <tr>\n",
       "      <th>10</th>\n",
       "      <td>Abhishek</td>\n",
       "      <td>1997-03-08</td>\n",
       "    </tr>\n",
       "    <tr>\n",
       "      <th>11</th>\n",
       "      <td>Abhishek</td>\n",
       "      <td>1997-03-08</td>\n",
       "    </tr>\n",
       "  </tbody>\n",
       "</table>\n",
       "</div>"
      ],
      "text/plain": [
       "        Name Date_of_Birth\n",
       "0   Abhishek    1997-03-08\n",
       "1   Abhishek    1997-03-08\n",
       "2   Abhishek    1997-03-08\n",
       "3   Abhishek    1997-03-08\n",
       "4   Abhishek    1997-03-08\n",
       "5   Abhishek    1997-03-08\n",
       "6   Abhishek    1997-03-08\n",
       "7   Abhishek    1997-03-08\n",
       "8   Abhishek    1997-03-08\n",
       "9   Abhishek    1997-03-08\n",
       "10  Abhishek    1997-03-08\n",
       "11  Abhishek    1997-03-08"
      ]
     },
     "execution_count": 77,
     "metadata": {},
     "output_type": "execute_result"
    }
   ],
   "source": [
    "pd.read_sql(\"select Name,BirhtDate Date_of_Birth from Abhishekdb.test\",mydb)"
   ]
  },
  {
   "cell_type": "code",
   "execution_count": 78,
   "id": "028b8bd3",
   "metadata": {},
   "outputs": [],
   "source": [
    "a = pd.read_sql(\"select Name,BirhtDate Date_of_Birth from Abhishekdb.test\",mydb)"
   ]
  },
  {
   "cell_type": "code",
   "execution_count": 79,
   "id": "b656b015",
   "metadata": {},
   "outputs": [
    {
     "data": {
      "text/html": [
       "<div>\n",
       "<style scoped>\n",
       "    .dataframe tbody tr th:only-of-type {\n",
       "        vertical-align: middle;\n",
       "    }\n",
       "\n",
       "    .dataframe tbody tr th {\n",
       "        vertical-align: top;\n",
       "    }\n",
       "\n",
       "    .dataframe thead th {\n",
       "        text-align: right;\n",
       "    }\n",
       "</style>\n",
       "<table border=\"1\" class=\"dataframe\">\n",
       "  <thead>\n",
       "    <tr style=\"text-align: right;\">\n",
       "      <th></th>\n",
       "      <th>Name</th>\n",
       "      <th>Date_of_Birth</th>\n",
       "    </tr>\n",
       "  </thead>\n",
       "  <tbody>\n",
       "    <tr>\n",
       "      <th>0</th>\n",
       "      <td>Abhishek</td>\n",
       "      <td>1997-03-08</td>\n",
       "    </tr>\n",
       "    <tr>\n",
       "      <th>1</th>\n",
       "      <td>Abhishek</td>\n",
       "      <td>1997-03-08</td>\n",
       "    </tr>\n",
       "    <tr>\n",
       "      <th>2</th>\n",
       "      <td>Abhishek</td>\n",
       "      <td>1997-03-08</td>\n",
       "    </tr>\n",
       "    <tr>\n",
       "      <th>3</th>\n",
       "      <td>Abhishek</td>\n",
       "      <td>1997-03-08</td>\n",
       "    </tr>\n",
       "    <tr>\n",
       "      <th>4</th>\n",
       "      <td>Abhishek</td>\n",
       "      <td>1997-03-08</td>\n",
       "    </tr>\n",
       "    <tr>\n",
       "      <th>5</th>\n",
       "      <td>Abhishek</td>\n",
       "      <td>1997-03-08</td>\n",
       "    </tr>\n",
       "    <tr>\n",
       "      <th>6</th>\n",
       "      <td>Abhishek</td>\n",
       "      <td>1997-03-08</td>\n",
       "    </tr>\n",
       "    <tr>\n",
       "      <th>7</th>\n",
       "      <td>Abhishek</td>\n",
       "      <td>1997-03-08</td>\n",
       "    </tr>\n",
       "    <tr>\n",
       "      <th>8</th>\n",
       "      <td>Abhishek</td>\n",
       "      <td>1997-03-08</td>\n",
       "    </tr>\n",
       "    <tr>\n",
       "      <th>9</th>\n",
       "      <td>Abhishek</td>\n",
       "      <td>1997-03-08</td>\n",
       "    </tr>\n",
       "    <tr>\n",
       "      <th>10</th>\n",
       "      <td>Abhishek</td>\n",
       "      <td>1997-03-08</td>\n",
       "    </tr>\n",
       "    <tr>\n",
       "      <th>11</th>\n",
       "      <td>Abhishek</td>\n",
       "      <td>1997-03-08</td>\n",
       "    </tr>\n",
       "  </tbody>\n",
       "</table>\n",
       "</div>"
      ],
      "text/plain": [
       "        Name Date_of_Birth\n",
       "0   Abhishek    1997-03-08\n",
       "1   Abhishek    1997-03-08\n",
       "2   Abhishek    1997-03-08\n",
       "3   Abhishek    1997-03-08\n",
       "4   Abhishek    1997-03-08\n",
       "5   Abhishek    1997-03-08\n",
       "6   Abhishek    1997-03-08\n",
       "7   Abhishek    1997-03-08\n",
       "8   Abhishek    1997-03-08\n",
       "9   Abhishek    1997-03-08\n",
       "10  Abhishek    1997-03-08\n",
       "11  Abhishek    1997-03-08"
      ]
     },
     "execution_count": 79,
     "metadata": {},
     "output_type": "execute_result"
    }
   ],
   "source": [
    "a"
   ]
  },
  {
   "cell_type": "code",
   "execution_count": 80,
   "id": "c8a713fe",
   "metadata": {},
   "outputs": [],
   "source": [
    "a.to_csv(\"MyFirstSQLfile.csv\")"
   ]
  },
  {
   "cell_type": "code",
   "execution_count": 82,
   "id": "0768bff5",
   "metadata": {},
   "outputs": [],
   "source": [
    "data = pd.read_csv(\"MyFirstSQLfile.csv\")"
   ]
  },
  {
   "cell_type": "code",
   "execution_count": 87,
   "id": "daab7ac5",
   "metadata": {},
   "outputs": [
    {
     "data": {
      "text/html": [
       "<div>\n",
       "<style scoped>\n",
       "    .dataframe tbody tr th:only-of-type {\n",
       "        vertical-align: middle;\n",
       "    }\n",
       "\n",
       "    .dataframe tbody tr th {\n",
       "        vertical-align: top;\n",
       "    }\n",
       "\n",
       "    .dataframe thead th {\n",
       "        text-align: right;\n",
       "    }\n",
       "</style>\n",
       "<table border=\"1\" class=\"dataframe\">\n",
       "  <thead>\n",
       "    <tr style=\"text-align: right;\">\n",
       "      <th></th>\n",
       "      <th>Unnamed: 0</th>\n",
       "      <th>Name</th>\n",
       "      <th>Date_of_Birth</th>\n",
       "    </tr>\n",
       "  </thead>\n",
       "  <tbody>\n",
       "    <tr>\n",
       "      <th>0</th>\n",
       "      <td>0</td>\n",
       "      <td>Abhishek</td>\n",
       "      <td>1997-03-08</td>\n",
       "    </tr>\n",
       "    <tr>\n",
       "      <th>1</th>\n",
       "      <td>1</td>\n",
       "      <td>Abhishek</td>\n",
       "      <td>1997-03-08</td>\n",
       "    </tr>\n",
       "    <tr>\n",
       "      <th>2</th>\n",
       "      <td>2</td>\n",
       "      <td>Abhishek</td>\n",
       "      <td>1997-03-08</td>\n",
       "    </tr>\n",
       "    <tr>\n",
       "      <th>3</th>\n",
       "      <td>3</td>\n",
       "      <td>Abhishek</td>\n",
       "      <td>1997-03-08</td>\n",
       "    </tr>\n",
       "    <tr>\n",
       "      <th>4</th>\n",
       "      <td>4</td>\n",
       "      <td>Abhishek</td>\n",
       "      <td>1997-03-08</td>\n",
       "    </tr>\n",
       "    <tr>\n",
       "      <th>5</th>\n",
       "      <td>5</td>\n",
       "      <td>Abhishek</td>\n",
       "      <td>1997-03-08</td>\n",
       "    </tr>\n",
       "    <tr>\n",
       "      <th>6</th>\n",
       "      <td>6</td>\n",
       "      <td>Abhishek</td>\n",
       "      <td>1997-03-08</td>\n",
       "    </tr>\n",
       "    <tr>\n",
       "      <th>7</th>\n",
       "      <td>7</td>\n",
       "      <td>Abhishek</td>\n",
       "      <td>1997-03-08</td>\n",
       "    </tr>\n",
       "    <tr>\n",
       "      <th>8</th>\n",
       "      <td>8</td>\n",
       "      <td>Abhishek</td>\n",
       "      <td>1997-03-08</td>\n",
       "    </tr>\n",
       "    <tr>\n",
       "      <th>9</th>\n",
       "      <td>9</td>\n",
       "      <td>Abhishek</td>\n",
       "      <td>1997-03-08</td>\n",
       "    </tr>\n",
       "    <tr>\n",
       "      <th>10</th>\n",
       "      <td>10</td>\n",
       "      <td>Abhishek</td>\n",
       "      <td>1997-03-08</td>\n",
       "    </tr>\n",
       "    <tr>\n",
       "      <th>11</th>\n",
       "      <td>11</td>\n",
       "      <td>Abhishek</td>\n",
       "      <td>1997-03-08</td>\n",
       "    </tr>\n",
       "  </tbody>\n",
       "</table>\n",
       "</div>"
      ],
      "text/plain": [
       "    Unnamed: 0      Name Date_of_Birth\n",
       "0            0  Abhishek    1997-03-08\n",
       "1            1  Abhishek    1997-03-08\n",
       "2            2  Abhishek    1997-03-08\n",
       "3            3  Abhishek    1997-03-08\n",
       "4            4  Abhishek    1997-03-08\n",
       "5            5  Abhishek    1997-03-08\n",
       "6            6  Abhishek    1997-03-08\n",
       "7            7  Abhishek    1997-03-08\n",
       "8            8  Abhishek    1997-03-08\n",
       "9            9  Abhishek    1997-03-08\n",
       "10          10  Abhishek    1997-03-08\n",
       "11          11  Abhishek    1997-03-08"
      ]
     },
     "execution_count": 87,
     "metadata": {},
     "output_type": "execute_result"
    }
   ],
   "source": [
    "data"
   ]
  },
  {
   "cell_type": "code",
   "execution_count": 94,
   "id": "6ee788b5",
   "metadata": {},
   "outputs": [],
   "source": [
    "# data in the current directory\n"
   ]
  },
  {
   "cell_type": "code",
   "execution_count": 95,
   "id": "02d6e4e6",
   "metadata": {},
   "outputs": [
    {
     "name": "stdout",
     "output_type": "stream",
     "text": [
      " Volume in drive C has no label.\n",
      " Volume Serial Number is 1A7E-3A40\n",
      "\n",
      " Directory of C:\\Users\\Abhishek Kashyap\n",
      "\n",
      "08-06-2022  01:56    <DIR>          .\n",
      "08-06-2022  01:56    <DIR>          ..\n",
      "05-06-2022  17:47    <DIR>          .astropy\n",
      "04-06-2022  02:00             1,649 .bash_history\n",
      "21-05-2022  01:07    <DIR>          .conda\n",
      "26-02-2022  15:41                25 .condarc\n",
      "26-02-2022  15:40    <DIR>          .continuum\n",
      "03-06-2022  01:29                69 .gitconfig\n",
      "08-06-2022  00:00    <DIR>          .ipynb_checkpoints\n",
      "24-02-2022  01:44    <DIR>          .ipython\n",
      "26-02-2022  03:31    <DIR>          .jupyter\n",
      "26-05-2022  02:27    <DIR>          .matplotlib\n",
      "19-04-2022  17:18    <DIR>          .spss\n",
      "03-06-2022  01:36    <DIR>          .ssh\n",
      "21-02-2022  23:26    <DIR>          .vscode\n",
      "21-02-2022  23:53    <DIR>          3D Objects\n",
      "17-03-2022  00:08    <DIR>          anaconda3\n",
      "28-02-2022  19:55            82,021 Car_Fuel.ipynb\n",
      "21-02-2022  23:53    <DIR>          Contacts\n",
      "05-06-2022  12:13    <DIR>          Desktop\n",
      "03-06-2022  01:00    <DIR>          Documents\n",
      "07-06-2022  02:25    <DIR>          Downloads\n",
      "21-02-2022  23:53    <DIR>          Favorites\n",
      "16-03-2022  22:47            35,387 Fraud Detection.ipynb\n",
      "16-03-2022  21:53         7,637,714 fresh_sample.csv\n",
      "05-06-2022  17:04             4,168 ineuron class 05-06-2022.ipynb\n",
      "28-05-2022  18:42             7,297 ineuron class 28-05-2022.ipynb\n",
      "29-05-2022  17:59             7,088 ineuron class 29-05-2022.ipynb\n",
      "08-06-2022  01:56            29,265 ineuron database Class.ipynb\n",
      "29-05-2022  14:38            10,101 ineuron_Task No - 3.ipynb\n",
      "27-02-2022  03:01            35,004 Iris_dataset Practice.ipynb\n",
      "21-02-2022  23:53    <DIR>          Links\n",
      "26-05-2022  23:25    <DIR>          Microsoft\n",
      "21-02-2022  23:53    <DIR>          Music\n",
      "25-03-2022  22:03           664,295 my_submission_file.csv\n",
      "08-06-2022  01:42               299 MyFirstSQLfile.csv\n",
      "07-06-2022  12:01    <DIR>          OneDrive\n",
      "27-04-2022  15:09    <DIR>          Pictures\n",
      "02-04-2022  17:19             3,171 Practice in data science Notebook.ipynb\n",
      "07-06-2022  12:14    <DIR>          PycharmProjects\n",
      "17-03-2022  01:03            59,458 sample_fraud_detection.ipynb\n",
      "21-02-2022  23:53    <DIR>          Saved Games\n",
      "21-02-2022  23:55    <DIR>          Searches\n",
      "21-03-2022  02:51        16,795,170 sub_file.csv\n",
      "25-03-2022  22:04           152,249 Swiss Re Predict Accident Risk Score.ipynb\n",
      "21-03-2022  03:22            33,042 Swisss Re Test File.ipynb\n",
      "03-06-2022  20:14            14,155 Task No - 1  and 2 Solution.ipynb\n",
      "23-04-2022  10:27    <DIR>          Tracing\n",
      "02-03-2022  14:12    <DIR>          Videos\n",
      "              20 File(s)     25,571,627 bytes\n",
      "              29 Dir(s)  114,251,005,952 bytes free\n"
     ]
    }
   ],
   "source": [
    "ls"
   ]
  },
  {
   "cell_type": "code",
   "execution_count": null,
   "id": "c2caec0f",
   "metadata": {},
   "outputs": [],
   "source": []
  }
 ],
 "metadata": {
  "kernelspec": {
   "display_name": "Python 3",
   "language": "python",
   "name": "python3"
  },
  "language_info": {
   "codemirror_mode": {
    "name": "ipython",
    "version": 3
   },
   "file_extension": ".py",
   "mimetype": "text/x-python",
   "name": "python",
   "nbconvert_exporter": "python",
   "pygments_lexer": "ipython3",
   "version": "3.8.8"
  }
 },
 "nbformat": 4,
 "nbformat_minor": 5
}

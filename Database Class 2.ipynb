{
 "cells": [
  {
   "cell_type": "code",
   "execution_count": 1,
   "id": "e4e91a90",
   "metadata": {},
   "outputs": [],
   "source": [
    "import mysql.connector as connection"
   ]
  },
  {
   "cell_type": "code",
   "execution_count": 2,
   "id": "3cdc899e",
   "metadata": {},
   "outputs": [],
   "source": [
    "mydb = connection.connect(host=\"localhost\",user=\"root\",passwd=\"Abhishek@1067\",use_pure=True)"
   ]
  },
  {
   "cell_type": "code",
   "execution_count": 3,
   "id": "7e351b70",
   "metadata": {},
   "outputs": [
    {
     "data": {
      "text/plain": [
       "True"
      ]
     },
     "execution_count": 3,
     "metadata": {},
     "output_type": "execute_result"
    }
   ],
   "source": [
    "mydb.is_connected()"
   ]
  },
  {
   "cell_type": "code",
   "execution_count": null,
   "id": "9fe4840e",
   "metadata": {},
   "outputs": [],
   "source": []
  },
  {
   "cell_type": "code",
   "execution_count": null,
   "id": "670f7f81",
   "metadata": {},
   "outputs": [],
   "source": []
  },
  {
   "cell_type": "code",
   "execution_count": 37,
   "id": "5d4297b4",
   "metadata": {},
   "outputs": [],
   "source": [
    "import mysql.connector as connection"
   ]
  },
  {
   "cell_type": "code",
   "execution_count": 38,
   "id": "d7f1f19f",
   "metadata": {},
   "outputs": [],
   "source": [
    "mydb = connection.connect(host=\"localhost\",database=\"Abhishekdb\",user=\"root\",passwd=\"Abhishek@1067\",use_pure=True)"
   ]
  },
  {
   "cell_type": "code",
   "execution_count": 49,
   "id": "adf0a620",
   "metadata": {},
   "outputs": [
    {
     "data": {
      "text/plain": [
       "True"
      ]
     },
     "execution_count": 49,
     "metadata": {},
     "output_type": "execute_result"
    }
   ],
   "source": [
    "mydb.is_connected()"
   ]
  },
  {
   "cell_type": "code",
   "execution_count": 40,
   "id": "993bd3e1",
   "metadata": {},
   "outputs": [],
   "source": [
    "cur = mydb.cursor()"
   ]
  },
  {
   "cell_type": "code",
   "execution_count": 41,
   "id": "6cdcc168",
   "metadata": {},
   "outputs": [
    {
     "data": {
      "text/plain": [
       "<mysql.connector.connection.MySQLConnection at 0x2a7a0c4bd30>"
      ]
     },
     "execution_count": 41,
     "metadata": {},
     "output_type": "execute_result"
    }
   ],
   "source": [
    "mydb"
   ]
  },
  {
   "cell_type": "code",
   "execution_count": 42,
   "id": "ca4a4aee",
   "metadata": {
    "scrolled": true
   },
   "outputs": [],
   "source": [
    "#cur.execute(\"UPDATE test SET birhtdate = '2000-10-11' where Roll_No=22\")"
   ]
  },
  {
   "cell_type": "code",
   "execution_count": 43,
   "id": "b0d774e9",
   "metadata": {},
   "outputs": [],
   "source": [
    "mydb.commit()"
   ]
  },
  {
   "cell_type": "code",
   "execution_count": 44,
   "id": "353397c3",
   "metadata": {},
   "outputs": [],
   "source": [
    "cur.execute(\"select * from test\")"
   ]
  },
  {
   "cell_type": "code",
   "execution_count": 45,
   "id": "85dd5ccd",
   "metadata": {},
   "outputs": [
    {
     "data": {
      "text/plain": [
       "[(22, 'Abhishek', datetime.date(1997, 3, 8)),\n",
       " (22, 'Abhishek', datetime.date(1997, 3, 8)),\n",
       " (22, 'Abhishek', datetime.date(1997, 3, 8)),\n",
       " (22, 'Abhishek', datetime.date(1997, 3, 8)),\n",
       " (22, 'Abhishek', datetime.date(1997, 3, 8)),\n",
       " (22, 'Abhishek', datetime.date(1997, 3, 8)),\n",
       " (22, 'Abhishek', datetime.date(1997, 3, 8)),\n",
       " (22, 'Abhishek', datetime.date(1997, 3, 8)),\n",
       " (22, 'Abhishek', datetime.date(1997, 3, 8)),\n",
       " (22, 'Abhishek', datetime.date(1997, 3, 8)),\n",
       " (22, 'Abhishek', datetime.date(1997, 3, 8)),\n",
       " (22, 'Abhishek', datetime.date(1997, 3, 8))]"
      ]
     },
     "execution_count": 45,
     "metadata": {},
     "output_type": "execute_result"
    }
   ],
   "source": [
    "cur.fetchall()"
   ]
  },
  {
   "cell_type": "code",
   "execution_count": 50,
   "id": "6791a04d",
   "metadata": {},
   "outputs": [
    {
     "data": {
      "text/plain": [
       "True"
      ]
     },
     "execution_count": 50,
     "metadata": {},
     "output_type": "execute_result"
    }
   ],
   "source": [
    "mydb.is_connected()"
   ]
  },
  {
   "cell_type": "code",
   "execution_count": 51,
   "id": "644f2a6e",
   "metadata": {},
   "outputs": [],
   "source": [
    "cur.execute(\"SET GLOBAL connect_timeout=6000\")"
   ]
  },
  {
   "cell_type": "code",
   "execution_count": 53,
   "id": "5f597fbc",
   "metadata": {},
   "outputs": [],
   "source": [
    "cur.execute(\"select count('Abhishek') from abhishekdb.test group by Name\")"
   ]
  },
  {
   "cell_type": "code",
   "execution_count": 54,
   "id": "e4f67179",
   "metadata": {},
   "outputs": [
    {
     "data": {
      "text/plain": [
       "[(12,)]"
      ]
     },
     "execution_count": 54,
     "metadata": {},
     "output_type": "execute_result"
    }
   ],
   "source": [
    "cur.fetchall()"
   ]
  },
  {
   "cell_type": "code",
   "execution_count": null,
   "id": "d10ca092",
   "metadata": {},
   "outputs": [],
   "source": []
  }
 ],
 "metadata": {
  "kernelspec": {
   "display_name": "Python 3",
   "language": "python",
   "name": "python3"
  },
  "language_info": {
   "codemirror_mode": {
    "name": "ipython",
    "version": 3
   },
   "file_extension": ".py",
   "mimetype": "text/x-python",
   "name": "python",
   "nbconvert_exporter": "python",
   "pygments_lexer": "ipython3",
   "version": "3.8.8"
  }
 },
 "nbformat": 4,
 "nbformat_minor": 5
}

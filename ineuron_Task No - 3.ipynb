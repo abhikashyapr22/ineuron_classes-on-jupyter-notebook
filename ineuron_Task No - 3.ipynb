{
 "cells": [
  {
   "cell_type": "code",
   "execution_count": null,
   "id": "fa52c405",
   "metadata": {},
   "outputs": [],
   "source": [
    "l = [[1,2,3,4],(2,3,4,5,6),(3,4,5,6,7),set([23,4,5,45,4,4,5,45,45,4,5]),{'k1':'sudh','k2':'ineuron','k3':'kumar',3:6,7:8},\n",
    "     ['ineuron','data science']]"
   ]
  },
  {
   "cell_type": "code",
   "execution_count": null,
   "id": "4fa22444",
   "metadata": {},
   "outputs": [],
   "source": [
    "# q3: try to extract all the list entity \n",
    "# q4: try to extract all the dict entity \n",
    "# q5: try to extract all the tuples entities \n",
    "# q6: try to extract all the numerical data it may be a part of dict key and values \n",
    "# q7: try to give summation of all the numeric data \n",
    "# q8: try to filter out all the odd values of all the numeric data which is a part of a list \n",
    "# q9: try to extract 'ineuron' out of this data \n",
    "# q10: try to find out a number of occurances of all the data \n",
    "# q11: try to find out number of keys in dict element \n",
    "# q12: try to filter out all the string data \n",
    "# q13: try to find out alphanum in the data \n",
    "# q14: try to find out the multiplication of all the numeric value in the individual collection inside dataset \n",
    "# q15: try to unwrap all the collection inside collection and create a flat list"
   ]
  },
  {
   "cell_type": "code",
   "execution_count": 58,
   "id": "0b541872",
   "metadata": {},
   "outputs": [
    {
     "name": "stdout",
     "output_type": "stream",
     "text": [
      "[1, 2, 3, 4]\n",
      "['ineuron', 'data science']\n"
     ]
    }
   ],
   "source": [
    "# Answers q3\n",
    "for i in l:\n",
    "    if type(i)==list:\n",
    "            print(i)"
   ]
  },
  {
   "cell_type": "code",
   "execution_count": 59,
   "id": "82a8ab4a",
   "metadata": {},
   "outputs": [],
   "source": [
    "# s = set([1,2,3,3,4,56])\n",
    "\n",
    "# for i in s:\n",
    "#     print(i)"
   ]
  },
  {
   "cell_type": "code",
   "execution_count": 60,
   "id": "8bc05fca",
   "metadata": {},
   "outputs": [
    {
     "name": "stdout",
     "output_type": "stream",
     "text": [
      "{'k1': 'sudh', 'k2': 'ineuron', 'k3': 'kumar', 3: 6, 7: 8}\n"
     ]
    }
   ],
   "source": [
    "# Answers q4\n",
    "for i in l:\n",
    "    if type(i)==dict:\n",
    "            print(i)"
   ]
  },
  {
   "cell_type": "code",
   "execution_count": 61,
   "id": "64ac41af",
   "metadata": {},
   "outputs": [
    {
     "name": "stdout",
     "output_type": "stream",
     "text": [
      "(2, 3, 4, 5, 6)\n",
      "(3, 4, 5, 6, 7)\n"
     ]
    }
   ],
   "source": [
    "# Answers q5\n",
    "for i in l:\n",
    "    if type(i)==tuple:\n",
    "            print(i)"
   ]
  },
  {
   "cell_type": "code",
   "execution_count": 62,
   "id": "cd370e2b",
   "metadata": {},
   "outputs": [
    {
     "data": {
      "text/plain": [
       "[[1, 2, 3, 4],\n",
       " (2, 3, 4, 5, 6),\n",
       " (3, 4, 5, 6, 7),\n",
       " {4, 5, 23, 45},\n",
       " {'k1': 'sudh', 'k2': 'ineuron', 'k3': 'kumar', 3: 6, 7: 8},\n",
       " ['ineuron', 'data science']]"
      ]
     },
     "execution_count": 62,
     "metadata": {},
     "output_type": "execute_result"
    }
   ],
   "source": [
    "l"
   ]
  },
  {
   "cell_type": "code",
   "execution_count": 63,
   "id": "47b0ea37",
   "metadata": {},
   "outputs": [
    {
     "data": {
      "text/plain": [
       "[1, 2, 3, 4, 2, 3, 4, 5, 6, 3, 4, 5, 6, 7, 45, 4, 5, 23, 3, 6, 7, 8]"
      ]
     },
     "execution_count": 63,
     "metadata": {},
     "output_type": "execute_result"
    }
   ],
   "source": [
    "# answer q6\n",
    "\n",
    "num = []\n",
    "for i in l:\n",
    "    for j in i:\n",
    "        if type(j)==int or type(j)==float:\n",
    "            num.append(j)\n",
    "            if type(i)==dict and type(i[j])==int:\n",
    "                num.append(i[j])\n",
    "                    \n",
    "num"
   ]
  },
  {
   "cell_type": "code",
   "execution_count": 64,
   "id": "c033c126",
   "metadata": {},
   "outputs": [],
   "source": [
    "# d = [[2,3,4],{'k1':'sudh','k2':'ineuron','k3':'kumar',3:6,7:8}]"
   ]
  },
  {
   "cell_type": "code",
   "execution_count": 65,
   "id": "be45ea89",
   "metadata": {},
   "outputs": [],
   "source": [
    "# for i in d:\n",
    "#     for j in i:\n",
    "#         if type(i)==dict: # and i[j]==int:\n",
    "#             print(i[j])\n",
    "    "
   ]
  },
  {
   "cell_type": "code",
   "execution_count": 66,
   "id": "406984db",
   "metadata": {},
   "outputs": [
    {
     "name": "stdout",
     "output_type": "stream",
     "text": [
      "156\n"
     ]
    }
   ],
   "source": [
    "# answer q7\n",
    "\n",
    "sum = 0\n",
    "for i in num:       # num list of all numerical data from q6\n",
    "    sum += i\n",
    "print(sum)"
   ]
  },
  {
   "cell_type": "code",
   "execution_count": 67,
   "id": "aecdda12",
   "metadata": {},
   "outputs": [
    {
     "name": "stdout",
     "output_type": "stream",
     "text": [
      "1 3 "
     ]
    }
   ],
   "source": [
    "# answer q8\n",
    "\n",
    "for i in l:\n",
    "    if type(i)==list:\n",
    "        for j in i:\n",
    "            if type(j)==int:\n",
    "                if j%2 != 0:\n",
    "                    print(j,end=' ')"
   ]
  },
  {
   "cell_type": "code",
   "execution_count": 68,
   "id": "c5fcbc1f",
   "metadata": {},
   "outputs": [
    {
     "name": "stdout",
     "output_type": "stream",
     "text": [
      "ineuron\n",
      "ineuron\n"
     ]
    }
   ],
   "source": [
    "# answer q9\n",
    "\n",
    "for i in l:\n",
    "    for j in i:\n",
    "        if type(i)==list:\n",
    "            if j == 'ineuron':\n",
    "                print(j)\n",
    "                \n",
    "        if type(i)==dict:\n",
    "            if i[j]=='ineuron':\n",
    "                print(i[j]) "
   ]
  },
  {
   "cell_type": "code",
   "execution_count": 69,
   "id": "cfa4f3fe",
   "metadata": {},
   "outputs": [
    {
     "name": "stdout",
     "output_type": "stream",
     "text": [
      "1 : 1\n",
      "2 : 2\n",
      "3 : 4\n",
      "4 : 4\n",
      "2 : 2\n",
      "3 : 4\n",
      "4 : 4\n",
      "5 : 3\n",
      "6 : 3\n",
      "3 : 4\n",
      "4 : 4\n",
      "5 : 3\n",
      "6 : 3\n",
      "7 : 2\n",
      "45 : 1\n",
      "4 : 4\n",
      "5 : 3\n",
      "23 : 1\n",
      "k1 : 1\n",
      "sudh : 1\n",
      "k2 : 1\n",
      "ineuron : 2\n",
      "k3 : 1\n",
      "kumar : 1\n",
      "3 : 4\n",
      "6 : 3\n",
      "7 : 2\n",
      "8 : 1\n",
      "ineuron : 2\n",
      "data science : 1\n"
     ]
    }
   ],
   "source": [
    "# answer q10\n",
    "\n",
    "li = []\n",
    "for i in l:\n",
    "    for j in i:\n",
    "        li.append(j)\n",
    "        if type(i)==dict:\n",
    "            li.append(i[j])\n",
    "            \n",
    "for i in li:\n",
    "    print(i,':',li.count(i))"
   ]
  },
  {
   "cell_type": "code",
   "execution_count": 70,
   "id": "052748cd",
   "metadata": {},
   "outputs": [
    {
     "name": "stdout",
     "output_type": "stream",
     "text": [
      "5\n"
     ]
    }
   ],
   "source": [
    "# answer 11\n",
    "\n",
    "for i in l:\n",
    "    if type(i)==dict:\n",
    "        print(len(list(i.keys())))"
   ]
  },
  {
   "cell_type": "code",
   "execution_count": 71,
   "id": "77f68b57",
   "metadata": {},
   "outputs": [
    {
     "name": "stdout",
     "output_type": "stream",
     "text": [
      "k1 sudh k2 ineuron k3 kumar ineuron data science "
     ]
    }
   ],
   "source": [
    "# answer q12\n",
    "\n",
    "for i in li:     # li from q10\n",
    "    if type(i)==str:\n",
    "        print(i,end=' ')"
   ]
  },
  {
   "cell_type": "code",
   "execution_count": 72,
   "id": "ba336b83",
   "metadata": {},
   "outputs": [
    {
     "name": "stdout",
     "output_type": "stream",
     "text": [
      "k1 sudh k2 ineuron k3 kumar ineuron "
     ]
    }
   ],
   "source": [
    "# answer q13\n",
    "\n",
    "for i in li:     # li from q10\n",
    "    if type(i)==str:\n",
    "        if i.isalnum():\n",
    "            print(i,end=' ')"
   ]
  },
  {
   "cell_type": "code",
   "execution_count": 73,
   "id": "57c4492e",
   "metadata": {},
   "outputs": [],
   "source": [
    "# answer q14 -- incomplete\n",
    "\n",
    "# mul = 1\n",
    "# for i in l:\n",
    "#     mul = 1\n",
    "#     for j in i:\n",
    "#         if type(j)==int:\n",
    "#             mul *= j\n",
    "#     print(mul)\n",
    "    \n",
    "    \n",
    "# #     if type(i)==dict:\n",
    "# #         for j in i:\n",
    "# #             if type(j)==int:\n",
    "# #                 mul *= j\n",
    "# #             if type(i[j])==int:\n",
    "# #                 mul *= i[j]\n",
    "# #         print(mul)\n",
    "# #         mul = 1"
   ]
  },
  {
   "cell_type": "code",
   "execution_count": 74,
   "id": "d5ea8413",
   "metadata": {},
   "outputs": [
    {
     "name": "stdout",
     "output_type": "stream",
     "text": [
      "[1, 2, 3, 4, 2, 3, 4, 5, 6, 3, 4, 5, 6, 7, 45, 4, 5, 23, 'sudh', 'ineuron', 'kumar', 6, 8, 'ineuron', 'data science']\n"
     ]
    }
   ],
   "source": [
    "# answer q15\n",
    "\n",
    "li = []\n",
    "for i in l:\n",
    "    for j in i:\n",
    "        if type(i)==dict:\n",
    "            li.append(i[j])\n",
    "        else:    \n",
    "            li.append(j)\n",
    "print(li)            "
   ]
  },
  {
   "cell_type": "code",
   "execution_count": null,
   "id": "3756966e",
   "metadata": {},
   "outputs": [],
   "source": []
  }
 ],
 "metadata": {
  "kernelspec": {
   "display_name": "Python 3",
   "language": "python",
   "name": "python3"
  },
  "language_info": {
   "codemirror_mode": {
    "name": "ipython",
    "version": 3
   },
   "file_extension": ".py",
   "mimetype": "text/x-python",
   "name": "python",
   "nbconvert_exporter": "python",
   "pygments_lexer": "ipython3",
   "version": "3.8.8"
  }
 },
 "nbformat": 4,
 "nbformat_minor": 5
}

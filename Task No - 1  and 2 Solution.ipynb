{
 "cells": [
  {
   "cell_type": "markdown",
   "id": "7a3d5519",
   "metadata": {},
   "source": [
    "## Task No: 1"
   ]
  },
  {
   "cell_type": "code",
   "execution_count": null,
   "id": "aff9812b",
   "metadata": {},
   "outputs": [],
   "source": []
  },
  {
   "cell_type": "code",
   "execution_count": 27,
   "id": "51383297",
   "metadata": {},
   "outputs": [],
   "source": [
    "s = \"This is My First Python programming class and i am learNING python string and its function\""
   ]
  },
  {
   "cell_type": "code",
   "execution_count": 28,
   "id": "51082b7a",
   "metadata": {},
   "outputs": [],
   "source": [
    "# 1. Try to extract data from index one to index 300 with a jump of 3\n",
    "# 2. Try to reverse a string without using reverse function \n",
    "# 3. Try to split a string after conversion of entire string in uppercase\n",
    "# 4. Try to convert the whole string into lowercase\n",
    "# 5. Try to capitalize the whole string\n",
    "# 6. Write a difference between isalnum() and isalpha()\n",
    "# 7. Try to give an example of expand tab\n",
    "# 8. Give an example of strip, lstrip and rstrip\n",
    "# 9. Replace a string character by another charecter by taking your own example\n",
    "# 10. Try to give definition of string center function with an example \n",
    "# 11. write your own definition of compiler and interpretor without copy paste from \n",
    "#     internet in your language\n",
    "# 12. Python is a interpreted or compiled language give a clear ans with your understanding\n",
    "# 13. Try to write a usecase of python with your understanding"
   ]
  },
  {
   "cell_type": "code",
   "execution_count": null,
   "id": "e7c92306",
   "metadata": {},
   "outputs": [],
   "source": []
  },
  {
   "cell_type": "code",
   "execution_count": 30,
   "id": "1ede1497",
   "metadata": {},
   "outputs": [
    {
     "name": "stdout",
     "output_type": "stream",
     "text": [
      "h       r   t n r r m g l s n i m e N G y o s i   d t f c o "
     ]
    }
   ],
   "source": [
    "# Ans 1\n",
    "\n",
    "for i in range(1,len(s),3):\n",
    "    print(s[i], end=\" \")"
   ]
  },
  {
   "cell_type": "code",
   "execution_count": 31,
   "id": "2ed23ad7",
   "metadata": {},
   "outputs": [
    {
     "data": {
      "text/plain": [
       "'noitcnuf sti dna gnirts nohtyp GNINrael ma i dna ssalc gnimmargorp nohtyP tsriF yM si sihT'"
      ]
     },
     "execution_count": 31,
     "metadata": {},
     "output_type": "execute_result"
    }
   ],
   "source": [
    "# Ans 2\n",
    "\n",
    "s[::-1]"
   ]
  },
  {
   "cell_type": "code",
   "execution_count": 36,
   "id": "f8d9f99f",
   "metadata": {},
   "outputs": [
    {
     "data": {
      "text/plain": [
       "['THIS',\n",
       " 'IS',\n",
       " 'MY',\n",
       " 'FIRST',\n",
       " 'PYTHON',\n",
       " 'PROGRAMMING',\n",
       " 'CLASS',\n",
       " 'AND',\n",
       " 'I',\n",
       " 'AM',\n",
       " 'LEARNING',\n",
       " 'PYTHON',\n",
       " 'STRING',\n",
       " 'AND',\n",
       " 'ITS',\n",
       " 'FUNCTION']"
      ]
     },
     "execution_count": 36,
     "metadata": {},
     "output_type": "execute_result"
    }
   ],
   "source": [
    "# Ans 3\n",
    "\n",
    "s1 = s.upper()\n",
    "s1.split(\" \")"
   ]
  },
  {
   "cell_type": "code",
   "execution_count": 38,
   "id": "dcbc067d",
   "metadata": {},
   "outputs": [
    {
     "data": {
      "text/plain": [
       "'this is my first python programming class and i am learning python string and its function'"
      ]
     },
     "execution_count": 38,
     "metadata": {},
     "output_type": "execute_result"
    }
   ],
   "source": [
    "# Ans 4\n",
    "\n",
    "s.lower()"
   ]
  },
  {
   "cell_type": "code",
   "execution_count": 39,
   "id": "22727490",
   "metadata": {},
   "outputs": [
    {
     "data": {
      "text/plain": [
       "'This is my first python programming class and i am learning python string and its function'"
      ]
     },
     "execution_count": 39,
     "metadata": {},
     "output_type": "execute_result"
    }
   ],
   "source": [
    "# Ans 5\n",
    "\n",
    "s.capitalize()"
   ]
  },
  {
   "cell_type": "code",
   "execution_count": null,
   "id": "0f501937",
   "metadata": {},
   "outputs": [],
   "source": []
  },
  {
   "cell_type": "markdown",
   "id": "3e367423",
   "metadata": {},
   "source": [
    "#Ans 6\n",
    "\n",
    "**isalnum()**: Return True if the string is an alpha-numeric string, False otherwise.\n",
    "\n",
    "A string is alpha-numeric if all characters in the string are alpha-numeric and\n",
    "there is at least one character in the string.\n",
    "\n",
    "\n",
    "**isalpha()**: Return True if the string is an alphabetic string, False otherwise.\n",
    "\n",
    "A string is alphabetic if all characters in the string are alphabetic and there\n",
    "is at least one character in the string."
   ]
  },
  {
   "cell_type": "code",
   "execution_count": 44,
   "id": "e0eb5464",
   "metadata": {},
   "outputs": [
    {
     "name": "stdout",
     "output_type": "stream",
     "text": [
      "H    e    l    l    o\n"
     ]
    }
   ],
   "source": [
    "# Ans 7\n",
    "\n",
    "text = \"H\\te\\tl\\tl\\to\"\n",
    "\n",
    "x =  text.expandtabs(5)  # bydefault tab size will be 8, if no arguement is given\n",
    "\n",
    "print(x)"
   ]
  },
  {
   "cell_type": "code",
   "execution_count": 51,
   "id": "55f318a0",
   "metadata": {},
   "outputs": [
    {
     "name": "stdout",
     "output_type": "stream",
     "text": [
      "String with spaces :      withSpaces     \n",
      "spaceAtLeft\n",
      "SpacesAtRight\n",
      "SpacesAtBothSide\n"
     ]
    }
   ],
   "source": [
    "# Ans 8\n",
    "\n",
    "ss = \"     withSpaces     \"\n",
    "print(\"String with spaces\",\":\",ss)\n",
    "\n",
    "# lstrip\n",
    "s2 = \"     spaceAtLeft\"\n",
    "print(s2.lstrip()) ## Spaces will going to be removed\n",
    "\n",
    "# rstrip\n",
    "s3 = \"SpacesAtRight     \"\n",
    "print(s3.rstrip()) ## Spaces will going to be removed\n",
    "\n",
    "# strip\n",
    "s4 = \"    SpacesAtBothSide     \"\n",
    "print(s4.strip()) ## Both side spaces will going to be removed"
   ]
  },
  {
   "cell_type": "code",
   "execution_count": 54,
   "id": "801ca3f4",
   "metadata": {},
   "outputs": [
    {
     "data": {
      "text/plain": [
       "'ExaZple'"
      ]
     },
     "execution_count": 54,
     "metadata": {},
     "output_type": "execute_result"
    }
   ],
   "source": [
    "# Ans 9\n",
    "\n",
    "st = \"Example\"\n",
    "st[:3]+\"Z\"+st[4:]  # m is replaced by Z"
   ]
  },
  {
   "cell_type": "code",
   "execution_count": 59,
   "id": "71ad707a",
   "metadata": {},
   "outputs": [
    {
     "data": {
      "text/plain": [
       "'       SSSSS        '"
      ]
     },
     "execution_count": 59,
     "metadata": {},
     "output_type": "execute_result"
    }
   ],
   "source": [
    "# #Ans 10\n",
    "\n",
    "# String Center function: Return a centered string of length width. Takes lenght and fill character as arguement \n",
    "# Padding is done using the specified fill character (default is a space).\n",
    "    \n",
    "# Example \n",
    "\n",
    "strg = \"SSSSS\"\n",
    "strg.center(20)"
   ]
  },
  {
   "cell_type": "code",
   "execution_count": null,
   "id": "4b3b9a3f",
   "metadata": {},
   "outputs": [],
   "source": []
  },
  {
   "cell_type": "markdown",
   "id": "a32162ed",
   "metadata": {},
   "source": [
    "#ans 11\n",
    "\n",
    "**Compiler**: Compiler is used for high level programming language. \n",
    "    It translates the code written in high level language into machine language. \n",
    "    \n",
    "**Interpreter**: interpreter directly executes instructions written in a programming, \n",
    "    without compiling the code into a machine language."
   ]
  },
  {
   "cell_type": "code",
   "execution_count": null,
   "id": "b4d1e975",
   "metadata": {},
   "outputs": [],
   "source": []
  },
  {
   "cell_type": "markdown",
   "id": "a7cf56e7",
   "metadata": {},
   "source": [
    "#Ans 12\n",
    "\n",
    "Python is an interpreted language and not a compiled one. Python code, written in .py file is first converted to bytecode \n",
    "which is stored with a .pyc format. Instead of translating source code to machine code like C++. Python code it translated \n",
    "to bytecode. This bytecode is a low-level set of instructions that can be executed by an interpreter.  Instead of executing\n",
    "the instructions on CPU, bytecode instructions are executed on a Virtual Machine."
   ]
  },
  {
   "cell_type": "markdown",
   "id": "8148cb90",
   "metadata": {},
   "source": [
    "#Ans 13 \n",
    "\n",
    "Python usecases\n",
    "\n",
    "Python has many usecases like it can be used in web development, software development, game development, AI applications, data science etc.\n",
    "\n",
    "**Data Science** :\n",
    "Data scientists use Python to extract, process and manipulate data via various Python libraries, \n",
    "such as Pandas and SciPy.This language is relatively easy to learn when used in conjunction with data. \n",
    "As such, Python skills are increasingly in demand across both big and small data-driven organizations."
   ]
  },
  {
   "cell_type": "code",
   "execution_count": null,
   "id": "3a4d8b99",
   "metadata": {},
   "outputs": [],
   "source": []
  },
  {
   "cell_type": "markdown",
   "id": "447b819f",
   "metadata": {},
   "source": [
    "## Task No: 2"
   ]
  },
  {
   "cell_type": "code",
   "execution_count": 4,
   "id": "6bbb4734",
   "metadata": {},
   "outputs": [],
   "source": [
    "\n",
    "\n",
    "l = [3,4,5,6,7, [23,456,67,8,78,78], [345,56,87,8,98,9], (234,6657,6), {\"key1\":\"sudh\", 234:[23,45,656]}]\n",
    "\n",
    "# 1. try to reverse a list\n",
    "# 2. try to access 234 out this list\n",
    "# 3. try to access 456\n",
    "# 4. try to extract only a list collection from list l\n",
    "# 5. try to extract \"sudh\" \n",
    "# 6. try to list all the key in dict element available in list\n",
    "# 7. try to extract all the value element from dict available in list"
   ]
  },
  {
   "cell_type": "code",
   "execution_count": 5,
   "id": "a8e44471",
   "metadata": {},
   "outputs": [
    {
     "data": {
      "text/plain": [
       "[{'key1': 'sudh', 234: [23, 45, 656]},\n",
       " (234, 6657, 6),\n",
       " [345, 56, 87, 8, 98, 9],\n",
       " [23, 456, 67, 8, 78, 78],\n",
       " 7,\n",
       " 6,\n",
       " 5,\n",
       " 4,\n",
       " 3]"
      ]
     },
     "execution_count": 5,
     "metadata": {},
     "output_type": "execute_result"
    }
   ],
   "source": [
    "# Ans 1\n",
    "\n",
    "l[::-1]"
   ]
  },
  {
   "cell_type": "code",
   "execution_count": 16,
   "id": "5e22f1f5",
   "metadata": {},
   "outputs": [
    {
     "name": "stdout",
     "output_type": "stream",
     "text": [
      "Yes\n",
      "234 Found in : (234, 6657, 6)\n"
     ]
    }
   ],
   "source": [
    "# Ans 2\n",
    "\n",
    "for i in l:\n",
    "    if type(i)==list or type(i)==tuple:\n",
    "        for j in i:\n",
    "            if j == 234:\n",
    "                print(\"Yes\")\n",
    "                print(\"234 Found in\",\":\",i)"
   ]
  },
  {
   "cell_type": "code",
   "execution_count": 17,
   "id": "12ae554d",
   "metadata": {},
   "outputs": [
    {
     "name": "stdout",
     "output_type": "stream",
     "text": [
      "Yes\n",
      "456 Found in : [23, 456, 67, 8, 78, 78]\n"
     ]
    }
   ],
   "source": [
    "# Ans 3\n",
    "\n",
    "for i in l:\n",
    "    if type(i)==list or type(i)==tuple:\n",
    "        for j in i:\n",
    "            if j == 456:\n",
    "                print(\"Yes\")\n",
    "                print(\"456 Found in\",\":\",i)"
   ]
  },
  {
   "cell_type": "code",
   "execution_count": 18,
   "id": "d8c557b1",
   "metadata": {},
   "outputs": [
    {
     "name": "stdout",
     "output_type": "stream",
     "text": [
      "[23, 456, 67, 8, 78, 78]\n",
      "[345, 56, 87, 8, 98, 9]\n"
     ]
    }
   ],
   "source": [
    "# Ans 4\n",
    "\n",
    "for i in l:\n",
    "    if type(i)==list:\n",
    "        print(i)"
   ]
  },
  {
   "cell_type": "code",
   "execution_count": 20,
   "id": "42b266bd",
   "metadata": {},
   "outputs": [
    {
     "name": "stdout",
     "output_type": "stream",
     "text": [
      "sudh\n"
     ]
    }
   ],
   "source": [
    "# Ans 5 \n",
    "\n",
    "for i in l:\n",
    "    if type(i)==dict:\n",
    "        print(i[\"key1\"])"
   ]
  },
  {
   "cell_type": "code",
   "execution_count": 21,
   "id": "f9b9c54e",
   "metadata": {},
   "outputs": [
    {
     "name": "stdout",
     "output_type": "stream",
     "text": [
      "key1 234 "
     ]
    }
   ],
   "source": [
    "# Ans 6 \n",
    "\n",
    "for i in l:\n",
    "    if type(i)==dict:\n",
    "        for j in i:\n",
    "            print(j, end=\" \")"
   ]
  },
  {
   "cell_type": "code",
   "execution_count": 22,
   "id": "a812a0e1",
   "metadata": {},
   "outputs": [
    {
     "name": "stdout",
     "output_type": "stream",
     "text": [
      "sudh [23, 45, 656] "
     ]
    }
   ],
   "source": [
    "# Ans 7\n",
    "\n",
    "for i in l:\n",
    "    if type(i)==dict:\n",
    "        for j in i:\n",
    "            print(i[j], end=\" \")"
   ]
  },
  {
   "cell_type": "code",
   "execution_count": null,
   "id": "e9f3ef60",
   "metadata": {},
   "outputs": [],
   "source": []
  },
  {
   "cell_type": "code",
   "execution_count": null,
   "id": "7e7d8e8f",
   "metadata": {},
   "outputs": [],
   "source": []
  }
 ],
 "metadata": {
  "kernelspec": {
   "display_name": "Python 3",
   "language": "python",
   "name": "python3"
  },
  "language_info": {
   "codemirror_mode": {
    "name": "ipython",
    "version": 3
   },
   "file_extension": ".py",
   "mimetype": "text/x-python",
   "name": "python",
   "nbconvert_exporter": "python",
   "pygments_lexer": "ipython3",
   "version": "3.8.8"
  }
 },
 "nbformat": 4,
 "nbformat_minor": 5
}
